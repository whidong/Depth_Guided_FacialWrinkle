{
 "cells": [
  {
   "cell_type": "code",
   "execution_count": 1,
   "id": "4d73ee6b-3f25-4ffe-bbae-0898d2d8fa84",
   "metadata": {},
   "outputs": [
    {
     "name": "stderr",
     "output_type": "stream",
     "text": [
      "/home/dhai/anaconda3/envs/monai_env/lib/python3.9/site-packages/tqdm/auto.py:21: TqdmWarning: IProgress not found. Please update jupyter and ipywidgets. See https://ipywidgets.readthedocs.io/en/stable/user_install.html\n",
      "  from .autonotebook import tqdm as notebook_tqdm\n"
     ]
    }
   ],
   "source": [
    "import sys\n",
    "sys.path.append(\"../\")  # 프로젝트 루트를 경로에 추가\n",
    "from model import create_model\n",
    "import re \n",
    "import os\n",
    "from PIL import Image\n",
    "import numpy as np\n",
    "import torch\n",
    "import torch.nn as nn\n",
    "import torch.optim as optim\n",
    "from torch.amp import GradScaler, autocast\n",
    "from torch.utils.tensorboard import SummaryWriter\n",
    "from torch.utils.data import Dataset, DataLoader\n",
    "from torchvision.transforms import ToTensor\n",
    "from tqdm import tqdm\n",
    "import albumentations as A\n",
    "from albumentations.pytorch import ToTensorV2"
   ]
  },
  {
   "cell_type": "code",
   "execution_count": 2,
   "id": "250ea6aa-d97b-4104-8fe2-7eb80b433b0b",
   "metadata": {},
   "outputs": [
    {
     "name": "stdout",
     "output_type": "stream",
     "text": [
      "UNet Model:\n",
      "UNet(\n",
      "  (model): Sequential(\n",
      "    (0): ResidualUnit(\n",
      "      (conv): Sequential(\n",
      "        (unit0): Convolution(\n",
      "          (conv): Conv2d(4, 16, kernel_size=(3, 3), stride=(2, 2), padding=(1, 1))\n",
      "          (adn): ADN(\n",
      "            (N): InstanceNorm2d(16, eps=1e-05, momentum=0.1, affine=False, track_running_stats=False)\n",
      "            (D): Dropout(p=0.0, inplace=False)\n",
      "            (A): PReLU(num_parameters=1)\n",
      "          )\n",
      "        )\n",
      "        (unit1): Convolution(\n",
      "          (conv): Conv2d(16, 16, kernel_size=(3, 3), stride=(1, 1), padding=(1, 1))\n",
      "          (adn): ADN(\n",
      "            (N): InstanceNorm2d(16, eps=1e-05, momentum=0.1, affine=False, track_running_stats=False)\n",
      "            (D): Dropout(p=0.0, inplace=False)\n",
      "            (A): PReLU(num_parameters=1)\n",
      "          )\n",
      "        )\n",
      "      )\n",
      "      (residual): Conv2d(4, 16, kernel_size=(3, 3), stride=(2, 2), padding=(1, 1))\n",
      "    )\n",
      "    (1): SkipConnection(\n",
      "      (submodule): Sequential(\n",
      "        (0): ResidualUnit(\n",
      "          (conv): Sequential(\n",
      "            (unit0): Convolution(\n",
      "              (conv): Conv2d(16, 32, kernel_size=(3, 3), stride=(2, 2), padding=(1, 1))\n",
      "              (adn): ADN(\n",
      "                (N): InstanceNorm2d(32, eps=1e-05, momentum=0.1, affine=False, track_running_stats=False)\n",
      "                (D): Dropout(p=0.0, inplace=False)\n",
      "                (A): PReLU(num_parameters=1)\n",
      "              )\n",
      "            )\n",
      "            (unit1): Convolution(\n",
      "              (conv): Conv2d(32, 32, kernel_size=(3, 3), stride=(1, 1), padding=(1, 1))\n",
      "              (adn): ADN(\n",
      "                (N): InstanceNorm2d(32, eps=1e-05, momentum=0.1, affine=False, track_running_stats=False)\n",
      "                (D): Dropout(p=0.0, inplace=False)\n",
      "                (A): PReLU(num_parameters=1)\n",
      "              )\n",
      "            )\n",
      "          )\n",
      "          (residual): Conv2d(16, 32, kernel_size=(3, 3), stride=(2, 2), padding=(1, 1))\n",
      "        )\n",
      "        (1): SkipConnection(\n",
      "          (submodule): Sequential(\n",
      "            (0): ResidualUnit(\n",
      "              (conv): Sequential(\n",
      "                (unit0): Convolution(\n",
      "                  (conv): Conv2d(32, 64, kernel_size=(3, 3), stride=(2, 2), padding=(1, 1))\n",
      "                  (adn): ADN(\n",
      "                    (N): InstanceNorm2d(64, eps=1e-05, momentum=0.1, affine=False, track_running_stats=False)\n",
      "                    (D): Dropout(p=0.0, inplace=False)\n",
      "                    (A): PReLU(num_parameters=1)\n",
      "                  )\n",
      "                )\n",
      "                (unit1): Convolution(\n",
      "                  (conv): Conv2d(64, 64, kernel_size=(3, 3), stride=(1, 1), padding=(1, 1))\n",
      "                  (adn): ADN(\n",
      "                    (N): InstanceNorm2d(64, eps=1e-05, momentum=0.1, affine=False, track_running_stats=False)\n",
      "                    (D): Dropout(p=0.0, inplace=False)\n",
      "                    (A): PReLU(num_parameters=1)\n",
      "                  )\n",
      "                )\n",
      "              )\n",
      "              (residual): Conv2d(32, 64, kernel_size=(3, 3), stride=(2, 2), padding=(1, 1))\n",
      "            )\n",
      "            (1): SkipConnection(\n",
      "              (submodule): Sequential(\n",
      "                (0): ResidualUnit(\n",
      "                  (conv): Sequential(\n",
      "                    (unit0): Convolution(\n",
      "                      (conv): Conv2d(64, 128, kernel_size=(3, 3), stride=(2, 2), padding=(1, 1))\n",
      "                      (adn): ADN(\n",
      "                        (N): InstanceNorm2d(128, eps=1e-05, momentum=0.1, affine=False, track_running_stats=False)\n",
      "                        (D): Dropout(p=0.0, inplace=False)\n",
      "                        (A): PReLU(num_parameters=1)\n",
      "                      )\n",
      "                    )\n",
      "                    (unit1): Convolution(\n",
      "                      (conv): Conv2d(128, 128, kernel_size=(3, 3), stride=(1, 1), padding=(1, 1))\n",
      "                      (adn): ADN(\n",
      "                        (N): InstanceNorm2d(128, eps=1e-05, momentum=0.1, affine=False, track_running_stats=False)\n",
      "                        (D): Dropout(p=0.0, inplace=False)\n",
      "                        (A): PReLU(num_parameters=1)\n",
      "                      )\n",
      "                    )\n",
      "                  )\n",
      "                  (residual): Conv2d(64, 128, kernel_size=(3, 3), stride=(2, 2), padding=(1, 1))\n",
      "                )\n",
      "                (1): SkipConnection(\n",
      "                  (submodule): ResidualUnit(\n",
      "                    (conv): Sequential(\n",
      "                      (unit0): Convolution(\n",
      "                        (conv): Conv2d(128, 256, kernel_size=(3, 3), stride=(1, 1), padding=(1, 1))\n",
      "                        (adn): ADN(\n",
      "                          (N): InstanceNorm2d(256, eps=1e-05, momentum=0.1, affine=False, track_running_stats=False)\n",
      "                          (D): Dropout(p=0.0, inplace=False)\n",
      "                          (A): PReLU(num_parameters=1)\n",
      "                        )\n",
      "                      )\n",
      "                      (unit1): Convolution(\n",
      "                        (conv): Conv2d(256, 256, kernel_size=(3, 3), stride=(1, 1), padding=(1, 1))\n",
      "                        (adn): ADN(\n",
      "                          (N): InstanceNorm2d(256, eps=1e-05, momentum=0.1, affine=False, track_running_stats=False)\n",
      "                          (D): Dropout(p=0.0, inplace=False)\n",
      "                          (A): PReLU(num_parameters=1)\n",
      "                        )\n",
      "                      )\n",
      "                    )\n",
      "                    (residual): Conv2d(128, 256, kernel_size=(1, 1), stride=(1, 1))\n",
      "                  )\n",
      "                )\n",
      "                (2): Sequential(\n",
      "                  (0): Convolution(\n",
      "                    (conv): ConvTranspose2d(384, 64, kernel_size=(3, 3), stride=(2, 2), padding=(1, 1), output_padding=(1, 1))\n",
      "                    (adn): ADN(\n",
      "                      (N): InstanceNorm2d(64, eps=1e-05, momentum=0.1, affine=False, track_running_stats=False)\n",
      "                      (D): Dropout(p=0.0, inplace=False)\n",
      "                      (A): PReLU(num_parameters=1)\n",
      "                    )\n",
      "                  )\n",
      "                  (1): ResidualUnit(\n",
      "                    (conv): Sequential(\n",
      "                      (unit0): Convolution(\n",
      "                        (conv): Conv2d(64, 64, kernel_size=(3, 3), stride=(1, 1), padding=(1, 1))\n",
      "                        (adn): ADN(\n",
      "                          (N): InstanceNorm2d(64, eps=1e-05, momentum=0.1, affine=False, track_running_stats=False)\n",
      "                          (D): Dropout(p=0.0, inplace=False)\n",
      "                          (A): PReLU(num_parameters=1)\n",
      "                        )\n",
      "                      )\n",
      "                    )\n",
      "                    (residual): Identity()\n",
      "                  )\n",
      "                )\n",
      "              )\n",
      "            )\n",
      "            (2): Sequential(\n",
      "              (0): Convolution(\n",
      "                (conv): ConvTranspose2d(128, 32, kernel_size=(3, 3), stride=(2, 2), padding=(1, 1), output_padding=(1, 1))\n",
      "                (adn): ADN(\n",
      "                  (N): InstanceNorm2d(32, eps=1e-05, momentum=0.1, affine=False, track_running_stats=False)\n",
      "                  (D): Dropout(p=0.0, inplace=False)\n",
      "                  (A): PReLU(num_parameters=1)\n",
      "                )\n",
      "              )\n",
      "              (1): ResidualUnit(\n",
      "                (conv): Sequential(\n",
      "                  (unit0): Convolution(\n",
      "                    (conv): Conv2d(32, 32, kernel_size=(3, 3), stride=(1, 1), padding=(1, 1))\n",
      "                    (adn): ADN(\n",
      "                      (N): InstanceNorm2d(32, eps=1e-05, momentum=0.1, affine=False, track_running_stats=False)\n",
      "                      (D): Dropout(p=0.0, inplace=False)\n",
      "                      (A): PReLU(num_parameters=1)\n",
      "                    )\n",
      "                  )\n",
      "                )\n",
      "                (residual): Identity()\n",
      "              )\n",
      "            )\n",
      "          )\n",
      "        )\n",
      "        (2): Sequential(\n",
      "          (0): Convolution(\n",
      "            (conv): ConvTranspose2d(64, 16, kernel_size=(3, 3), stride=(2, 2), padding=(1, 1), output_padding=(1, 1))\n",
      "            (adn): ADN(\n",
      "              (N): InstanceNorm2d(16, eps=1e-05, momentum=0.1, affine=False, track_running_stats=False)\n",
      "              (D): Dropout(p=0.0, inplace=False)\n",
      "              (A): PReLU(num_parameters=1)\n",
      "            )\n",
      "          )\n",
      "          (1): ResidualUnit(\n",
      "            (conv): Sequential(\n",
      "              (unit0): Convolution(\n",
      "                (conv): Conv2d(16, 16, kernel_size=(3, 3), stride=(1, 1), padding=(1, 1))\n",
      "                (adn): ADN(\n",
      "                  (N): InstanceNorm2d(16, eps=1e-05, momentum=0.1, affine=False, track_running_stats=False)\n",
      "                  (D): Dropout(p=0.0, inplace=False)\n",
      "                  (A): PReLU(num_parameters=1)\n",
      "                )\n",
      "              )\n",
      "            )\n",
      "            (residual): Identity()\n",
      "          )\n",
      "        )\n",
      "      )\n",
      "    )\n",
      "    (2): Sequential(\n",
      "      (0): Convolution(\n",
      "        (conv): ConvTranspose2d(32, 1, kernel_size=(3, 3), stride=(2, 2), padding=(1, 1), output_padding=(1, 1))\n",
      "        (adn): ADN(\n",
      "          (N): InstanceNorm2d(1, eps=1e-05, momentum=0.1, affine=False, track_running_stats=False)\n",
      "          (D): Dropout(p=0.0, inplace=False)\n",
      "          (A): PReLU(num_parameters=1)\n",
      "        )\n",
      "      )\n",
      "      (1): ResidualUnit(\n",
      "        (conv): Sequential(\n",
      "          (unit0): Convolution(\n",
      "            (conv): Conv2d(1, 1, kernel_size=(3, 3), stride=(1, 1), padding=(1, 1))\n",
      "          )\n",
      "        )\n",
      "        (residual): Identity()\n",
      "      )\n",
      "    )\n",
      "  )\n",
      ")\n"
     ]
    }
   ],
   "source": [
    "# UNet 모델 생성 (2D 데이터 예제)\n",
    "unet_model = create_model(\n",
    "    model_type=\"unet\",        # UNet 모델 타입\n",
    "    in_channels=4,           # 입력 채널 수\n",
    "    out_channels=1           # 출력 채널 수 (클래스 수)\n",
    ").cuda()\n",
    "\n",
    "print(\"UNet Model:\")\n",
    "print(unet_model)"
   ]
  },
  {
   "cell_type": "code",
   "execution_count": 3,
   "id": "67d281e7-cc53-49c9-ba12-5ad01fe8d759",
   "metadata": {},
   "outputs": [],
   "source": [
    "class WrinkleDataset(Dataset):\n",
    "    def __init__(self, rgb_paths, depth_paths, label_paths, transform=None, min_depth=55.0, max_depth=247.0):\n",
    "        \"\"\"\n",
    "        Args:\n",
    "            rgb_paths (str): RGB 이미지 경로.\n",
    "            depth_paths (str): Depth 맵 경로.\n",
    "            label_paths (str): Masked Texture Map 경로.\n",
    "            transform (callable, optional): 데이터 변환 함수.\n",
    "        \"\"\"\n",
    "        self.rgb_paths = rgb_paths\n",
    "        self.depth_paths = depth_paths\n",
    "        self.label_paths = label_paths\n",
    "        self.transform = transform\n",
    "\n",
    "        # RGB 이미지 정규화를 위한 평균과 표준편차\n",
    "        self.rgb_mean = np.array([0.485, 0.456, 0.406])\n",
    "        self.rgb_std = np.array([0.229, 0.224, 0.225])\n",
    "        \n",
    "        # Depth 이미지 정규화를 위한 최소값과 최대값\n",
    "        self.min_depth = min_depth\n",
    "        self.max_depth = max_depth\n",
    "\n",
    "    def __len__(self):\n",
    "        return len(self.rgb_paths)\n",
    "\n",
    "    def __getitem__(self, idx):\n",
    "        rgb_path = self.rgb_paths[idx]\n",
    "        depth_path = self.depth_paths[idx]\n",
    "        label_path = self.label_paths[idx]\n",
    "\n",
    "        # RGB 및 Depth 이미지 로드\n",
    "        rgb_image =  np.array(Image.open(rgb_path).convert(\"RGB\")).astype(np.float32)\n",
    "        rgb_image = rgb_image / 255.0  # [0, 1] 범위로 스케일링\n",
    "        \n",
    "        depth_image = np.array(Image.open(depth_path).convert(\"L\")).astype(np.float32)\n",
    "        depth_image = (depth_image - self.min_depth) / (self.max_depth - self.min_depth)\n",
    "        depth_image = np.clip(depth_image, 0, 1)\n",
    "        depth_image = np.expand_dims(depth_image, axis=-1)  # (H, W, 1)\n",
    "\n",
    "        # 4채널 입력 생성\n",
    "        input_image  = np.concatenate((rgb_image, depth_image), axis=-1)  # (H, W, 4)\n",
    "\n",
    "        # Label (Masked Texture Map) 로드\n",
    "        label = np.array(Image.open(label_path).convert(\"L\")).astype(np.float32)\n",
    "        label = label / 255.0\n",
    "\n",
    "        # Transform 적용\n",
    "        if self.transform:\n",
    "            augmented = self.transform(image=input_image, mask=label)\n",
    "            input_image = augmented['image']\n",
    "            label = augmented['mask']\n",
    "        else:\n",
    "            # ToTensor 변환\n",
    "            input_image = ToTensorV2()(image=input_image)['image']\n",
    "            label = ToTensorV2()(image=label)['image']\n",
    "\n",
    "        return input_image , label\n",
    "# 데이터 증강 함수 정의     \n",
    "def get_augmentations():\n",
    "    return A.Compose([\n",
    "        A.HorizontalFlip(p=0.5),\n",
    "        A.ShiftScaleRotate(shift_limit=0.1, scale_limit=0.1, rotate_limit=15, p=0.5),\n",
    "        A.ElasticTransform(alpha=1, sigma=50, p=0.2),  # 'affine' 인자 제거\n",
    "        A.GridDistortion(num_steps=5, distort_limit=0.3, p=0.2),\n",
    "        A.OpticalDistortion(distort_limit=0.5, shift_limit=0.5, p=0.2),\n",
    "        A.Affine(scale=(0.8, 1.2), translate_percent=(0.1, 0.1), rotate=(-15, 15), shear=(-10, 10), p=0.5),\n",
    "        A.Normalize(mean=(0.485, 0.456, 0.406, 0.0), std=(0.229, 0.224, 0.225, 1.0)),  # Depth 채널 포함\n",
    "        ToTensorV2()\n",
    "    ])\n",
    "\n",
    "scaler = GradScaler()\n",
    "\n",
    "# 학습 및 검증 함수\n",
    "def train_epoch(loader, model, criterion, optimizer):\n",
    "    model.train()\n",
    "    epoch_loss = 0\n",
    "    for inputs, labels in tqdm(loader, desc=\"Training\"):\n",
    "        inputs, labels = inputs.cuda(), labels.cuda()\n",
    "\n",
    "        labels = labels.unsqueeze(1)\n",
    "        \n",
    "        optimizer.zero_grad()\n",
    "        \n",
    "        # Forward\n",
    "        with autocast(device_type='cuda'):\n",
    "            outputs = model(inputs)\n",
    "            loss = criterion(outputs, labels)\n",
    "\n",
    "        # Backward\n",
    "        \n",
    "        scaler.scale(loss).backward()\n",
    "        scaler.step(optimizer)\n",
    "        scaler.update()\n",
    "\n",
    "        epoch_loss += loss.item()\n",
    "    return epoch_loss / len(loader)\n",
    "\n",
    "def validate_epoch(loader, model, criterion, epoch):\n",
    "    model.eval()\n",
    "    epoch_loss = 0\n",
    "    with torch.no_grad():\n",
    "        for idx, (inputs, labels) in enumerate(tqdm(loader, desc=\"Validation\")):\n",
    "            inputs, labels = inputs.cuda(), labels.cuda()\n",
    "            labels = labels.unsqueeze(1)\n",
    "            with autocast(device_type='cuda'):\n",
    "                outputs = model(inputs)\n",
    "                loss = criterion(outputs, labels)\n",
    "            epoch_loss += loss.item()\n",
    "\n",
    "            # 일부 예측 결과 저장\n",
    "            if idx < 5:  # 처음 5개 배치의 결과를 저장\n",
    "                save_pretraining_results(inputs, outputs, labels, epoch, idx)\n",
    "                \n",
    "    return epoch_loss / len(loader)\n",
    "\n",
    "# 전체 Depth 이미지에서 최소값과 최대값 계산\n",
    "def calculate_depth_min_max(depth_paths):\n",
    "    min_depth = float('inf')\n",
    "    max_depth = float('-inf')\n",
    "\n",
    "    for depth_path in depth_paths:\n",
    "        depth_image = np.array(Image.open(depth_path).convert(\"L\")).astype(np.float32)\n",
    "        min_depth = min(min_depth, depth_image.min())\n",
    "        max_depth = max(max_depth, depth_image.max())\n",
    "\n",
    "    return min_depth, max_depth\n",
    "\n",
    "\n",
    "# 모든 파일 경로 수집 함수\n",
    "def collect_file_paths(root_dir, start_folder=0, end_folder=49000):\n",
    "    file_paths = []\n",
    "    for dirpath, dirnames, filenames in os.walk(root_dir):\n",
    "        # 현재 폴더의 이름 추출\n",
    "        current_folder = os.path.basename(dirpath)\n",
    "        # 폴더 이름이 숫자로만 이루어져 있는지 확인\n",
    "        if current_folder.isdigit():\n",
    "            folder_number = int(current_folder)\n",
    "            # 폴더 번호가 범위 내에 있는지 확인\n",
    "            if start_folder <= folder_number <= end_folder:\n",
    "                for filename in filenames:\n",
    "                    if filename.endswith('.png') and filename not in manual_mask_files:\n",
    "                        # 파일 이름에서 숫자 부분 추출\n",
    "                        file_base_name = filename[:-4]  # '.png' 제거\n",
    "                        # 숫자로만 이루어진 파일 이름인지 확인\n",
    "                        if re.fullmatch(r'\\d+', file_base_name):\n",
    "                            file_paths.append(os.path.join(dirpath, filename))\n",
    "    return sorted(file_paths)\n",
    "\n",
    "# 매칭된 파일 경로 리스트 생성\n",
    "def get_folder_name(file_name):\n",
    "    file_base_name = file_name[:-4]  # '.png' 제거\n",
    "    # 파일 이름에서 숫자 부분 추출\n",
    "    number_str = ''.join(filter(str.isdigit, file_base_name))\n",
    "    if number_str == '':\n",
    "        raise ValueError(f\"파일 이름에서 숫자를 추출할 수 없습니다: {file_name}\")\n",
    "    number = int(number_str)\n",
    "    folder_number = (number // 1000) * 1000\n",
    "    folder_name = f\"{folder_number:05d}\"\n",
    "    return folder_name\n",
    "\n",
    "def save_pretraining_results(inputs, outputs, labels, epoch, batch_idx):\n",
    "    # 배치에서 첫 번째 이미지 사용\n",
    "    input_image = inputs[0].cpu().detach()\n",
    "    output_image = outputs[0].cpu().detach()\n",
    "    label_image = labels[0].cpu().detach()\n",
    "    \n",
    "    # 입력 이미지의 RGB 채널만 사용\n",
    "    input_image_rgb = input_image[:3]  # RGB 채널\n",
    "    \n",
    "    # 시각화를 위해 [0, 1] 범위로 스케일링\n",
    "    input_image_rgb = (input_image_rgb - input_image_rgb.min()) / (input_image_rgb.max() - input_image_rgb.min())\n",
    "    if len(output_image.shape) == 2:\n",
    "        output_image = output_image.unsqueeze(0)  # shape: (1, H, W)\n",
    "    if len(label_image.shape) == 2:\n",
    "        label_image = label_image.unsqueeze(0)    # shape: (1, H, W)\n",
    "\n",
    "    # 시각화를 위해 [0, 1] 범위로 스케일링\n",
    "    output_image = (output_image - output_image.min()) / (output_image.max() - output_image.min())\n",
    "    label_image = (label_image - label_image.min()) / (label_image.max() - label_image.min())\n",
    "    \n",
    "    \n",
    "    # TensorBoard에 이미지 추가\n",
    "    writer.add_image(f'Validation/Input_Epoch_{epoch}_Batch_{batch_idx}', input_image_rgb, epoch)\n",
    "    writer.add_image(f'Validation/Predicted_Epoch_{epoch}_Batch_{batch_idx}', output_image, epoch)\n",
    "    writer.add_image(f'Validation/GroundTruth_Epoch_{epoch}_Batch_{batch_idx}', label_image, epoch)\n"
   ]
  },
  {
   "cell_type": "code",
   "execution_count": 4,
   "id": "09cfe0e0-5ac7-472b-b5bf-a6f2c5f1f6ea",
   "metadata": {},
   "outputs": [
    {
     "name": "stdout",
     "output_type": "stream",
     "text": [
      "총 데이터 개수: 49000\n"
     ]
    }
   ],
   "source": [
    "# 데이터 로더 정의\n",
    "rgb_dir = \"../data/images1024x1024\"\n",
    "depth_dir = \"../data/depth_masking\"\n",
    "label_dir = \"../data/weak_wrinkle_masks\"\n",
    "\n",
    "# Ground Truth 주름 마스크 파일 이름 수집\n",
    "manual_mask_dir = \"../data/manual_wrinkle_masks\"\n",
    "manual_mask_files = []\n",
    "\n",
    "for dirpath, dirnames, filenames in os.walk(manual_mask_dir):\n",
    "    for filename in filenames:\n",
    "        if filename.endswith('.png'):\n",
    "            manual_mask_files.append(filename)\n",
    "\n",
    "manual_mask_files = set(manual_mask_files)  # 집합으로 변환하여 검색 속도 향상\n",
    "    \n",
    "# RGB, Depth, Label 파일 경로 수집\n",
    "rgb_paths = collect_file_paths(rgb_dir, start_folder=0, end_folder=49000)\n",
    "depth_paths = collect_file_paths(depth_dir, start_folder=0, end_folder=49000)\n",
    "label_paths = collect_file_paths(label_dir, start_folder=0, end_folder=49000)\n",
    "\n",
    "# 파일 이름만 추출하여 리스트 생성\n",
    "rgb_files = [os.path.basename(path) for path in rgb_paths]\n",
    "depth_files = [os.path.basename(path) for path in depth_paths]\n",
    "label_files = [os.path.basename(path) for path in label_paths]\n",
    "\n",
    "# 파일 이름이 동일한 것들만 매칭\n",
    "common_files = set(rgb_files) & set(depth_files) & set(label_files)\n",
    "common_files = sorted(list(common_files))\n",
    "\n",
    "# 매칭된 파일 경로 리스트 생성\n",
    "rgb_paths = [os.path.join(rgb_dir, get_folder_name(f), f) for f in common_files]\n",
    "depth_paths = [os.path.join(depth_dir, get_folder_name(f), f) for f in common_files]\n",
    "label_paths = [os.path.join(label_dir, get_folder_name(f), f) for f in common_files]\n",
    "\n",
    "# 파일 경로 존재 여부 확인 및 필터링\n",
    "rgb_paths = [path for path in rgb_paths if os.path.exists(path)]\n",
    "depth_paths = [path for path in depth_paths if os.path.exists(path)]\n",
    "label_paths = [path for path in label_paths if os.path.exists(path)]\n",
    "\n",
    "# 데이터셋 분할을 위한 파일 경로 리스트 생성\n",
    "data = list(zip(rgb_paths, depth_paths, label_paths))\n",
    "print(f\"총 데이터 개수: {len(data)}\")"
   ]
  },
  {
   "cell_type": "code",
   "execution_count": 5,
   "id": "70fc9467-4510-4b73-8b08-4af645832971",
   "metadata": {},
   "outputs": [
    {
     "name": "stdout",
     "output_type": "stream",
     "text": [
      "Depth 이미지의 최소값: 55.0, 최대값: 247.0\n"
     ]
    }
   ],
   "source": [
    "# min_depth, max_depth = calculate_depth_min_max(depth_paths)\n",
    "min_depth, max_depth = 55.0, 247.0\n",
    "print(f\"Depth 이미지의 최소값: {min_depth}, 최대값: {max_depth}\")"
   ]
  },
  {
   "cell_type": "code",
   "execution_count": 6,
   "id": "86d43938-fe7e-4f85-a7b9-1de776138b7d",
   "metadata": {},
   "outputs": [],
   "source": [
    "# 데이터 셔플\n",
    "import random\n",
    "random.shuffle(data)\n",
    "\n",
    "# 데이터 분할\n",
    "train_size = int(0.8 * len(data))\n",
    "train_data = data[:train_size]\n",
    "val_data = data[train_size:]\n",
    "\n",
    "# 학습 및 검증 데이터셋 생성\n",
    "train_rgb_paths, train_depth_paths, train_label_paths = zip(*train_data)\n",
    "val_rgb_paths, val_depth_paths, val_label_paths = zip(*val_data)\n",
    "\n",
    "# 변환 정의\n",
    "train_transform = get_augmentations()\n",
    "val_transform = A.Compose([\n",
    "    A.Normalize(mean=(0.485, 0.456, 0.406, 0.0), std=(0.229, 0.224, 0.225, 1.0)),\n",
    "    ToTensorV2()\n",
    "])\n",
    "\n",
    "# 배치 크기 두 배로 증가\n",
    "batch_size = 26\n",
    "\n",
    "# 데이터셋 생성\n",
    "train_dataset = WrinkleDataset(train_rgb_paths, train_depth_paths, train_label_paths, transform=train_transform, min_depth=min_depth, max_depth=max_depth)\n",
    "val_dataset = WrinkleDataset(val_rgb_paths, val_depth_paths, val_label_paths, transform=val_transform, min_depth=min_depth, max_depth=max_depth)\n",
    "\n",
    "# 데이터로더 생성\n",
    "train_loader = DataLoader(train_dataset, batch_size=batch_size, shuffle=True, num_workers=4)\n",
    "val_loader = DataLoader(val_dataset, batch_size=batch_size, shuffle=False, num_workers=4)\n",
    "\n",
    "\n",
    "# 손실 함수 및 옵티마이저 정의\n",
    "criterion = nn.MSELoss()  # Mean Squared Error (MSE)\n",
    "optimizer = optim.AdamW(\n",
    "    unet_model.parameters(),   # 모델의 학습 가능한 파라미터\n",
    "    lr=0.001,             # 학습률\n",
    "    weight_decay=0.05,    # Weight Decay (L2 Regularization)\n",
    "    betas=(0.9, 0.999)    # β1=0.9, β2=0.999\n",
    ")\n",
    "\n",
    "# Cosine Annealing Warm Restarts 스케줄러\n",
    "scheduler = optim.lr_scheduler.CosineAnnealingWarmRestarts(\n",
    "    optimizer,\n",
    "    T_0=100,   # 첫 번째 주기 (에폭)\n",
    "    T_mult=2   # 이후 주기 길이 배수 증가\n",
    ")"
   ]
  },
  {
   "cell_type": "code",
   "execution_count": 7,
   "id": "e893c73d-5c15-40f5-83a5-b0ef687cc73f",
   "metadata": {},
   "outputs": [
    {
     "name": "stdout",
     "output_type": "stream",
     "text": [
      "Epoch 1/300\n"
     ]
    },
    {
     "name": "stderr",
     "output_type": "stream",
     "text": [
      "Training: 100%|█████████████████████████████| 1508/1508 [17:07<00:00,  1.47it/s]\n",
      "Validation: 100%|█████████████████████████████| 377/377 [03:24<00:00,  1.85it/s]\n"
     ]
    },
    {
     "name": "stdout",
     "output_type": "stream",
     "text": [
      "Train Loss: 0.0026, Val Loss: 0.0004\n",
      "Epoch 2/300\n"
     ]
    },
    {
     "name": "stderr",
     "output_type": "stream",
     "text": [
      "Training: 100%|█████████████████████████████| 1508/1508 [16:58<00:00,  1.48it/s]\n",
      "Validation: 100%|█████████████████████████████| 377/377 [03:21<00:00,  1.87it/s]\n"
     ]
    },
    {
     "name": "stdout",
     "output_type": "stream",
     "text": [
      "Train Loss: 0.0004, Val Loss: 0.0004\n",
      "Epoch 3/300\n"
     ]
    },
    {
     "name": "stderr",
     "output_type": "stream",
     "text": [
      "Training: 100%|█████████████████████████████| 1508/1508 [16:59<00:00,  1.48it/s]\n",
      "Validation: 100%|█████████████████████████████| 377/377 [03:23<00:00,  1.86it/s]\n"
     ]
    },
    {
     "name": "stdout",
     "output_type": "stream",
     "text": [
      "Train Loss: 0.0003, Val Loss: 0.0003\n",
      "Epoch 4/300\n"
     ]
    },
    {
     "name": "stderr",
     "output_type": "stream",
     "text": [
      "Training: 100%|█████████████████████████████| 1508/1508 [16:55<00:00,  1.49it/s]\n",
      "Validation: 100%|█████████████████████████████| 377/377 [03:22<00:00,  1.86it/s]\n"
     ]
    },
    {
     "name": "stdout",
     "output_type": "stream",
     "text": [
      "Train Loss: 0.0003, Val Loss: 0.0002\n",
      "Epoch 5/300\n"
     ]
    },
    {
     "name": "stderr",
     "output_type": "stream",
     "text": [
      "Training: 100%|█████████████████████████████| 1508/1508 [16:53<00:00,  1.49it/s]\n",
      "Validation: 100%|█████████████████████████████| 377/377 [03:24<00:00,  1.84it/s]\n"
     ]
    },
    {
     "name": "stdout",
     "output_type": "stream",
     "text": [
      "Train Loss: 0.0002, Val Loss: 0.0003\n",
      "Epoch 6/300\n"
     ]
    },
    {
     "name": "stderr",
     "output_type": "stream",
     "text": [
      "Training: 100%|█████████████████████████████| 1508/1508 [16:53<00:00,  1.49it/s]\n",
      "Validation: 100%|█████████████████████████████| 377/377 [03:24<00:00,  1.85it/s]\n"
     ]
    },
    {
     "name": "stdout",
     "output_type": "stream",
     "text": [
      "Train Loss: 0.0003, Val Loss: 0.0004\n",
      "Epoch 7/300\n"
     ]
    },
    {
     "name": "stderr",
     "output_type": "stream",
     "text": [
      "Training: 100%|█████████████████████████████| 1508/1508 [16:56<00:00,  1.48it/s]\n",
      "Validation: 100%|█████████████████████████████| 377/377 [03:23<00:00,  1.85it/s]\n"
     ]
    },
    {
     "name": "stdout",
     "output_type": "stream",
     "text": [
      "Train Loss: 0.0003, Val Loss: 0.0002\n",
      "Epoch 8/300\n"
     ]
    },
    {
     "name": "stderr",
     "output_type": "stream",
     "text": [
      "Training: 100%|█████████████████████████████| 1508/1508 [16:59<00:00,  1.48it/s]\n",
      "Validation: 100%|█████████████████████████████| 377/377 [03:22<00:00,  1.87it/s]\n"
     ]
    },
    {
     "name": "stdout",
     "output_type": "stream",
     "text": [
      "Train Loss: 0.0002, Val Loss: 0.0002\n",
      "Epoch 9/300\n"
     ]
    },
    {
     "name": "stderr",
     "output_type": "stream",
     "text": [
      "Training: 100%|█████████████████████████████| 1508/1508 [16:58<00:00,  1.48it/s]\n",
      "Validation: 100%|█████████████████████████████| 377/377 [03:21<00:00,  1.87it/s]\n"
     ]
    },
    {
     "name": "stdout",
     "output_type": "stream",
     "text": [
      "Train Loss: 0.0002, Val Loss: 0.0002\n",
      "Epoch 10/300\n"
     ]
    },
    {
     "name": "stderr",
     "output_type": "stream",
     "text": [
      "Training: 100%|█████████████████████████████| 1508/1508 [16:56<00:00,  1.48it/s]\n",
      "Validation: 100%|█████████████████████████████| 377/377 [03:21<00:00,  1.87it/s]\n"
     ]
    },
    {
     "name": "stdout",
     "output_type": "stream",
     "text": [
      "Train Loss: 0.0002, Val Loss: 0.0002\n",
      "Epoch 11/300\n"
     ]
    },
    {
     "name": "stderr",
     "output_type": "stream",
     "text": [
      "Training: 100%|█████████████████████████████| 1508/1508 [16:56<00:00,  1.48it/s]\n",
      "Validation: 100%|█████████████████████████████| 377/377 [03:21<00:00,  1.87it/s]\n"
     ]
    },
    {
     "name": "stdout",
     "output_type": "stream",
     "text": [
      "Train Loss: 0.0002, Val Loss: 0.0002\n",
      "Epoch 12/300\n"
     ]
    },
    {
     "name": "stderr",
     "output_type": "stream",
     "text": [
      "Training: 100%|█████████████████████████████| 1508/1508 [16:53<00:00,  1.49it/s]\n",
      "Validation: 100%|█████████████████████████████| 377/377 [03:23<00:00,  1.85it/s]\n"
     ]
    },
    {
     "name": "stdout",
     "output_type": "stream",
     "text": [
      "Train Loss: 0.0002, Val Loss: 0.0002\n",
      "Epoch 13/300\n"
     ]
    },
    {
     "name": "stderr",
     "output_type": "stream",
     "text": [
      "Training: 100%|█████████████████████████████| 1508/1508 [16:57<00:00,  1.48it/s]\n",
      "Validation: 100%|█████████████████████████████| 377/377 [03:24<00:00,  1.85it/s]\n"
     ]
    },
    {
     "name": "stdout",
     "output_type": "stream",
     "text": [
      "Train Loss: 0.0002, Val Loss: 0.0002\n",
      "Epoch 14/300\n"
     ]
    },
    {
     "name": "stderr",
     "output_type": "stream",
     "text": [
      "Training: 100%|█████████████████████████████| 1508/1508 [16:50<00:00,  1.49it/s]\n",
      "Validation: 100%|█████████████████████████████| 377/377 [03:23<00:00,  1.85it/s]\n"
     ]
    },
    {
     "name": "stdout",
     "output_type": "stream",
     "text": [
      "Train Loss: 0.0002, Val Loss: 0.0002\n",
      "Epoch 15/300\n"
     ]
    },
    {
     "name": "stderr",
     "output_type": "stream",
     "text": [
      "Training: 100%|█████████████████████████████| 1508/1508 [16:55<00:00,  1.49it/s]\n",
      "Validation: 100%|█████████████████████████████| 377/377 [03:23<00:00,  1.85it/s]\n"
     ]
    },
    {
     "name": "stdout",
     "output_type": "stream",
     "text": [
      "Train Loss: 0.0002, Val Loss: 0.0002\n",
      "Epoch 16/300\n"
     ]
    },
    {
     "name": "stderr",
     "output_type": "stream",
     "text": [
      "Training: 100%|█████████████████████████████| 1508/1508 [16:50<00:00,  1.49it/s]\n",
      "Validation: 100%|█████████████████████████████| 377/377 [03:22<00:00,  1.87it/s]\n"
     ]
    },
    {
     "name": "stdout",
     "output_type": "stream",
     "text": [
      "Train Loss: 0.0002, Val Loss: 0.0002\n",
      "Epoch 17/300\n"
     ]
    },
    {
     "name": "stderr",
     "output_type": "stream",
     "text": [
      "Training: 100%|█████████████████████████████| 1508/1508 [16:59<00:00,  1.48it/s]\n",
      "Validation: 100%|█████████████████████████████| 377/377 [03:22<00:00,  1.86it/s]\n"
     ]
    },
    {
     "name": "stdout",
     "output_type": "stream",
     "text": [
      "Train Loss: 0.0002, Val Loss: 0.0002\n",
      "Epoch 18/300\n"
     ]
    },
    {
     "name": "stderr",
     "output_type": "stream",
     "text": [
      "Training: 100%|█████████████████████████████| 1508/1508 [17:02<00:00,  1.47it/s]\n",
      "Validation: 100%|█████████████████████████████| 377/377 [03:26<00:00,  1.83it/s]\n"
     ]
    },
    {
     "name": "stdout",
     "output_type": "stream",
     "text": [
      "Train Loss: 0.0002, Val Loss: 0.0002\n",
      "Epoch 19/300\n"
     ]
    },
    {
     "name": "stderr",
     "output_type": "stream",
     "text": [
      "Training: 100%|█████████████████████████████| 1508/1508 [16:51<00:00,  1.49it/s]\n",
      "Validation: 100%|█████████████████████████████| 377/377 [03:23<00:00,  1.85it/s]\n"
     ]
    },
    {
     "name": "stdout",
     "output_type": "stream",
     "text": [
      "Train Loss: 0.0002, Val Loss: 0.0002\n",
      "Epoch 20/300\n"
     ]
    },
    {
     "name": "stderr",
     "output_type": "stream",
     "text": [
      "Training: 100%|█████████████████████████████| 1508/1508 [17:01<00:00,  1.48it/s]\n",
      "Validation: 100%|█████████████████████████████| 377/377 [03:22<00:00,  1.86it/s]\n"
     ]
    },
    {
     "name": "stdout",
     "output_type": "stream",
     "text": [
      "Train Loss: 0.0002, Val Loss: 0.0002\n",
      "Epoch 21/300\n"
     ]
    },
    {
     "name": "stderr",
     "output_type": "stream",
     "text": [
      "Training: 100%|█████████████████████████████| 1508/1508 [16:54<00:00,  1.49it/s]\n",
      "Validation: 100%|█████████████████████████████| 377/377 [03:22<00:00,  1.87it/s]\n"
     ]
    },
    {
     "name": "stdout",
     "output_type": "stream",
     "text": [
      "Train Loss: 0.0002, Val Loss: 0.0002\n",
      "Epoch 22/300\n"
     ]
    },
    {
     "name": "stderr",
     "output_type": "stream",
     "text": [
      "Training: 100%|█████████████████████████████| 1508/1508 [16:56<00:00,  1.48it/s]\n",
      "Validation: 100%|█████████████████████████████| 377/377 [03:25<00:00,  1.84it/s]\n"
     ]
    },
    {
     "name": "stdout",
     "output_type": "stream",
     "text": [
      "Train Loss: 0.0002, Val Loss: 0.0002\n",
      "Epoch 23/300\n"
     ]
    },
    {
     "name": "stderr",
     "output_type": "stream",
     "text": [
      "Training: 100%|█████████████████████████████| 1508/1508 [17:02<00:00,  1.47it/s]\n",
      "Validation: 100%|█████████████████████████████| 377/377 [03:26<00:00,  1.82it/s]\n"
     ]
    },
    {
     "name": "stdout",
     "output_type": "stream",
     "text": [
      "Train Loss: 0.0002, Val Loss: 0.0002\n",
      "Epoch 24/300\n"
     ]
    },
    {
     "name": "stderr",
     "output_type": "stream",
     "text": [
      "Training: 100%|█████████████████████████████| 1508/1508 [16:42<00:00,  1.50it/s]\n",
      "Validation: 100%|█████████████████████████████| 377/377 [03:26<00:00,  1.82it/s]\n"
     ]
    },
    {
     "name": "stdout",
     "output_type": "stream",
     "text": [
      "Train Loss: 0.0002, Val Loss: 0.0002\n",
      "Epoch 25/300\n"
     ]
    },
    {
     "name": "stderr",
     "output_type": "stream",
     "text": [
      "Training: 100%|█████████████████████████████| 1508/1508 [17:02<00:00,  1.47it/s]\n",
      "Validation: 100%|█████████████████████████████| 377/377 [03:27<00:00,  1.82it/s]\n"
     ]
    },
    {
     "name": "stdout",
     "output_type": "stream",
     "text": [
      "Train Loss: 0.0002, Val Loss: 0.0002\n",
      "Epoch 26/300\n"
     ]
    },
    {
     "name": "stderr",
     "output_type": "stream",
     "text": [
      "Training: 100%|█████████████████████████████| 1508/1508 [16:57<00:00,  1.48it/s]\n",
      "Validation: 100%|█████████████████████████████| 377/377 [03:25<00:00,  1.84it/s]\n"
     ]
    },
    {
     "name": "stdout",
     "output_type": "stream",
     "text": [
      "Train Loss: 0.0002, Val Loss: 0.0002\n",
      "Epoch 27/300\n"
     ]
    },
    {
     "name": "stderr",
     "output_type": "stream",
     "text": [
      "Training: 100%|█████████████████████████████| 1508/1508 [17:04<00:00,  1.47it/s]\n",
      "Validation: 100%|█████████████████████████████| 377/377 [03:25<00:00,  1.83it/s]\n"
     ]
    },
    {
     "name": "stdout",
     "output_type": "stream",
     "text": [
      "Train Loss: 0.0002, Val Loss: 0.0002\n",
      "Epoch 28/300\n"
     ]
    },
    {
     "name": "stderr",
     "output_type": "stream",
     "text": [
      "Training: 100%|█████████████████████████████| 1508/1508 [17:04<00:00,  1.47it/s]\n",
      "Validation: 100%|█████████████████████████████| 377/377 [03:19<00:00,  1.89it/s]\n"
     ]
    },
    {
     "name": "stdout",
     "output_type": "stream",
     "text": [
      "Train Loss: 0.0002, Val Loss: 0.0002\n",
      "Epoch 29/300\n"
     ]
    },
    {
     "name": "stderr",
     "output_type": "stream",
     "text": [
      "Training: 100%|█████████████████████████████| 1508/1508 [17:05<00:00,  1.47it/s]\n",
      "Validation: 100%|█████████████████████████████| 377/377 [03:27<00:00,  1.81it/s]\n"
     ]
    },
    {
     "name": "stdout",
     "output_type": "stream",
     "text": [
      "Train Loss: 0.0002, Val Loss: 0.0002\n",
      "Epoch 30/300\n"
     ]
    },
    {
     "name": "stderr",
     "output_type": "stream",
     "text": [
      "Training: 100%|█████████████████████████████| 1508/1508 [16:42<00:00,  1.50it/s]\n",
      "Validation: 100%|█████████████████████████████| 377/377 [03:18<00:00,  1.90it/s]\n"
     ]
    },
    {
     "name": "stdout",
     "output_type": "stream",
     "text": [
      "Train Loss: 0.0002, Val Loss: 0.0002\n",
      "Epoch 31/300\n"
     ]
    },
    {
     "name": "stderr",
     "output_type": "stream",
     "text": [
      "Training: 100%|█████████████████████████████| 1508/1508 [17:05<00:00,  1.47it/s]\n",
      "Validation: 100%|█████████████████████████████| 377/377 [03:25<00:00,  1.84it/s]\n"
     ]
    },
    {
     "name": "stdout",
     "output_type": "stream",
     "text": [
      "Train Loss: 0.0002, Val Loss: 0.0002\n",
      "Epoch 32/300\n"
     ]
    },
    {
     "name": "stderr",
     "output_type": "stream",
     "text": [
      "Training: 100%|█████████████████████████████| 1508/1508 [17:06<00:00,  1.47it/s]\n",
      "Validation: 100%|█████████████████████████████| 377/377 [03:27<00:00,  1.82it/s]\n"
     ]
    },
    {
     "name": "stdout",
     "output_type": "stream",
     "text": [
      "Train Loss: 0.0002, Val Loss: 0.0002\n",
      "Epoch 33/300\n"
     ]
    },
    {
     "name": "stderr",
     "output_type": "stream",
     "text": [
      "Training: 100%|█████████████████████████████| 1508/1508 [17:04<00:00,  1.47it/s]\n",
      "Validation: 100%|█████████████████████████████| 377/377 [03:26<00:00,  1.82it/s]\n"
     ]
    },
    {
     "name": "stdout",
     "output_type": "stream",
     "text": [
      "Train Loss: 0.0002, Val Loss: 0.0002\n",
      "Epoch 34/300\n"
     ]
    },
    {
     "name": "stderr",
     "output_type": "stream",
     "text": [
      "Training: 100%|█████████████████████████████| 1508/1508 [16:58<00:00,  1.48it/s]\n",
      "Validation: 100%|█████████████████████████████| 377/377 [03:19<00:00,  1.89it/s]\n"
     ]
    },
    {
     "name": "stdout",
     "output_type": "stream",
     "text": [
      "Train Loss: 0.0002, Val Loss: 0.0002\n",
      "Epoch 35/300\n"
     ]
    },
    {
     "name": "stderr",
     "output_type": "stream",
     "text": [
      "Training: 100%|█████████████████████████████| 1508/1508 [17:06<00:00,  1.47it/s]\n",
      "Validation: 100%|█████████████████████████████| 377/377 [03:25<00:00,  1.83it/s]\n"
     ]
    },
    {
     "name": "stdout",
     "output_type": "stream",
     "text": [
      "Train Loss: 0.0002, Val Loss: 0.0002\n",
      "Epoch 36/300\n"
     ]
    },
    {
     "name": "stderr",
     "output_type": "stream",
     "text": [
      "Training: 100%|█████████████████████████████| 1508/1508 [16:42<00:00,  1.50it/s]\n",
      "Validation: 100%|█████████████████████████████| 377/377 [03:26<00:00,  1.83it/s]\n"
     ]
    },
    {
     "name": "stdout",
     "output_type": "stream",
     "text": [
      "Train Loss: 0.0002, Val Loss: 0.0002\n",
      "Epoch 37/300\n"
     ]
    },
    {
     "name": "stderr",
     "output_type": "stream",
     "text": [
      "Training: 100%|█████████████████████████████| 1508/1508 [17:08<00:00,  1.47it/s]\n",
      "Validation: 100%|█████████████████████████████| 377/377 [03:26<00:00,  1.82it/s]\n"
     ]
    },
    {
     "name": "stdout",
     "output_type": "stream",
     "text": [
      "Train Loss: 0.0002, Val Loss: 0.0002\n",
      "Epoch 38/300\n"
     ]
    },
    {
     "name": "stderr",
     "output_type": "stream",
     "text": [
      "Training: 100%|█████████████████████████████| 1508/1508 [17:05<00:00,  1.47it/s]\n",
      "Validation: 100%|█████████████████████████████| 377/377 [03:19<00:00,  1.89it/s]\n"
     ]
    },
    {
     "name": "stdout",
     "output_type": "stream",
     "text": [
      "Train Loss: 0.0002, Val Loss: 0.0002\n",
      "Epoch 39/300\n"
     ]
    },
    {
     "name": "stderr",
     "output_type": "stream",
     "text": [
      "Training: 100%|█████████████████████████████| 1508/1508 [16:40<00:00,  1.51it/s]\n",
      "Validation: 100%|█████████████████████████████| 377/377 [03:26<00:00,  1.83it/s]\n"
     ]
    },
    {
     "name": "stdout",
     "output_type": "stream",
     "text": [
      "Train Loss: 0.0002, Val Loss: 0.0002\n",
      "Epoch 40/300\n"
     ]
    },
    {
     "name": "stderr",
     "output_type": "stream",
     "text": [
      "Training: 100%|█████████████████████████████| 1508/1508 [17:04<00:00,  1.47it/s]\n",
      "Validation: 100%|█████████████████████████████| 377/377 [03:26<00:00,  1.83it/s]\n"
     ]
    },
    {
     "name": "stdout",
     "output_type": "stream",
     "text": [
      "Train Loss: 0.0002, Val Loss: 0.0002\n",
      "Epoch 41/300\n"
     ]
    },
    {
     "name": "stderr",
     "output_type": "stream",
     "text": [
      "Training: 100%|█████████████████████████████| 1508/1508 [17:07<00:00,  1.47it/s]\n",
      "Validation: 100%|█████████████████████████████| 377/377 [03:25<00:00,  1.83it/s]\n"
     ]
    },
    {
     "name": "stdout",
     "output_type": "stream",
     "text": [
      "Train Loss: 0.0002, Val Loss: 0.0002\n",
      "Epoch 42/300\n"
     ]
    },
    {
     "name": "stderr",
     "output_type": "stream",
     "text": [
      "Training: 100%|█████████████████████████████| 1508/1508 [17:08<00:00,  1.47it/s]\n",
      "Validation: 100%|█████████████████████████████| 377/377 [03:27<00:00,  1.81it/s]\n"
     ]
    },
    {
     "name": "stdout",
     "output_type": "stream",
     "text": [
      "Train Loss: 0.0002, Val Loss: 0.0002\n",
      "Epoch 43/300\n"
     ]
    },
    {
     "name": "stderr",
     "output_type": "stream",
     "text": [
      "Training: 100%|█████████████████████████████| 1508/1508 [17:01<00:00,  1.48it/s]\n",
      "Validation: 100%|█████████████████████████████| 377/377 [03:25<00:00,  1.84it/s]\n"
     ]
    },
    {
     "name": "stdout",
     "output_type": "stream",
     "text": [
      "Train Loss: 0.0002, Val Loss: 0.0002\n",
      "Epoch 44/300\n"
     ]
    },
    {
     "name": "stderr",
     "output_type": "stream",
     "text": [
      "Training: 100%|█████████████████████████████| 1508/1508 [17:12<00:00,  1.46it/s]\n",
      "Validation: 100%|█████████████████████████████| 377/377 [03:28<00:00,  1.81it/s]\n"
     ]
    },
    {
     "name": "stdout",
     "output_type": "stream",
     "text": [
      "Train Loss: 0.0002, Val Loss: 0.0002\n",
      "Epoch 45/300\n"
     ]
    },
    {
     "name": "stderr",
     "output_type": "stream",
     "text": [
      "Training: 100%|█████████████████████████████| 1508/1508 [17:11<00:00,  1.46it/s]\n",
      "Validation: 100%|█████████████████████████████| 377/377 [03:26<00:00,  1.82it/s]\n"
     ]
    },
    {
     "name": "stdout",
     "output_type": "stream",
     "text": [
      "Train Loss: 0.0002, Val Loss: 0.0002\n",
      "Epoch 46/300\n"
     ]
    },
    {
     "name": "stderr",
     "output_type": "stream",
     "text": [
      "Training: 100%|█████████████████████████████| 1508/1508 [17:04<00:00,  1.47it/s]\n",
      "Validation: 100%|█████████████████████████████| 377/377 [03:24<00:00,  1.84it/s]\n"
     ]
    },
    {
     "name": "stdout",
     "output_type": "stream",
     "text": [
      "Train Loss: 0.0002, Val Loss: 0.0002\n",
      "Epoch 47/300\n"
     ]
    },
    {
     "name": "stderr",
     "output_type": "stream",
     "text": [
      "Training: 100%|█████████████████████████████| 1508/1508 [17:04<00:00,  1.47it/s]\n",
      "Validation: 100%|█████████████████████████████| 377/377 [03:26<00:00,  1.83it/s]\n"
     ]
    },
    {
     "name": "stdout",
     "output_type": "stream",
     "text": [
      "Train Loss: 0.0002, Val Loss: 0.0002\n",
      "Epoch 48/300\n"
     ]
    },
    {
     "name": "stderr",
     "output_type": "stream",
     "text": [
      "Training: 100%|█████████████████████████████| 1508/1508 [17:09<00:00,  1.47it/s]\n",
      "Validation: 100%|█████████████████████████████| 377/377 [03:27<00:00,  1.82it/s]\n"
     ]
    },
    {
     "name": "stdout",
     "output_type": "stream",
     "text": [
      "Train Loss: 0.0002, Val Loss: 0.0002\n",
      "Epoch 49/300\n"
     ]
    },
    {
     "name": "stderr",
     "output_type": "stream",
     "text": [
      "Training: 100%|█████████████████████████████| 1508/1508 [17:06<00:00,  1.47it/s]\n",
      "Validation: 100%|█████████████████████████████| 377/377 [03:25<00:00,  1.84it/s]\n"
     ]
    },
    {
     "name": "stdout",
     "output_type": "stream",
     "text": [
      "Train Loss: 0.0002, Val Loss: 0.0002\n",
      "Epoch 50/300\n"
     ]
    },
    {
     "name": "stderr",
     "output_type": "stream",
     "text": [
      "Training: 100%|█████████████████████████████| 1508/1508 [17:02<00:00,  1.48it/s]\n",
      "Validation: 100%|█████████████████████████████| 377/377 [03:19<00:00,  1.89it/s]\n"
     ]
    },
    {
     "name": "stdout",
     "output_type": "stream",
     "text": [
      "Train Loss: 0.0002, Val Loss: 0.0002\n",
      "Epoch 51/300\n"
     ]
    },
    {
     "name": "stderr",
     "output_type": "stream",
     "text": [
      "Training: 100%|█████████████████████████████| 1508/1508 [17:00<00:00,  1.48it/s]\n",
      "Validation: 100%|█████████████████████████████| 377/377 [03:25<00:00,  1.83it/s]\n"
     ]
    },
    {
     "name": "stdout",
     "output_type": "stream",
     "text": [
      "Train Loss: 0.0002, Val Loss: 0.0002\n",
      "Epoch 52/300\n"
     ]
    },
    {
     "name": "stderr",
     "output_type": "stream",
     "text": [
      "Training: 100%|█████████████████████████████| 1508/1508 [17:08<00:00,  1.47it/s]\n",
      "Validation: 100%|█████████████████████████████| 377/377 [03:24<00:00,  1.85it/s]\n"
     ]
    },
    {
     "name": "stdout",
     "output_type": "stream",
     "text": [
      "Train Loss: 0.0002, Val Loss: 0.0002\n",
      "Epoch 53/300\n"
     ]
    },
    {
     "name": "stderr",
     "output_type": "stream",
     "text": [
      "Training: 100%|█████████████████████████████| 1508/1508 [17:07<00:00,  1.47it/s]\n",
      "Validation: 100%|█████████████████████████████| 377/377 [03:27<00:00,  1.82it/s]\n"
     ]
    },
    {
     "name": "stdout",
     "output_type": "stream",
     "text": [
      "Train Loss: 0.0002, Val Loss: 0.0002\n",
      "Epoch 54/300\n"
     ]
    },
    {
     "name": "stderr",
     "output_type": "stream",
     "text": [
      "Training: 100%|█████████████████████████████| 1508/1508 [16:41<00:00,  1.51it/s]\n",
      "Validation: 100%|█████████████████████████████| 377/377 [03:19<00:00,  1.89it/s]\n"
     ]
    },
    {
     "name": "stdout",
     "output_type": "stream",
     "text": [
      "Train Loss: 0.0002, Val Loss: 0.0002\n",
      "Epoch 55/300\n"
     ]
    },
    {
     "name": "stderr",
     "output_type": "stream",
     "text": [
      "Training: 100%|█████████████████████████████| 1508/1508 [16:54<00:00,  1.49it/s]\n",
      "Validation: 100%|█████████████████████████████| 377/377 [03:18<00:00,  1.90it/s]\n"
     ]
    },
    {
     "name": "stdout",
     "output_type": "stream",
     "text": [
      "Train Loss: 0.0002, Val Loss: 0.0002\n",
      "Epoch 56/300\n"
     ]
    },
    {
     "name": "stderr",
     "output_type": "stream",
     "text": [
      "Training: 100%|█████████████████████████████| 1508/1508 [17:06<00:00,  1.47it/s]\n",
      "Validation: 100%|█████████████████████████████| 377/377 [03:25<00:00,  1.84it/s]\n"
     ]
    },
    {
     "name": "stdout",
     "output_type": "stream",
     "text": [
      "Train Loss: 0.0002, Val Loss: 0.0002\n",
      "Epoch 57/300\n"
     ]
    },
    {
     "name": "stderr",
     "output_type": "stream",
     "text": [
      "Training: 100%|█████████████████████████████| 1508/1508 [17:05<00:00,  1.47it/s]\n",
      "Validation: 100%|█████████████████████████████| 377/377 [03:24<00:00,  1.84it/s]\n"
     ]
    },
    {
     "name": "stdout",
     "output_type": "stream",
     "text": [
      "Train Loss: 0.0002, Val Loss: 0.0002\n",
      "Epoch 58/300\n"
     ]
    },
    {
     "name": "stderr",
     "output_type": "stream",
     "text": [
      "Training: 100%|█████████████████████████████| 1508/1508 [17:07<00:00,  1.47it/s]\n",
      "Validation: 100%|█████████████████████████████| 377/377 [03:20<00:00,  1.88it/s]\n"
     ]
    },
    {
     "name": "stdout",
     "output_type": "stream",
     "text": [
      "Train Loss: 0.0002, Val Loss: 0.0002\n",
      "Epoch 59/300\n"
     ]
    },
    {
     "name": "stderr",
     "output_type": "stream",
     "text": [
      "Training: 100%|█████████████████████████████| 1508/1508 [16:48<00:00,  1.49it/s]\n",
      "Validation: 100%|█████████████████████████████| 377/377 [03:29<00:00,  1.80it/s]\n"
     ]
    },
    {
     "name": "stdout",
     "output_type": "stream",
     "text": [
      "Train Loss: 0.0002, Val Loss: 0.0002\n",
      "Epoch 60/300\n"
     ]
    },
    {
     "name": "stderr",
     "output_type": "stream",
     "text": [
      "Training: 100%|█████████████████████████████| 1508/1508 [17:09<00:00,  1.46it/s]\n",
      "Validation: 100%|█████████████████████████████| 377/377 [03:26<00:00,  1.82it/s]\n"
     ]
    },
    {
     "name": "stdout",
     "output_type": "stream",
     "text": [
      "Train Loss: 0.0002, Val Loss: 0.0001\n",
      "Epoch 61/300\n"
     ]
    },
    {
     "name": "stderr",
     "output_type": "stream",
     "text": [
      "Training: 100%|█████████████████████████████| 1508/1508 [17:10<00:00,  1.46it/s]\n",
      "Validation: 100%|█████████████████████████████| 377/377 [03:25<00:00,  1.84it/s]\n"
     ]
    },
    {
     "name": "stdout",
     "output_type": "stream",
     "text": [
      "Train Loss: 0.0002, Val Loss: 0.0001\n",
      "Epoch 62/300\n"
     ]
    },
    {
     "name": "stderr",
     "output_type": "stream",
     "text": [
      "Training: 100%|█████████████████████████████| 1508/1508 [16:55<00:00,  1.49it/s]\n",
      "Validation: 100%|█████████████████████████████| 377/377 [03:28<00:00,  1.81it/s]\n"
     ]
    },
    {
     "name": "stdout",
     "output_type": "stream",
     "text": [
      "Train Loss: 0.0002, Val Loss: 0.0001\n",
      "Epoch 63/300\n"
     ]
    },
    {
     "name": "stderr",
     "output_type": "stream",
     "text": [
      "Training: 100%|█████████████████████████████| 1508/1508 [16:44<00:00,  1.50it/s]\n",
      "Validation: 100%|█████████████████████████████| 377/377 [03:26<00:00,  1.82it/s]\n"
     ]
    },
    {
     "name": "stdout",
     "output_type": "stream",
     "text": [
      "Train Loss: 0.0002, Val Loss: 0.0001\n",
      "Epoch 64/300\n"
     ]
    },
    {
     "name": "stderr",
     "output_type": "stream",
     "text": [
      "Training: 100%|█████████████████████████████| 1508/1508 [17:17<00:00,  1.45it/s]\n",
      "Validation: 100%|█████████████████████████████| 377/377 [03:28<00:00,  1.81it/s]\n"
     ]
    },
    {
     "name": "stdout",
     "output_type": "stream",
     "text": [
      "Train Loss: 0.0002, Val Loss: 0.0002\n",
      "Epoch 65/300\n"
     ]
    },
    {
     "name": "stderr",
     "output_type": "stream",
     "text": [
      "Training: 100%|█████████████████████████████| 1508/1508 [17:10<00:00,  1.46it/s]\n",
      "Validation: 100%|█████████████████████████████| 377/377 [03:27<00:00,  1.81it/s]\n"
     ]
    },
    {
     "name": "stdout",
     "output_type": "stream",
     "text": [
      "Train Loss: 0.0002, Val Loss: 0.0001\n",
      "Epoch 66/300\n"
     ]
    },
    {
     "name": "stderr",
     "output_type": "stream",
     "text": [
      "Training: 100%|█████████████████████████████| 1508/1508 [17:05<00:00,  1.47it/s]\n",
      "Validation: 100%|█████████████████████████████| 377/377 [03:29<00:00,  1.80it/s]\n"
     ]
    },
    {
     "name": "stdout",
     "output_type": "stream",
     "text": [
      "Train Loss: 0.0002, Val Loss: 0.0002\n",
      "Epoch 67/300\n"
     ]
    },
    {
     "name": "stderr",
     "output_type": "stream",
     "text": [
      "Training: 100%|█████████████████████████████| 1508/1508 [16:46<00:00,  1.50it/s]\n",
      "Validation: 100%|█████████████████████████████| 377/377 [03:24<00:00,  1.84it/s]\n"
     ]
    },
    {
     "name": "stdout",
     "output_type": "stream",
     "text": [
      "Train Loss: 0.0002, Val Loss: 0.0002\n",
      "Epoch 68/300\n"
     ]
    },
    {
     "name": "stderr",
     "output_type": "stream",
     "text": [
      "Training: 100%|█████████████████████████████| 1508/1508 [16:54<00:00,  1.49it/s]\n",
      "Validation: 100%|█████████████████████████████| 377/377 [03:26<00:00,  1.83it/s]\n"
     ]
    },
    {
     "name": "stdout",
     "output_type": "stream",
     "text": [
      "Train Loss: 0.0002, Val Loss: 0.0001\n",
      "Epoch 69/300\n"
     ]
    },
    {
     "name": "stderr",
     "output_type": "stream",
     "text": [
      "Training: 100%|█████████████████████████████| 1508/1508 [16:57<00:00,  1.48it/s]\n",
      "Validation: 100%|█████████████████████████████| 377/377 [03:25<00:00,  1.84it/s]\n"
     ]
    },
    {
     "name": "stdout",
     "output_type": "stream",
     "text": [
      "Train Loss: 0.0002, Val Loss: 0.0001\n",
      "Epoch 70/300\n"
     ]
    },
    {
     "name": "stderr",
     "output_type": "stream",
     "text": [
      "Training: 100%|█████████████████████████████| 1508/1508 [17:04<00:00,  1.47it/s]\n",
      "Validation: 100%|█████████████████████████████| 377/377 [03:25<00:00,  1.83it/s]\n"
     ]
    },
    {
     "name": "stdout",
     "output_type": "stream",
     "text": [
      "Train Loss: 0.0002, Val Loss: 0.0001\n",
      "Epoch 71/300\n"
     ]
    },
    {
     "name": "stderr",
     "output_type": "stream",
     "text": [
      "Training: 100%|█████████████████████████████| 1508/1508 [16:51<00:00,  1.49it/s]\n",
      "Validation: 100%|█████████████████████████████| 377/377 [03:26<00:00,  1.83it/s]\n"
     ]
    },
    {
     "name": "stdout",
     "output_type": "stream",
     "text": [
      "Train Loss: 0.0002, Val Loss: 0.0001\n",
      "Epoch 72/300\n"
     ]
    },
    {
     "name": "stderr",
     "output_type": "stream",
     "text": [
      "Training: 100%|█████████████████████████████| 1508/1508 [16:57<00:00,  1.48it/s]\n",
      "Validation: 100%|█████████████████████████████| 377/377 [03:24<00:00,  1.84it/s]\n"
     ]
    },
    {
     "name": "stdout",
     "output_type": "stream",
     "text": [
      "Train Loss: 0.0002, Val Loss: 0.0001\n",
      "Epoch 73/300\n"
     ]
    },
    {
     "name": "stderr",
     "output_type": "stream",
     "text": [
      "Training: 100%|█████████████████████████████| 1508/1508 [16:59<00:00,  1.48it/s]\n",
      "Validation: 100%|█████████████████████████████| 377/377 [03:27<00:00,  1.81it/s]\n"
     ]
    },
    {
     "name": "stdout",
     "output_type": "stream",
     "text": [
      "Train Loss: 0.0002, Val Loss: 0.0001\n",
      "Epoch 74/300\n"
     ]
    },
    {
     "name": "stderr",
     "output_type": "stream",
     "text": [
      "Training: 100%|█████████████████████████████| 1508/1508 [17:01<00:00,  1.48it/s]\n",
      "Validation: 100%|█████████████████████████████| 377/377 [03:26<00:00,  1.83it/s]\n"
     ]
    },
    {
     "name": "stdout",
     "output_type": "stream",
     "text": [
      "Train Loss: 0.0002, Val Loss: 0.0001\n",
      "Epoch 75/300\n"
     ]
    },
    {
     "name": "stderr",
     "output_type": "stream",
     "text": [
      "Training: 100%|█████████████████████████████| 1508/1508 [16:56<00:00,  1.48it/s]\n",
      "Validation: 100%|█████████████████████████████| 377/377 [03:24<00:00,  1.85it/s]\n"
     ]
    },
    {
     "name": "stdout",
     "output_type": "stream",
     "text": [
      "Train Loss: 0.0002, Val Loss: 0.0001\n",
      "Epoch 76/300\n"
     ]
    },
    {
     "name": "stderr",
     "output_type": "stream",
     "text": [
      "Training: 100%|█████████████████████████████| 1508/1508 [17:03<00:00,  1.47it/s]\n",
      "Validation: 100%|█████████████████████████████| 377/377 [03:24<00:00,  1.85it/s]\n"
     ]
    },
    {
     "name": "stdout",
     "output_type": "stream",
     "text": [
      "Train Loss: 0.0002, Val Loss: 0.0001\n",
      "Epoch 77/300\n"
     ]
    },
    {
     "name": "stderr",
     "output_type": "stream",
     "text": [
      "Training: 100%|█████████████████████████████| 1508/1508 [16:57<00:00,  1.48it/s]\n",
      "Validation: 100%|█████████████████████████████| 377/377 [03:25<00:00,  1.84it/s]\n"
     ]
    },
    {
     "name": "stdout",
     "output_type": "stream",
     "text": [
      "Train Loss: 0.0002, Val Loss: 0.0001\n",
      "Epoch 78/300\n"
     ]
    },
    {
     "name": "stderr",
     "output_type": "stream",
     "text": [
      "Training: 100%|█████████████████████████████| 1508/1508 [17:00<00:00,  1.48it/s]\n",
      "Validation: 100%|█████████████████████████████| 377/377 [03:18<00:00,  1.90it/s]\n"
     ]
    },
    {
     "name": "stdout",
     "output_type": "stream",
     "text": [
      "Train Loss: 0.0002, Val Loss: 0.0001\n",
      "Epoch 79/300\n"
     ]
    },
    {
     "name": "stderr",
     "output_type": "stream",
     "text": [
      "Training: 100%|█████████████████████████████| 1508/1508 [16:56<00:00,  1.48it/s]\n",
      "Validation: 100%|█████████████████████████████| 377/377 [03:24<00:00,  1.84it/s]\n"
     ]
    },
    {
     "name": "stdout",
     "output_type": "stream",
     "text": [
      "Train Loss: 0.0002, Val Loss: 0.0001\n",
      "Epoch 80/300\n"
     ]
    },
    {
     "name": "stderr",
     "output_type": "stream",
     "text": [
      "Training: 100%|█████████████████████████████| 1508/1508 [17:00<00:00,  1.48it/s]\n",
      "Validation: 100%|█████████████████████████████| 377/377 [03:26<00:00,  1.83it/s]\n"
     ]
    },
    {
     "name": "stdout",
     "output_type": "stream",
     "text": [
      "Train Loss: 0.0002, Val Loss: 0.0001\n",
      "Epoch 81/300\n"
     ]
    },
    {
     "name": "stderr",
     "output_type": "stream",
     "text": [
      "Training: 100%|█████████████████████████████| 1508/1508 [16:36<00:00,  1.51it/s]\n",
      "Validation: 100%|█████████████████████████████| 377/377 [03:21<00:00,  1.87it/s]\n"
     ]
    },
    {
     "name": "stdout",
     "output_type": "stream",
     "text": [
      "Train Loss: 0.0002, Val Loss: 0.0001\n",
      "Epoch 82/300\n"
     ]
    },
    {
     "name": "stderr",
     "output_type": "stream",
     "text": [
      "Training: 100%|█████████████████████████████| 1508/1508 [16:58<00:00,  1.48it/s]\n",
      "Validation: 100%|█████████████████████████████| 377/377 [03:21<00:00,  1.87it/s]\n"
     ]
    },
    {
     "name": "stdout",
     "output_type": "stream",
     "text": [
      "Train Loss: 0.0002, Val Loss: 0.0001\n",
      "Epoch 83/300\n"
     ]
    },
    {
     "name": "stderr",
     "output_type": "stream",
     "text": [
      "Training: 100%|█████████████████████████████| 1508/1508 [17:08<00:00,  1.47it/s]\n",
      "Validation: 100%|█████████████████████████████| 377/377 [03:28<00:00,  1.81it/s]\n"
     ]
    },
    {
     "name": "stdout",
     "output_type": "stream",
     "text": [
      "Train Loss: 0.0002, Val Loss: 0.0001\n",
      "Epoch 84/300\n"
     ]
    },
    {
     "name": "stderr",
     "output_type": "stream",
     "text": [
      "Training: 100%|█████████████████████████████| 1508/1508 [17:07<00:00,  1.47it/s]\n",
      "Validation: 100%|█████████████████████████████| 377/377 [03:28<00:00,  1.80it/s]\n"
     ]
    },
    {
     "name": "stdout",
     "output_type": "stream",
     "text": [
      "Train Loss: 0.0002, Val Loss: 0.0001\n",
      "Epoch 85/300\n"
     ]
    },
    {
     "name": "stderr",
     "output_type": "stream",
     "text": [
      "Training: 100%|█████████████████████████████| 1508/1508 [16:57<00:00,  1.48it/s]\n",
      "Validation: 100%|█████████████████████████████| 377/377 [03:20<00:00,  1.88it/s]\n"
     ]
    },
    {
     "name": "stdout",
     "output_type": "stream",
     "text": [
      "Train Loss: 0.0002, Val Loss: 0.0001\n",
      "Epoch 86/300\n"
     ]
    },
    {
     "name": "stderr",
     "output_type": "stream",
     "text": [
      "Training: 100%|█████████████████████████████| 1508/1508 [17:05<00:00,  1.47it/s]\n",
      "Validation: 100%|█████████████████████████████| 377/377 [03:27<00:00,  1.82it/s]\n"
     ]
    },
    {
     "name": "stdout",
     "output_type": "stream",
     "text": [
      "Train Loss: 0.0002, Val Loss: 0.0001\n",
      "Epoch 87/300\n"
     ]
    },
    {
     "name": "stderr",
     "output_type": "stream",
     "text": [
      "Training: 100%|█████████████████████████████| 1508/1508 [16:54<00:00,  1.49it/s]\n",
      "Validation: 100%|█████████████████████████████| 377/377 [03:23<00:00,  1.85it/s]\n"
     ]
    },
    {
     "name": "stdout",
     "output_type": "stream",
     "text": [
      "Train Loss: 0.0002, Val Loss: 0.0001\n",
      "Epoch 88/300\n"
     ]
    },
    {
     "name": "stderr",
     "output_type": "stream",
     "text": [
      "Training: 100%|█████████████████████████████| 1508/1508 [17:02<00:00,  1.48it/s]\n",
      "Validation: 100%|█████████████████████████████| 377/377 [03:25<00:00,  1.84it/s]\n"
     ]
    },
    {
     "name": "stdout",
     "output_type": "stream",
     "text": [
      "Train Loss: 0.0002, Val Loss: 0.0001\n",
      "Epoch 89/300\n"
     ]
    },
    {
     "name": "stderr",
     "output_type": "stream",
     "text": [
      "Training: 100%|█████████████████████████████| 1508/1508 [17:03<00:00,  1.47it/s]\n",
      "Validation: 100%|█████████████████████████████| 377/377 [03:27<00:00,  1.82it/s]\n"
     ]
    },
    {
     "name": "stdout",
     "output_type": "stream",
     "text": [
      "Train Loss: 0.0002, Val Loss: 0.0001\n",
      "Epoch 90/300\n"
     ]
    },
    {
     "name": "stderr",
     "output_type": "stream",
     "text": [
      "Training: 100%|█████████████████████████████| 1508/1508 [17:06<00:00,  1.47it/s]\n",
      "Validation: 100%|█████████████████████████████| 377/377 [03:25<00:00,  1.83it/s]\n"
     ]
    },
    {
     "name": "stdout",
     "output_type": "stream",
     "text": [
      "Train Loss: 0.0002, Val Loss: 0.0001\n",
      "Epoch 91/300\n"
     ]
    },
    {
     "name": "stderr",
     "output_type": "stream",
     "text": [
      "Training: 100%|█████████████████████████████| 1508/1508 [16:47<00:00,  1.50it/s]\n",
      "Validation: 100%|█████████████████████████████| 377/377 [03:28<00:00,  1.81it/s]\n"
     ]
    },
    {
     "name": "stdout",
     "output_type": "stream",
     "text": [
      "Train Loss: 0.0002, Val Loss: 0.0001\n",
      "Epoch 92/300\n"
     ]
    },
    {
     "name": "stderr",
     "output_type": "stream",
     "text": [
      "Training: 100%|█████████████████████████████| 1508/1508 [17:03<00:00,  1.47it/s]\n",
      "Validation: 100%|█████████████████████████████| 377/377 [03:27<00:00,  1.82it/s]\n"
     ]
    },
    {
     "name": "stdout",
     "output_type": "stream",
     "text": [
      "Train Loss: 0.0002, Val Loss: 0.0001\n",
      "Epoch 93/300\n"
     ]
    },
    {
     "name": "stderr",
     "output_type": "stream",
     "text": [
      "Training: 100%|█████████████████████████████| 1508/1508 [17:06<00:00,  1.47it/s]\n",
      "Validation: 100%|█████████████████████████████| 377/377 [03:26<00:00,  1.83it/s]\n"
     ]
    },
    {
     "name": "stdout",
     "output_type": "stream",
     "text": [
      "Train Loss: 0.0002, Val Loss: 0.0001\n",
      "Epoch 94/300\n"
     ]
    },
    {
     "name": "stderr",
     "output_type": "stream",
     "text": [
      "Training: 100%|█████████████████████████████| 1508/1508 [17:06<00:00,  1.47it/s]\n",
      "Validation: 100%|█████████████████████████████| 377/377 [03:20<00:00,  1.88it/s]\n"
     ]
    },
    {
     "name": "stdout",
     "output_type": "stream",
     "text": [
      "Train Loss: 0.0002, Val Loss: 0.0001\n",
      "Epoch 95/300\n"
     ]
    },
    {
     "name": "stderr",
     "output_type": "stream",
     "text": [
      "Training: 100%|█████████████████████████████| 1508/1508 [16:57<00:00,  1.48it/s]\n",
      "Validation: 100%|█████████████████████████████| 377/377 [03:23<00:00,  1.85it/s]\n"
     ]
    },
    {
     "name": "stdout",
     "output_type": "stream",
     "text": [
      "Train Loss: 0.0002, Val Loss: 0.0001\n",
      "Epoch 96/300\n"
     ]
    },
    {
     "name": "stderr",
     "output_type": "stream",
     "text": [
      "Training: 100%|█████████████████████████████| 1508/1508 [16:58<00:00,  1.48it/s]\n",
      "Validation: 100%|█████████████████████████████| 377/377 [03:26<00:00,  1.83it/s]\n"
     ]
    },
    {
     "name": "stdout",
     "output_type": "stream",
     "text": [
      "Train Loss: 0.0002, Val Loss: 0.0001\n",
      "Epoch 97/300\n"
     ]
    },
    {
     "name": "stderr",
     "output_type": "stream",
     "text": [
      "Training: 100%|█████████████████████████████| 1508/1508 [16:43<00:00,  1.50it/s]\n",
      "Validation: 100%|█████████████████████████████| 377/377 [03:27<00:00,  1.82it/s]\n"
     ]
    },
    {
     "name": "stdout",
     "output_type": "stream",
     "text": [
      "Train Loss: 0.0002, Val Loss: 0.0001\n",
      "Epoch 98/300\n"
     ]
    },
    {
     "name": "stderr",
     "output_type": "stream",
     "text": [
      "Training: 100%|█████████████████████████████| 1508/1508 [17:04<00:00,  1.47it/s]\n",
      "Validation: 100%|█████████████████████████████| 377/377 [03:27<00:00,  1.82it/s]\n"
     ]
    },
    {
     "name": "stdout",
     "output_type": "stream",
     "text": [
      "Train Loss: 0.0002, Val Loss: 0.0001\n",
      "Epoch 99/300\n"
     ]
    },
    {
     "name": "stderr",
     "output_type": "stream",
     "text": [
      "Training: 100%|█████████████████████████████| 1508/1508 [16:55<00:00,  1.48it/s]\n",
      "Validation: 100%|█████████████████████████████| 377/377 [03:25<00:00,  1.84it/s]\n"
     ]
    },
    {
     "name": "stdout",
     "output_type": "stream",
     "text": [
      "Train Loss: 0.0002, Val Loss: 0.0001\n",
      "Epoch 100/300\n"
     ]
    },
    {
     "name": "stderr",
     "output_type": "stream",
     "text": [
      "Training: 100%|█████████████████████████████| 1508/1508 [17:06<00:00,  1.47it/s]\n",
      "Validation: 100%|█████████████████████████████| 377/377 [03:26<00:00,  1.83it/s]\n"
     ]
    },
    {
     "name": "stdout",
     "output_type": "stream",
     "text": [
      "Train Loss: 0.0002, Val Loss: 0.0001\n",
      "Epoch 101/300\n"
     ]
    },
    {
     "name": "stderr",
     "output_type": "stream",
     "text": [
      "Training: 100%|█████████████████████████████| 1508/1508 [17:09<00:00,  1.46it/s]\n",
      "Validation: 100%|█████████████████████████████| 377/377 [03:26<00:00,  1.82it/s]\n"
     ]
    },
    {
     "name": "stdout",
     "output_type": "stream",
     "text": [
      "Train Loss: 0.0003, Val Loss: 0.0002\n",
      "Epoch 102/300\n"
     ]
    },
    {
     "name": "stderr",
     "output_type": "stream",
     "text": [
      "Training: 100%|█████████████████████████████| 1508/1508 [17:05<00:00,  1.47it/s]\n",
      "Validation: 100%|█████████████████████████████| 377/377 [03:28<00:00,  1.81it/s]\n"
     ]
    },
    {
     "name": "stdout",
     "output_type": "stream",
     "text": [
      "Train Loss: 0.0002, Val Loss: 0.0002\n",
      "Epoch 103/300\n"
     ]
    },
    {
     "name": "stderr",
     "output_type": "stream",
     "text": [
      "Training: 100%|█████████████████████████████| 1508/1508 [16:59<00:00,  1.48it/s]\n",
      "Validation: 100%|█████████████████████████████| 377/377 [03:19<00:00,  1.89it/s]\n"
     ]
    },
    {
     "name": "stdout",
     "output_type": "stream",
     "text": [
      "Train Loss: 0.0002, Val Loss: 0.0002\n",
      "Epoch 104/300\n"
     ]
    },
    {
     "name": "stderr",
     "output_type": "stream",
     "text": [
      "Training: 100%|█████████████████████████████| 1508/1508 [16:48<00:00,  1.50it/s]\n",
      "Validation: 100%|█████████████████████████████| 377/377 [03:27<00:00,  1.82it/s]\n"
     ]
    },
    {
     "name": "stdout",
     "output_type": "stream",
     "text": [
      "Train Loss: 0.0002, Val Loss: 0.0002\n",
      "Epoch 105/300\n"
     ]
    },
    {
     "name": "stderr",
     "output_type": "stream",
     "text": [
      "Training: 100%|█████████████████████████████| 1508/1508 [17:09<00:00,  1.46it/s]\n",
      "Validation: 100%|█████████████████████████████| 377/377 [03:28<00:00,  1.81it/s]\n"
     ]
    },
    {
     "name": "stdout",
     "output_type": "stream",
     "text": [
      "Train Loss: 0.0002, Val Loss: 0.0002\n",
      "Epoch 106/300\n"
     ]
    },
    {
     "name": "stderr",
     "output_type": "stream",
     "text": [
      "Training: 100%|█████████████████████████████| 1508/1508 [17:04<00:00,  1.47it/s]\n",
      "Validation: 100%|█████████████████████████████| 377/377 [03:27<00:00,  1.81it/s]\n"
     ]
    },
    {
     "name": "stdout",
     "output_type": "stream",
     "text": [
      "Train Loss: 0.0002, Val Loss: 0.0002\n",
      "Epoch 107/300\n"
     ]
    },
    {
     "name": "stderr",
     "output_type": "stream",
     "text": [
      "Training: 100%|█████████████████████████████| 1508/1508 [17:04<00:00,  1.47it/s]\n",
      "Validation: 100%|█████████████████████████████| 377/377 [03:20<00:00,  1.88it/s]\n"
     ]
    },
    {
     "name": "stdout",
     "output_type": "stream",
     "text": [
      "Train Loss: 0.0002, Val Loss: 0.0002\n",
      "Epoch 108/300\n"
     ]
    },
    {
     "name": "stderr",
     "output_type": "stream",
     "text": [
      "Training: 100%|█████████████████████████████| 1508/1508 [16:45<00:00,  1.50it/s]\n",
      "Validation: 100%|█████████████████████████████| 377/377 [03:18<00:00,  1.90it/s]\n"
     ]
    },
    {
     "name": "stdout",
     "output_type": "stream",
     "text": [
      "Train Loss: 0.0002, Val Loss: 0.0002\n",
      "Epoch 109/300\n"
     ]
    },
    {
     "name": "stderr",
     "output_type": "stream",
     "text": [
      "Training: 100%|█████████████████████████████| 1508/1508 [17:08<00:00,  1.47it/s]\n",
      "Validation: 100%|█████████████████████████████| 377/377 [03:26<00:00,  1.82it/s]\n"
     ]
    },
    {
     "name": "stdout",
     "output_type": "stream",
     "text": [
      "Train Loss: 0.0002, Val Loss: 0.0002\n",
      "Epoch 110/300\n"
     ]
    },
    {
     "name": "stderr",
     "output_type": "stream",
     "text": [
      "Training: 100%|█████████████████████████████| 1508/1508 [17:13<00:00,  1.46it/s]\n",
      "Validation: 100%|█████████████████████████████| 377/377 [03:26<00:00,  1.83it/s]\n"
     ]
    },
    {
     "name": "stdout",
     "output_type": "stream",
     "text": [
      "Train Loss: 0.0002, Val Loss: 0.0002\n",
      "Epoch 111/300\n"
     ]
    },
    {
     "name": "stderr",
     "output_type": "stream",
     "text": [
      "Training: 100%|█████████████████████████████| 1508/1508 [17:04<00:00,  1.47it/s]\n",
      "Validation: 100%|█████████████████████████████| 377/377 [03:25<00:00,  1.83it/s]\n"
     ]
    },
    {
     "name": "stdout",
     "output_type": "stream",
     "text": [
      "Train Loss: 0.0002, Val Loss: 0.0002\n",
      "Epoch 112/300\n"
     ]
    },
    {
     "name": "stderr",
     "output_type": "stream",
     "text": [
      "Training: 100%|█████████████████████████████| 1508/1508 [17:06<00:00,  1.47it/s]\n",
      "Validation: 100%|█████████████████████████████| 377/377 [03:23<00:00,  1.86it/s]\n"
     ]
    },
    {
     "name": "stdout",
     "output_type": "stream",
     "text": [
      "Train Loss: 0.0002, Val Loss: 0.0002\n",
      "Epoch 113/300\n"
     ]
    },
    {
     "name": "stderr",
     "output_type": "stream",
     "text": [
      "Training: 100%|█████████████████████████████| 1508/1508 [16:44<00:00,  1.50it/s]\n",
      "Validation: 100%|█████████████████████████████| 377/377 [03:24<00:00,  1.84it/s]\n"
     ]
    },
    {
     "name": "stdout",
     "output_type": "stream",
     "text": [
      "Train Loss: 0.0002, Val Loss: 0.0002\n",
      "Epoch 114/300\n"
     ]
    },
    {
     "name": "stderr",
     "output_type": "stream",
     "text": [
      "Training: 100%|█████████████████████████████| 1508/1508 [17:01<00:00,  1.48it/s]\n",
      "Validation: 100%|█████████████████████████████| 377/377 [03:27<00:00,  1.82it/s]\n"
     ]
    },
    {
     "name": "stdout",
     "output_type": "stream",
     "text": [
      "Train Loss: 0.0002, Val Loss: 0.0002\n",
      "Epoch 115/300\n"
     ]
    },
    {
     "name": "stderr",
     "output_type": "stream",
     "text": [
      "Training: 100%|█████████████████████████████| 1508/1508 [16:57<00:00,  1.48it/s]\n",
      "Validation: 100%|█████████████████████████████| 377/377 [03:25<00:00,  1.83it/s]\n"
     ]
    },
    {
     "name": "stdout",
     "output_type": "stream",
     "text": [
      "Train Loss: 0.0002, Val Loss: 0.0002\n",
      "Epoch 116/300\n"
     ]
    },
    {
     "name": "stderr",
     "output_type": "stream",
     "text": [
      "Training: 100%|█████████████████████████████| 1508/1508 [17:08<00:00,  1.47it/s]\n",
      "Validation: 100%|█████████████████████████████| 377/377 [03:27<00:00,  1.82it/s]\n"
     ]
    },
    {
     "name": "stdout",
     "output_type": "stream",
     "text": [
      "Train Loss: 0.0002, Val Loss: 0.0002\n",
      "Epoch 117/300\n"
     ]
    },
    {
     "name": "stderr",
     "output_type": "stream",
     "text": [
      "Training: 100%|█████████████████████████████| 1508/1508 [16:57<00:00,  1.48it/s]\n",
      "Validation: 100%|█████████████████████████████| 377/377 [03:27<00:00,  1.82it/s]\n"
     ]
    },
    {
     "name": "stdout",
     "output_type": "stream",
     "text": [
      "Train Loss: 0.0002, Val Loss: 0.0002\n",
      "Epoch 118/300\n"
     ]
    },
    {
     "name": "stderr",
     "output_type": "stream",
     "text": [
      "Training: 100%|█████████████████████████████| 1508/1508 [17:02<00:00,  1.48it/s]\n",
      "Validation: 100%|█████████████████████████████| 377/377 [03:24<00:00,  1.84it/s]\n"
     ]
    },
    {
     "name": "stdout",
     "output_type": "stream",
     "text": [
      "Train Loss: 0.0002, Val Loss: 0.0002\n",
      "Epoch 119/300\n"
     ]
    },
    {
     "name": "stderr",
     "output_type": "stream",
     "text": [
      "Training: 100%|█████████████████████████████| 1508/1508 [17:08<00:00,  1.47it/s]\n",
      "Validation: 100%|█████████████████████████████| 377/377 [03:27<00:00,  1.82it/s]\n"
     ]
    },
    {
     "name": "stdout",
     "output_type": "stream",
     "text": [
      "Train Loss: 0.0002, Val Loss: 0.0001\n",
      "Epoch 120/300\n"
     ]
    },
    {
     "name": "stderr",
     "output_type": "stream",
     "text": [
      "Training: 100%|█████████████████████████████| 1508/1508 [17:09<00:00,  1.47it/s]\n",
      "Validation: 100%|█████████████████████████████| 377/377 [03:26<00:00,  1.83it/s]\n"
     ]
    },
    {
     "name": "stdout",
     "output_type": "stream",
     "text": [
      "Train Loss: 0.0002, Val Loss: 0.0001\n",
      "Epoch 121/300\n"
     ]
    },
    {
     "name": "stderr",
     "output_type": "stream",
     "text": [
      "Training: 100%|█████████████████████████████| 1508/1508 [17:02<00:00,  1.47it/s]\n",
      "Validation: 100%|█████████████████████████████| 377/377 [03:27<00:00,  1.82it/s]\n"
     ]
    },
    {
     "name": "stdout",
     "output_type": "stream",
     "text": [
      "Train Loss: 0.0002, Val Loss: 0.0002\n",
      "Epoch 122/300\n"
     ]
    },
    {
     "name": "stderr",
     "output_type": "stream",
     "text": [
      "Training: 100%|█████████████████████████████| 1508/1508 [16:45<00:00,  1.50it/s]\n",
      "Validation: 100%|█████████████████████████████| 377/377 [03:19<00:00,  1.89it/s]\n"
     ]
    },
    {
     "name": "stdout",
     "output_type": "stream",
     "text": [
      "Train Loss: 0.0002, Val Loss: 0.0002\n",
      "Epoch 123/300\n"
     ]
    },
    {
     "name": "stderr",
     "output_type": "stream",
     "text": [
      "Training: 100%|█████████████████████████████| 1508/1508 [17:07<00:00,  1.47it/s]\n",
      "Validation: 100%|█████████████████████████████| 377/377 [03:25<00:00,  1.83it/s]\n"
     ]
    },
    {
     "name": "stdout",
     "output_type": "stream",
     "text": [
      "Train Loss: 0.0002, Val Loss: 0.0002\n",
      "Epoch 124/300\n"
     ]
    },
    {
     "name": "stderr",
     "output_type": "stream",
     "text": [
      "Training: 100%|█████████████████████████████| 1508/1508 [16:43<00:00,  1.50it/s]\n",
      "Validation: 100%|█████████████████████████████| 377/377 [03:27<00:00,  1.82it/s]\n"
     ]
    },
    {
     "name": "stdout",
     "output_type": "stream",
     "text": [
      "Train Loss: 0.0002, Val Loss: 0.0002\n",
      "Epoch 125/300\n"
     ]
    },
    {
     "name": "stderr",
     "output_type": "stream",
     "text": [
      "Training: 100%|█████████████████████████████| 1508/1508 [16:46<00:00,  1.50it/s]\n",
      "Validation: 100%|█████████████████████████████| 377/377 [03:27<00:00,  1.82it/s]\n"
     ]
    },
    {
     "name": "stdout",
     "output_type": "stream",
     "text": [
      "Train Loss: 0.0002, Val Loss: 0.0002\n",
      "Epoch 126/300\n"
     ]
    },
    {
     "name": "stderr",
     "output_type": "stream",
     "text": [
      "Training: 100%|█████████████████████████████| 1508/1508 [16:45<00:00,  1.50it/s]\n",
      "Validation: 100%|█████████████████████████████| 377/377 [03:29<00:00,  1.80it/s]\n"
     ]
    },
    {
     "name": "stdout",
     "output_type": "stream",
     "text": [
      "Train Loss: 0.0002, Val Loss: 0.0002\n",
      "Epoch 127/300\n"
     ]
    },
    {
     "name": "stderr",
     "output_type": "stream",
     "text": [
      "Training: 100%|█████████████████████████████| 1508/1508 [17:07<00:00,  1.47it/s]\n",
      "Validation: 100%|█████████████████████████████| 377/377 [03:27<00:00,  1.82it/s]\n"
     ]
    },
    {
     "name": "stdout",
     "output_type": "stream",
     "text": [
      "Train Loss: 0.0002, Val Loss: 0.0002\n",
      "Epoch 128/300\n"
     ]
    },
    {
     "name": "stderr",
     "output_type": "stream",
     "text": [
      "Training: 100%|█████████████████████████████| 1508/1508 [17:08<00:00,  1.47it/s]\n",
      "Validation: 100%|█████████████████████████████| 377/377 [03:26<00:00,  1.83it/s]\n"
     ]
    },
    {
     "name": "stdout",
     "output_type": "stream",
     "text": [
      "Train Loss: 0.0002, Val Loss: 0.0002\n",
      "Epoch 129/300\n"
     ]
    },
    {
     "name": "stderr",
     "output_type": "stream",
     "text": [
      "Training: 100%|█████████████████████████████| 1508/1508 [17:09<00:00,  1.47it/s]\n",
      "Validation: 100%|█████████████████████████████| 377/377 [03:25<00:00,  1.84it/s]\n"
     ]
    },
    {
     "name": "stdout",
     "output_type": "stream",
     "text": [
      "Train Loss: 0.0002, Val Loss: 0.0002\n",
      "Epoch 130/300\n"
     ]
    },
    {
     "name": "stderr",
     "output_type": "stream",
     "text": [
      "Training: 100%|█████████████████████████████| 1508/1508 [17:10<00:00,  1.46it/s]\n",
      "Validation: 100%|█████████████████████████████| 377/377 [03:20<00:00,  1.88it/s]\n"
     ]
    },
    {
     "name": "stdout",
     "output_type": "stream",
     "text": [
      "Train Loss: 0.0002, Val Loss: 0.0002\n",
      "Epoch 131/300\n"
     ]
    },
    {
     "name": "stderr",
     "output_type": "stream",
     "text": [
      "Training: 100%|█████████████████████████████| 1508/1508 [17:17<00:00,  1.45it/s]\n",
      "Validation: 100%|█████████████████████████████| 377/377 [03:28<00:00,  1.81it/s]\n"
     ]
    },
    {
     "name": "stdout",
     "output_type": "stream",
     "text": [
      "Train Loss: 0.0002, Val Loss: 0.0002\n",
      "Epoch 132/300\n"
     ]
    },
    {
     "name": "stderr",
     "output_type": "stream",
     "text": [
      "Training: 100%|█████████████████████████████| 1508/1508 [17:15<00:00,  1.46it/s]\n",
      "Validation: 100%|█████████████████████████████| 377/377 [03:28<00:00,  1.81it/s]\n"
     ]
    },
    {
     "name": "stdout",
     "output_type": "stream",
     "text": [
      "Train Loss: 0.0002, Val Loss: 0.0002\n",
      "Epoch 133/300\n"
     ]
    },
    {
     "name": "stderr",
     "output_type": "stream",
     "text": [
      "Training: 100%|█████████████████████████████| 1508/1508 [17:05<00:00,  1.47it/s]\n",
      "Validation: 100%|█████████████████████████████| 377/377 [03:29<00:00,  1.80it/s]\n"
     ]
    },
    {
     "name": "stdout",
     "output_type": "stream",
     "text": [
      "Train Loss: 0.0002, Val Loss: 0.0002\n",
      "Epoch 134/300\n"
     ]
    },
    {
     "name": "stderr",
     "output_type": "stream",
     "text": [
      "Training: 100%|█████████████████████████████| 1508/1508 [17:18<00:00,  1.45it/s]\n",
      "Validation: 100%|█████████████████████████████| 377/377 [03:27<00:00,  1.81it/s]\n"
     ]
    },
    {
     "name": "stdout",
     "output_type": "stream",
     "text": [
      "Train Loss: 0.0002, Val Loss: 0.0002\n",
      "Epoch 135/300\n"
     ]
    },
    {
     "name": "stderr",
     "output_type": "stream",
     "text": [
      "Training: 100%|█████████████████████████████| 1508/1508 [16:49<00:00,  1.49it/s]\n",
      "Validation: 100%|█████████████████████████████| 377/377 [03:26<00:00,  1.82it/s]\n"
     ]
    },
    {
     "name": "stdout",
     "output_type": "stream",
     "text": [
      "Train Loss: 0.0002, Val Loss: 0.0002\n",
      "Epoch 136/300\n"
     ]
    },
    {
     "name": "stderr",
     "output_type": "stream",
     "text": [
      "Training: 100%|█████████████████████████████| 1508/1508 [17:11<00:00,  1.46it/s]\n",
      "Validation: 100%|█████████████████████████████| 377/377 [03:27<00:00,  1.82it/s]\n"
     ]
    },
    {
     "name": "stdout",
     "output_type": "stream",
     "text": [
      "Train Loss: 0.0002, Val Loss: 0.0002\n",
      "Epoch 137/300\n"
     ]
    },
    {
     "name": "stderr",
     "output_type": "stream",
     "text": [
      "Training: 100%|█████████████████████████████| 1508/1508 [16:53<00:00,  1.49it/s]\n",
      "Validation: 100%|█████████████████████████████| 377/377 [03:29<00:00,  1.80it/s]\n"
     ]
    },
    {
     "name": "stdout",
     "output_type": "stream",
     "text": [
      "Train Loss: 0.0002, Val Loss: 0.0002\n",
      "Epoch 138/300\n"
     ]
    },
    {
     "name": "stderr",
     "output_type": "stream",
     "text": [
      "Training: 100%|█████████████████████████████| 1508/1508 [16:48<00:00,  1.50it/s]\n",
      "Validation: 100%|█████████████████████████████| 377/377 [03:29<00:00,  1.80it/s]\n"
     ]
    },
    {
     "name": "stdout",
     "output_type": "stream",
     "text": [
      "Train Loss: 0.0002, Val Loss: 0.0002\n",
      "Epoch 139/300\n"
     ]
    },
    {
     "name": "stderr",
     "output_type": "stream",
     "text": [
      "Training: 100%|█████████████████████████████| 1508/1508 [17:16<00:00,  1.45it/s]\n",
      "Validation: 100%|█████████████████████████████| 377/377 [03:29<00:00,  1.80it/s]\n"
     ]
    },
    {
     "name": "stdout",
     "output_type": "stream",
     "text": [
      "Train Loss: 0.0002, Val Loss: 0.0002\n",
      "Epoch 140/300\n"
     ]
    },
    {
     "name": "stderr",
     "output_type": "stream",
     "text": [
      "Training: 100%|█████████████████████████████| 1508/1508 [17:11<00:00,  1.46it/s]\n",
      "Validation: 100%|█████████████████████████████| 377/377 [03:27<00:00,  1.81it/s]\n"
     ]
    },
    {
     "name": "stdout",
     "output_type": "stream",
     "text": [
      "Train Loss: 0.0002, Val Loss: 0.0002\n",
      "Epoch 141/300\n"
     ]
    },
    {
     "name": "stderr",
     "output_type": "stream",
     "text": [
      "Training: 100%|█████████████████████████████| 1508/1508 [16:46<00:00,  1.50it/s]\n",
      "Validation: 100%|█████████████████████████████| 377/377 [03:21<00:00,  1.87it/s]\n"
     ]
    },
    {
     "name": "stdout",
     "output_type": "stream",
     "text": [
      "Train Loss: 0.0002, Val Loss: 0.0002\n",
      "Epoch 142/300\n"
     ]
    },
    {
     "name": "stderr",
     "output_type": "stream",
     "text": [
      "Training: 100%|█████████████████████████████| 1508/1508 [17:00<00:00,  1.48it/s]\n",
      "Validation: 100%|█████████████████████████████| 377/377 [03:22<00:00,  1.87it/s]\n"
     ]
    },
    {
     "name": "stdout",
     "output_type": "stream",
     "text": [
      "Train Loss: 0.0002, Val Loss: 0.0001\n",
      "Epoch 143/300\n"
     ]
    },
    {
     "name": "stderr",
     "output_type": "stream",
     "text": [
      "Training: 100%|█████████████████████████████| 1508/1508 [17:06<00:00,  1.47it/s]\n",
      "Validation: 100%|█████████████████████████████| 377/377 [03:28<00:00,  1.81it/s]\n"
     ]
    },
    {
     "name": "stdout",
     "output_type": "stream",
     "text": [
      "Train Loss: 0.0002, Val Loss: 0.0002\n",
      "Epoch 144/300\n"
     ]
    },
    {
     "name": "stderr",
     "output_type": "stream",
     "text": [
      "Training: 100%|█████████████████████████████| 1508/1508 [17:07<00:00,  1.47it/s]\n",
      "Validation: 100%|█████████████████████████████| 377/377 [03:26<00:00,  1.82it/s]\n"
     ]
    },
    {
     "name": "stdout",
     "output_type": "stream",
     "text": [
      "Train Loss: 0.0002, Val Loss: 0.0002\n",
      "Epoch 145/300\n"
     ]
    },
    {
     "name": "stderr",
     "output_type": "stream",
     "text": [
      "Training: 100%|█████████████████████████████| 1508/1508 [16:43<00:00,  1.50it/s]\n",
      "Validation: 100%|█████████████████████████████| 377/377 [03:26<00:00,  1.82it/s]\n"
     ]
    },
    {
     "name": "stdout",
     "output_type": "stream",
     "text": [
      "Train Loss: 0.0002, Val Loss: 0.0002\n",
      "Epoch 146/300\n"
     ]
    },
    {
     "name": "stderr",
     "output_type": "stream",
     "text": [
      "Training: 100%|█████████████████████████████| 1508/1508 [16:55<00:00,  1.48it/s]\n",
      "Validation: 100%|█████████████████████████████| 377/377 [03:28<00:00,  1.81it/s]\n"
     ]
    },
    {
     "name": "stdout",
     "output_type": "stream",
     "text": [
      "Train Loss: 0.0002, Val Loss: 0.0002\n",
      "Epoch 147/300\n"
     ]
    },
    {
     "name": "stderr",
     "output_type": "stream",
     "text": [
      "Training: 100%|█████████████████████████████| 1508/1508 [16:59<00:00,  1.48it/s]\n",
      "Validation: 100%|█████████████████████████████| 377/377 [03:20<00:00,  1.88it/s]\n"
     ]
    },
    {
     "name": "stdout",
     "output_type": "stream",
     "text": [
      "Train Loss: 0.0002, Val Loss: 0.0002\n",
      "Epoch 148/300\n"
     ]
    },
    {
     "name": "stderr",
     "output_type": "stream",
     "text": [
      "Training: 100%|█████████████████████████████| 1508/1508 [17:06<00:00,  1.47it/s]\n",
      "Validation: 100%|█████████████████████████████| 377/377 [03:27<00:00,  1.82it/s]\n"
     ]
    },
    {
     "name": "stdout",
     "output_type": "stream",
     "text": [
      "Train Loss: 0.0002, Val Loss: 0.0002\n",
      "Epoch 149/300\n"
     ]
    },
    {
     "name": "stderr",
     "output_type": "stream",
     "text": [
      "Training: 100%|█████████████████████████████| 1508/1508 [17:06<00:00,  1.47it/s]\n",
      "Validation: 100%|█████████████████████████████| 377/377 [03:27<00:00,  1.81it/s]\n"
     ]
    },
    {
     "name": "stdout",
     "output_type": "stream",
     "text": [
      "Train Loss: 0.0002, Val Loss: 0.0002\n",
      "Epoch 150/300\n"
     ]
    },
    {
     "name": "stderr",
     "output_type": "stream",
     "text": [
      "Training: 100%|█████████████████████████████| 1508/1508 [17:16<00:00,  1.46it/s]\n",
      "Validation: 100%|█████████████████████████████| 377/377 [03:26<00:00,  1.82it/s]\n"
     ]
    },
    {
     "name": "stdout",
     "output_type": "stream",
     "text": [
      "Train Loss: 0.0002, Val Loss: 0.0002\n",
      "Epoch 151/300\n"
     ]
    },
    {
     "name": "stderr",
     "output_type": "stream",
     "text": [
      "Training: 100%|█████████████████████████████| 1508/1508 [17:05<00:00,  1.47it/s]\n",
      "Validation: 100%|█████████████████████████████| 377/377 [03:28<00:00,  1.81it/s]\n"
     ]
    },
    {
     "name": "stdout",
     "output_type": "stream",
     "text": [
      "Train Loss: 0.0002, Val Loss: 0.0002\n",
      "Epoch 152/300\n"
     ]
    },
    {
     "name": "stderr",
     "output_type": "stream",
     "text": [
      "Training: 100%|█████████████████████████████| 1508/1508 [17:00<00:00,  1.48it/s]\n",
      "Validation: 100%|█████████████████████████████| 377/377 [03:25<00:00,  1.83it/s]\n"
     ]
    },
    {
     "name": "stdout",
     "output_type": "stream",
     "text": [
      "Train Loss: 0.0002, Val Loss: 0.0002\n",
      "Epoch 153/300\n"
     ]
    },
    {
     "name": "stderr",
     "output_type": "stream",
     "text": [
      "Training: 100%|█████████████████████████████| 1508/1508 [17:02<00:00,  1.47it/s]\n",
      "Validation: 100%|█████████████████████████████| 377/377 [03:27<00:00,  1.81it/s]\n"
     ]
    },
    {
     "name": "stdout",
     "output_type": "stream",
     "text": [
      "Train Loss: 0.0002, Val Loss: 0.0001\n",
      "Epoch 154/300\n"
     ]
    },
    {
     "name": "stderr",
     "output_type": "stream",
     "text": [
      "Training: 100%|█████████████████████████████| 1508/1508 [17:09<00:00,  1.46it/s]\n",
      "Validation: 100%|█████████████████████████████| 377/377 [03:26<00:00,  1.83it/s]\n"
     ]
    },
    {
     "name": "stdout",
     "output_type": "stream",
     "text": [
      "Train Loss: 0.0002, Val Loss: 0.0002\n",
      "Epoch 155/300\n"
     ]
    },
    {
     "name": "stderr",
     "output_type": "stream",
     "text": [
      "Training: 100%|█████████████████████████████| 1508/1508 [17:04<00:00,  1.47it/s]\n",
      "Validation: 100%|█████████████████████████████| 377/377 [03:27<00:00,  1.82it/s]\n"
     ]
    },
    {
     "name": "stdout",
     "output_type": "stream",
     "text": [
      "Train Loss: 0.0002, Val Loss: 0.0002\n",
      "Epoch 156/300\n"
     ]
    },
    {
     "name": "stderr",
     "output_type": "stream",
     "text": [
      "Training: 100%|█████████████████████████████| 1508/1508 [17:03<00:00,  1.47it/s]\n",
      "Validation: 100%|█████████████████████████████| 377/377 [03:19<00:00,  1.89it/s]\n"
     ]
    },
    {
     "name": "stdout",
     "output_type": "stream",
     "text": [
      "Train Loss: 0.0002, Val Loss: 0.0002\n",
      "Epoch 157/300\n"
     ]
    },
    {
     "name": "stderr",
     "output_type": "stream",
     "text": [
      "Training: 100%|█████████████████████████████| 1508/1508 [17:08<00:00,  1.47it/s]\n",
      "Validation: 100%|█████████████████████████████| 377/377 [03:26<00:00,  1.82it/s]\n"
     ]
    },
    {
     "name": "stdout",
     "output_type": "stream",
     "text": [
      "Train Loss: 0.0002, Val Loss: 0.0002\n",
      "Epoch 158/300\n"
     ]
    },
    {
     "name": "stderr",
     "output_type": "stream",
     "text": [
      "Training: 100%|█████████████████████████████| 1508/1508 [17:02<00:00,  1.47it/s]\n",
      "Validation: 100%|█████████████████████████████| 377/377 [03:26<00:00,  1.82it/s]\n"
     ]
    },
    {
     "name": "stdout",
     "output_type": "stream",
     "text": [
      "Train Loss: 0.0002, Val Loss: 0.0001\n",
      "Epoch 159/300\n"
     ]
    },
    {
     "name": "stderr",
     "output_type": "stream",
     "text": [
      "Training: 100%|█████████████████████████████| 1508/1508 [17:02<00:00,  1.47it/s]\n",
      "Validation: 100%|█████████████████████████████| 377/377 [03:26<00:00,  1.82it/s]\n"
     ]
    },
    {
     "name": "stdout",
     "output_type": "stream",
     "text": [
      "Train Loss: 0.0002, Val Loss: 0.0002\n",
      "Epoch 160/300\n"
     ]
    },
    {
     "name": "stderr",
     "output_type": "stream",
     "text": [
      "Training: 100%|█████████████████████████████| 1508/1508 [17:03<00:00,  1.47it/s]\n",
      "Validation: 100%|█████████████████████████████| 377/377 [03:28<00:00,  1.81it/s]\n"
     ]
    },
    {
     "name": "stdout",
     "output_type": "stream",
     "text": [
      "Train Loss: 0.0002, Val Loss: 0.0002\n",
      "Epoch 161/300\n"
     ]
    },
    {
     "name": "stderr",
     "output_type": "stream",
     "text": [
      "Training: 100%|█████████████████████████████| 1508/1508 [17:05<00:00,  1.47it/s]\n",
      "Validation: 100%|█████████████████████████████| 377/377 [03:27<00:00,  1.82it/s]\n"
     ]
    },
    {
     "name": "stdout",
     "output_type": "stream",
     "text": [
      "Train Loss: 0.0002, Val Loss: 0.0001\n",
      "Epoch 162/300\n"
     ]
    },
    {
     "name": "stderr",
     "output_type": "stream",
     "text": [
      "Training: 100%|█████████████████████████████| 1508/1508 [17:05<00:00,  1.47it/s]\n",
      "Validation: 100%|█████████████████████████████| 377/377 [03:26<00:00,  1.82it/s]\n"
     ]
    },
    {
     "name": "stdout",
     "output_type": "stream",
     "text": [
      "Train Loss: 0.0002, Val Loss: 0.0001\n",
      "Epoch 163/300\n"
     ]
    },
    {
     "name": "stderr",
     "output_type": "stream",
     "text": [
      "Training: 100%|█████████████████████████████| 1508/1508 [17:10<00:00,  1.46it/s]\n",
      "Validation: 100%|█████████████████████████████| 377/377 [03:26<00:00,  1.82it/s]\n"
     ]
    },
    {
     "name": "stdout",
     "output_type": "stream",
     "text": [
      "Train Loss: 0.0002, Val Loss: 0.0002\n",
      "Epoch 164/300\n"
     ]
    },
    {
     "name": "stderr",
     "output_type": "stream",
     "text": [
      "Training: 100%|█████████████████████████████| 1508/1508 [17:08<00:00,  1.47it/s]\n",
      "Validation: 100%|█████████████████████████████| 377/377 [03:27<00:00,  1.82it/s]\n"
     ]
    },
    {
     "name": "stdout",
     "output_type": "stream",
     "text": [
      "Train Loss: 0.0002, Val Loss: 0.0001\n",
      "Epoch 165/300\n"
     ]
    },
    {
     "name": "stderr",
     "output_type": "stream",
     "text": [
      "Training: 100%|█████████████████████████████| 1508/1508 [16:57<00:00,  1.48it/s]\n",
      "Validation: 100%|█████████████████████████████| 377/377 [03:23<00:00,  1.85it/s]\n"
     ]
    },
    {
     "name": "stdout",
     "output_type": "stream",
     "text": [
      "Train Loss: 0.0002, Val Loss: 0.0002\n",
      "Epoch 166/300\n"
     ]
    },
    {
     "name": "stderr",
     "output_type": "stream",
     "text": [
      "Training: 100%|█████████████████████████████| 1508/1508 [17:07<00:00,  1.47it/s]\n",
      "Validation: 100%|█████████████████████████████| 377/377 [03:27<00:00,  1.82it/s]\n"
     ]
    },
    {
     "name": "stdout",
     "output_type": "stream",
     "text": [
      "Train Loss: 0.0002, Val Loss: 0.0002\n",
      "Epoch 167/300\n"
     ]
    },
    {
     "name": "stderr",
     "output_type": "stream",
     "text": [
      "Training: 100%|█████████████████████████████| 1508/1508 [17:10<00:00,  1.46it/s]\n",
      "Validation: 100%|█████████████████████████████| 377/377 [03:27<00:00,  1.82it/s]\n"
     ]
    },
    {
     "name": "stdout",
     "output_type": "stream",
     "text": [
      "Train Loss: 0.0002, Val Loss: 0.0001\n",
      "Epoch 168/300\n"
     ]
    },
    {
     "name": "stderr",
     "output_type": "stream",
     "text": [
      "Training: 100%|█████████████████████████████| 1508/1508 [17:09<00:00,  1.46it/s]\n",
      "Validation: 100%|█████████████████████████████| 377/377 [03:27<00:00,  1.81it/s]\n"
     ]
    },
    {
     "name": "stdout",
     "output_type": "stream",
     "text": [
      "Train Loss: 0.0002, Val Loss: 0.0001\n",
      "Epoch 169/300\n"
     ]
    },
    {
     "name": "stderr",
     "output_type": "stream",
     "text": [
      "Training: 100%|█████████████████████████████| 1508/1508 [17:03<00:00,  1.47it/s]\n",
      "Validation: 100%|█████████████████████████████| 377/377 [03:27<00:00,  1.81it/s]\n"
     ]
    },
    {
     "name": "stdout",
     "output_type": "stream",
     "text": [
      "Train Loss: 0.0002, Val Loss: 0.0001\n",
      "Epoch 170/300\n"
     ]
    },
    {
     "name": "stderr",
     "output_type": "stream",
     "text": [
      "Training: 100%|█████████████████████████████| 1508/1508 [16:56<00:00,  1.48it/s]\n",
      "Validation: 100%|█████████████████████████████| 377/377 [03:19<00:00,  1.89it/s]\n"
     ]
    },
    {
     "name": "stdout",
     "output_type": "stream",
     "text": [
      "Train Loss: 0.0002, Val Loss: 0.0001\n",
      "Epoch 171/300\n"
     ]
    },
    {
     "name": "stderr",
     "output_type": "stream",
     "text": [
      "Training: 100%|█████████████████████████████| 1508/1508 [17:08<00:00,  1.47it/s]\n",
      "Validation: 100%|█████████████████████████████| 377/377 [03:27<00:00,  1.82it/s]\n"
     ]
    },
    {
     "name": "stdout",
     "output_type": "stream",
     "text": [
      "Train Loss: 0.0002, Val Loss: 0.0001\n",
      "Epoch 172/300\n"
     ]
    },
    {
     "name": "stderr",
     "output_type": "stream",
     "text": [
      "Training: 100%|█████████████████████████████| 1508/1508 [16:57<00:00,  1.48it/s]\n",
      "Validation: 100%|█████████████████████████████| 377/377 [03:28<00:00,  1.80it/s]\n"
     ]
    },
    {
     "name": "stdout",
     "output_type": "stream",
     "text": [
      "Train Loss: 0.0002, Val Loss: 0.0002\n",
      "Epoch 173/300\n"
     ]
    },
    {
     "name": "stderr",
     "output_type": "stream",
     "text": [
      "Training: 100%|█████████████████████████████| 1508/1508 [17:09<00:00,  1.46it/s]\n",
      "Validation: 100%|█████████████████████████████| 377/377 [03:26<00:00,  1.82it/s]\n"
     ]
    },
    {
     "name": "stdout",
     "output_type": "stream",
     "text": [
      "Train Loss: 0.0002, Val Loss: 0.0002\n",
      "Epoch 174/300\n"
     ]
    },
    {
     "name": "stderr",
     "output_type": "stream",
     "text": [
      "Training: 100%|█████████████████████████████| 1508/1508 [17:07<00:00,  1.47it/s]\n",
      "Validation: 100%|█████████████████████████████| 377/377 [03:26<00:00,  1.83it/s]\n"
     ]
    },
    {
     "name": "stdout",
     "output_type": "stream",
     "text": [
      "Train Loss: 0.0002, Val Loss: 0.0001\n",
      "Epoch 175/300\n"
     ]
    },
    {
     "name": "stderr",
     "output_type": "stream",
     "text": [
      "Training: 100%|█████████████████████████████| 1508/1508 [17:09<00:00,  1.47it/s]\n",
      "Validation: 100%|█████████████████████████████| 377/377 [03:26<00:00,  1.82it/s]\n"
     ]
    },
    {
     "name": "stdout",
     "output_type": "stream",
     "text": [
      "Train Loss: 0.0002, Val Loss: 0.0001\n",
      "Epoch 176/300\n"
     ]
    },
    {
     "name": "stderr",
     "output_type": "stream",
     "text": [
      "Training: 100%|█████████████████████████████| 1508/1508 [16:54<00:00,  1.49it/s]\n",
      "Validation: 100%|█████████████████████████████| 377/377 [03:28<00:00,  1.80it/s]\n"
     ]
    },
    {
     "name": "stdout",
     "output_type": "stream",
     "text": [
      "Train Loss: 0.0002, Val Loss: 0.0001\n",
      "Epoch 177/300\n"
     ]
    },
    {
     "name": "stderr",
     "output_type": "stream",
     "text": [
      "Training: 100%|█████████████████████████████| 1508/1508 [17:08<00:00,  1.47it/s]\n",
      "Validation: 100%|█████████████████████████████| 377/377 [03:22<00:00,  1.86it/s]\n"
     ]
    },
    {
     "name": "stdout",
     "output_type": "stream",
     "text": [
      "Train Loss: 0.0002, Val Loss: 0.0001\n",
      "Epoch 178/300\n"
     ]
    },
    {
     "name": "stderr",
     "output_type": "stream",
     "text": [
      "Training: 100%|█████████████████████████████| 1508/1508 [17:07<00:00,  1.47it/s]\n",
      "Validation: 100%|█████████████████████████████| 377/377 [03:26<00:00,  1.82it/s]\n"
     ]
    },
    {
     "name": "stdout",
     "output_type": "stream",
     "text": [
      "Train Loss: 0.0002, Val Loss: 0.0001\n",
      "Epoch 179/300\n"
     ]
    },
    {
     "name": "stderr",
     "output_type": "stream",
     "text": [
      "Training: 100%|█████████████████████████████| 1508/1508 [16:46<00:00,  1.50it/s]\n",
      "Validation: 100%|█████████████████████████████| 377/377 [03:27<00:00,  1.82it/s]\n"
     ]
    },
    {
     "name": "stdout",
     "output_type": "stream",
     "text": [
      "Train Loss: 0.0002, Val Loss: 0.0001\n",
      "Epoch 180/300\n"
     ]
    },
    {
     "name": "stderr",
     "output_type": "stream",
     "text": [
      "Training: 100%|█████████████████████████████| 1508/1508 [16:44<00:00,  1.50it/s]\n",
      "Validation: 100%|█████████████████████████████| 377/377 [03:26<00:00,  1.83it/s]\n"
     ]
    },
    {
     "name": "stdout",
     "output_type": "stream",
     "text": [
      "Train Loss: 0.0002, Val Loss: 0.0001\n",
      "Epoch 181/300\n"
     ]
    },
    {
     "name": "stderr",
     "output_type": "stream",
     "text": [
      "Training: 100%|█████████████████████████████| 1508/1508 [17:11<00:00,  1.46it/s]\n",
      "Validation: 100%|█████████████████████████████| 377/377 [03:28<00:00,  1.81it/s]\n"
     ]
    },
    {
     "name": "stdout",
     "output_type": "stream",
     "text": [
      "Train Loss: 0.0002, Val Loss: 0.0002\n",
      "Epoch 182/300\n"
     ]
    },
    {
     "name": "stderr",
     "output_type": "stream",
     "text": [
      "Training: 100%|█████████████████████████████| 1508/1508 [17:10<00:00,  1.46it/s]\n",
      "Validation: 100%|█████████████████████████████| 377/377 [03:26<00:00,  1.83it/s]\n"
     ]
    },
    {
     "name": "stdout",
     "output_type": "stream",
     "text": [
      "Train Loss: 0.0002, Val Loss: 0.0001\n",
      "Epoch 183/300\n"
     ]
    },
    {
     "name": "stderr",
     "output_type": "stream",
     "text": [
      "Training: 100%|█████████████████████████████| 1508/1508 [17:12<00:00,  1.46it/s]\n",
      "Validation: 100%|█████████████████████████████| 377/377 [03:26<00:00,  1.83it/s]\n"
     ]
    },
    {
     "name": "stdout",
     "output_type": "stream",
     "text": [
      "Train Loss: 0.0002, Val Loss: 0.0001\n",
      "Epoch 184/300\n"
     ]
    },
    {
     "name": "stderr",
     "output_type": "stream",
     "text": [
      "Training: 100%|█████████████████████████████| 1508/1508 [17:06<00:00,  1.47it/s]\n",
      "Validation: 100%|█████████████████████████████| 377/377 [03:26<00:00,  1.83it/s]\n"
     ]
    },
    {
     "name": "stdout",
     "output_type": "stream",
     "text": [
      "Train Loss: 0.0002, Val Loss: 0.0001\n",
      "Epoch 185/300\n"
     ]
    },
    {
     "name": "stderr",
     "output_type": "stream",
     "text": [
      "Training: 100%|█████████████████████████████| 1508/1508 [17:01<00:00,  1.48it/s]\n",
      "Validation: 100%|█████████████████████████████| 377/377 [03:26<00:00,  1.82it/s]\n"
     ]
    },
    {
     "name": "stdout",
     "output_type": "stream",
     "text": [
      "Train Loss: 0.0002, Val Loss: 0.0001\n",
      "Epoch 186/300\n"
     ]
    },
    {
     "name": "stderr",
     "output_type": "stream",
     "text": [
      "Training: 100%|█████████████████████████████| 1508/1508 [16:47<00:00,  1.50it/s]\n",
      "Validation: 100%|█████████████████████████████| 377/377 [03:27<00:00,  1.81it/s]\n"
     ]
    },
    {
     "name": "stdout",
     "output_type": "stream",
     "text": [
      "Train Loss: 0.0002, Val Loss: 0.0001\n",
      "Epoch 187/300\n"
     ]
    },
    {
     "name": "stderr",
     "output_type": "stream",
     "text": [
      "Training: 100%|█████████████████████████████| 1508/1508 [16:59<00:00,  1.48it/s]\n",
      "Validation: 100%|█████████████████████████████| 377/377 [03:26<00:00,  1.82it/s]\n"
     ]
    },
    {
     "name": "stdout",
     "output_type": "stream",
     "text": [
      "Train Loss: 0.0002, Val Loss: 0.0001\n",
      "Epoch 188/300\n"
     ]
    },
    {
     "name": "stderr",
     "output_type": "stream",
     "text": [
      "Training: 100%|█████████████████████████████| 1508/1508 [17:02<00:00,  1.47it/s]\n",
      "Validation: 100%|█████████████████████████████| 377/377 [03:25<00:00,  1.83it/s]\n"
     ]
    },
    {
     "name": "stdout",
     "output_type": "stream",
     "text": [
      "Train Loss: 0.0002, Val Loss: 0.0002\n",
      "Epoch 189/300\n"
     ]
    },
    {
     "name": "stderr",
     "output_type": "stream",
     "text": [
      "Training: 100%|█████████████████████████████| 1508/1508 [17:00<00:00,  1.48it/s]\n",
      "Validation: 100%|█████████████████████████████| 377/377 [03:26<00:00,  1.82it/s]\n"
     ]
    },
    {
     "name": "stdout",
     "output_type": "stream",
     "text": [
      "Train Loss: 0.0002, Val Loss: 0.0001\n",
      "Epoch 190/300\n"
     ]
    },
    {
     "name": "stderr",
     "output_type": "stream",
     "text": [
      "Training: 100%|█████████████████████████████| 1508/1508 [16:55<00:00,  1.48it/s]\n",
      "Validation: 100%|█████████████████████████████| 377/377 [03:24<00:00,  1.84it/s]\n"
     ]
    },
    {
     "name": "stdout",
     "output_type": "stream",
     "text": [
      "Train Loss: 0.0002, Val Loss: 0.0001\n",
      "Epoch 191/300\n"
     ]
    },
    {
     "name": "stderr",
     "output_type": "stream",
     "text": [
      "Training: 100%|█████████████████████████████| 1508/1508 [17:07<00:00,  1.47it/s]\n",
      "Validation: 100%|█████████████████████████████| 377/377 [03:20<00:00,  1.88it/s]\n"
     ]
    },
    {
     "name": "stdout",
     "output_type": "stream",
     "text": [
      "Train Loss: 0.0002, Val Loss: 0.0001\n",
      "Epoch 192/300\n"
     ]
    },
    {
     "name": "stderr",
     "output_type": "stream",
     "text": [
      "Training: 100%|█████████████████████████████| 1508/1508 [17:04<00:00,  1.47it/s]\n",
      "Validation: 100%|█████████████████████████████| 377/377 [03:22<00:00,  1.86it/s]\n"
     ]
    },
    {
     "name": "stdout",
     "output_type": "stream",
     "text": [
      "Train Loss: 0.0002, Val Loss: 0.0001\n",
      "Epoch 193/300\n"
     ]
    },
    {
     "name": "stderr",
     "output_type": "stream",
     "text": [
      "Training: 100%|█████████████████████████████| 1508/1508 [16:57<00:00,  1.48it/s]\n",
      "Validation: 100%|█████████████████████████████| 377/377 [03:19<00:00,  1.89it/s]\n"
     ]
    },
    {
     "name": "stdout",
     "output_type": "stream",
     "text": [
      "Train Loss: 0.0002, Val Loss: 0.0002\n",
      "Epoch 194/300\n"
     ]
    },
    {
     "name": "stderr",
     "output_type": "stream",
     "text": [
      "Training: 100%|█████████████████████████████| 1508/1508 [16:48<00:00,  1.50it/s]\n",
      "Validation: 100%|█████████████████████████████| 377/377 [03:27<00:00,  1.82it/s]\n"
     ]
    },
    {
     "name": "stdout",
     "output_type": "stream",
     "text": [
      "Train Loss: 0.0002, Val Loss: 0.0001\n",
      "Epoch 195/300\n"
     ]
    },
    {
     "name": "stderr",
     "output_type": "stream",
     "text": [
      "Training: 100%|█████████████████████████████| 1508/1508 [17:06<00:00,  1.47it/s]\n",
      "Validation: 100%|█████████████████████████████| 377/377 [03:28<00:00,  1.81it/s]\n"
     ]
    },
    {
     "name": "stdout",
     "output_type": "stream",
     "text": [
      "Train Loss: 0.0002, Val Loss: 0.0001\n",
      "Epoch 196/300\n"
     ]
    },
    {
     "name": "stderr",
     "output_type": "stream",
     "text": [
      "Training: 100%|█████████████████████████████| 1508/1508 [17:01<00:00,  1.48it/s]\n",
      "Validation: 100%|█████████████████████████████| 377/377 [03:26<00:00,  1.83it/s]\n"
     ]
    },
    {
     "name": "stdout",
     "output_type": "stream",
     "text": [
      "Train Loss: 0.0002, Val Loss: 0.0001\n",
      "Epoch 197/300\n"
     ]
    },
    {
     "name": "stderr",
     "output_type": "stream",
     "text": [
      "Training: 100%|█████████████████████████████| 1508/1508 [17:08<00:00,  1.47it/s]\n",
      "Validation: 100%|█████████████████████████████| 377/377 [03:25<00:00,  1.84it/s]\n"
     ]
    },
    {
     "name": "stdout",
     "output_type": "stream",
     "text": [
      "Train Loss: 0.0002, Val Loss: 0.0002\n",
      "Epoch 198/300\n"
     ]
    },
    {
     "name": "stderr",
     "output_type": "stream",
     "text": [
      "Training: 100%|█████████████████████████████| 1508/1508 [17:07<00:00,  1.47it/s]\n",
      "Validation: 100%|█████████████████████████████| 377/377 [03:18<00:00,  1.90it/s]\n"
     ]
    },
    {
     "name": "stdout",
     "output_type": "stream",
     "text": [
      "Train Loss: 0.0002, Val Loss: 0.0001\n",
      "Epoch 199/300\n"
     ]
    },
    {
     "name": "stderr",
     "output_type": "stream",
     "text": [
      "Training: 100%|█████████████████████████████| 1508/1508 [17:10<00:00,  1.46it/s]\n",
      "Validation: 100%|█████████████████████████████| 377/377 [03:27<00:00,  1.82it/s]\n"
     ]
    },
    {
     "name": "stdout",
     "output_type": "stream",
     "text": [
      "Train Loss: 0.0002, Val Loss: 0.0001\n",
      "Epoch 200/300\n"
     ]
    },
    {
     "name": "stderr",
     "output_type": "stream",
     "text": [
      "Training: 100%|█████████████████████████████| 1508/1508 [17:06<00:00,  1.47it/s]\n",
      "Validation: 100%|█████████████████████████████| 377/377 [03:26<00:00,  1.82it/s]\n"
     ]
    },
    {
     "name": "stdout",
     "output_type": "stream",
     "text": [
      "Train Loss: 0.0002, Val Loss: 0.0002\n",
      "Epoch 201/300\n"
     ]
    },
    {
     "name": "stderr",
     "output_type": "stream",
     "text": [
      "Training: 100%|█████████████████████████████| 1508/1508 [17:02<00:00,  1.48it/s]\n",
      "Validation: 100%|█████████████████████████████| 377/377 [03:20<00:00,  1.88it/s]\n"
     ]
    },
    {
     "name": "stdout",
     "output_type": "stream",
     "text": [
      "Train Loss: 0.0002, Val Loss: 0.0001\n",
      "Epoch 202/300\n"
     ]
    },
    {
     "name": "stderr",
     "output_type": "stream",
     "text": [
      "Training: 100%|█████████████████████████████| 1508/1508 [16:54<00:00,  1.49it/s]\n",
      "Validation: 100%|█████████████████████████████| 377/377 [03:26<00:00,  1.82it/s]\n"
     ]
    },
    {
     "name": "stdout",
     "output_type": "stream",
     "text": [
      "Train Loss: 0.0002, Val Loss: 0.0001\n",
      "Epoch 203/300\n"
     ]
    },
    {
     "name": "stderr",
     "output_type": "stream",
     "text": [
      "Training: 100%|█████████████████████████████| 1508/1508 [17:12<00:00,  1.46it/s]\n",
      "Validation: 100%|█████████████████████████████| 377/377 [03:24<00:00,  1.84it/s]\n"
     ]
    },
    {
     "name": "stdout",
     "output_type": "stream",
     "text": [
      "Train Loss: 0.0002, Val Loss: 0.0001\n",
      "Epoch 204/300\n"
     ]
    },
    {
     "name": "stderr",
     "output_type": "stream",
     "text": [
      "Training: 100%|█████████████████████████████| 1508/1508 [17:10<00:00,  1.46it/s]\n",
      "Validation: 100%|█████████████████████████████| 377/377 [03:27<00:00,  1.82it/s]\n"
     ]
    },
    {
     "name": "stdout",
     "output_type": "stream",
     "text": [
      "Train Loss: 0.0002, Val Loss: 0.0001\n",
      "Epoch 205/300\n"
     ]
    },
    {
     "name": "stderr",
     "output_type": "stream",
     "text": [
      "Training: 100%|█████████████████████████████| 1508/1508 [16:59<00:00,  1.48it/s]\n",
      "Validation: 100%|█████████████████████████████| 377/377 [03:26<00:00,  1.82it/s]\n"
     ]
    },
    {
     "name": "stdout",
     "output_type": "stream",
     "text": [
      "Train Loss: 0.0002, Val Loss: 0.0001\n",
      "Epoch 206/300\n"
     ]
    },
    {
     "name": "stderr",
     "output_type": "stream",
     "text": [
      "Training: 100%|█████████████████████████████| 1508/1508 [17:08<00:00,  1.47it/s]\n",
      "Validation: 100%|█████████████████████████████| 377/377 [03:19<00:00,  1.89it/s]\n"
     ]
    },
    {
     "name": "stdout",
     "output_type": "stream",
     "text": [
      "Train Loss: 0.0002, Val Loss: 0.0001\n",
      "Epoch 207/300\n"
     ]
    },
    {
     "name": "stderr",
     "output_type": "stream",
     "text": [
      "Training: 100%|█████████████████████████████| 1508/1508 [17:00<00:00,  1.48it/s]\n",
      "Validation: 100%|█████████████████████████████| 377/377 [03:25<00:00,  1.83it/s]\n"
     ]
    },
    {
     "name": "stdout",
     "output_type": "stream",
     "text": [
      "Train Loss: 0.0002, Val Loss: 0.0001\n",
      "Epoch 208/300\n"
     ]
    },
    {
     "name": "stderr",
     "output_type": "stream",
     "text": [
      "Training: 100%|█████████████████████████████| 1508/1508 [17:02<00:00,  1.48it/s]\n",
      "Validation: 100%|█████████████████████████████| 377/377 [03:25<00:00,  1.84it/s]\n"
     ]
    },
    {
     "name": "stdout",
     "output_type": "stream",
     "text": [
      "Train Loss: 0.0002, Val Loss: 0.0001\n",
      "Epoch 209/300\n"
     ]
    },
    {
     "name": "stderr",
     "output_type": "stream",
     "text": [
      "Training: 100%|█████████████████████████████| 1508/1508 [16:44<00:00,  1.50it/s]\n",
      "Validation: 100%|█████████████████████████████| 377/377 [03:25<00:00,  1.83it/s]\n"
     ]
    },
    {
     "name": "stdout",
     "output_type": "stream",
     "text": [
      "Train Loss: 0.0002, Val Loss: 0.0001\n",
      "Epoch 210/300\n"
     ]
    },
    {
     "name": "stderr",
     "output_type": "stream",
     "text": [
      "Training: 100%|█████████████████████████████| 1508/1508 [17:08<00:00,  1.47it/s]\n",
      "Validation: 100%|█████████████████████████████| 377/377 [03:24<00:00,  1.84it/s]\n"
     ]
    },
    {
     "name": "stdout",
     "output_type": "stream",
     "text": [
      "Train Loss: 0.0002, Val Loss: 0.0002\n",
      "Epoch 211/300\n"
     ]
    },
    {
     "name": "stderr",
     "output_type": "stream",
     "text": [
      "Training: 100%|█████████████████████████████| 1508/1508 [16:43<00:00,  1.50it/s]\n",
      "Validation: 100%|█████████████████████████████| 377/377 [03:29<00:00,  1.80it/s]\n"
     ]
    },
    {
     "name": "stdout",
     "output_type": "stream",
     "text": [
      "Train Loss: 0.0002, Val Loss: 0.0001\n",
      "Epoch 212/300\n"
     ]
    },
    {
     "name": "stderr",
     "output_type": "stream",
     "text": [
      "Training: 100%|█████████████████████████████| 1508/1508 [17:04<00:00,  1.47it/s]\n",
      "Validation: 100%|█████████████████████████████| 377/377 [03:27<00:00,  1.82it/s]\n"
     ]
    },
    {
     "name": "stdout",
     "output_type": "stream",
     "text": [
      "Train Loss: 0.0002, Val Loss: 0.0001\n",
      "Epoch 213/300\n"
     ]
    },
    {
     "name": "stderr",
     "output_type": "stream",
     "text": [
      "Training: 100%|█████████████████████████████| 1508/1508 [17:13<00:00,  1.46it/s]\n",
      "Validation: 100%|█████████████████████████████| 377/377 [03:27<00:00,  1.82it/s]\n"
     ]
    },
    {
     "name": "stdout",
     "output_type": "stream",
     "text": [
      "Train Loss: 0.0002, Val Loss: 0.0001\n",
      "Epoch 214/300\n"
     ]
    },
    {
     "name": "stderr",
     "output_type": "stream",
     "text": [
      "Training: 100%|█████████████████████████████| 1508/1508 [17:09<00:00,  1.47it/s]\n",
      "Validation: 100%|█████████████████████████████| 377/377 [03:28<00:00,  1.81it/s]\n"
     ]
    },
    {
     "name": "stdout",
     "output_type": "stream",
     "text": [
      "Train Loss: 0.0002, Val Loss: 0.0001\n",
      "Epoch 215/300\n"
     ]
    },
    {
     "name": "stderr",
     "output_type": "stream",
     "text": [
      "Training: 100%|█████████████████████████████| 1508/1508 [17:05<00:00,  1.47it/s]\n",
      "Validation: 100%|█████████████████████████████| 377/377 [03:27<00:00,  1.81it/s]\n"
     ]
    },
    {
     "name": "stdout",
     "output_type": "stream",
     "text": [
      "Train Loss: 0.0002, Val Loss: 0.0002\n",
      "Epoch 216/300\n"
     ]
    },
    {
     "name": "stderr",
     "output_type": "stream",
     "text": [
      "Training: 100%|█████████████████████████████| 1508/1508 [17:07<00:00,  1.47it/s]\n",
      "Validation: 100%|█████████████████████████████| 377/377 [03:26<00:00,  1.82it/s]\n"
     ]
    },
    {
     "name": "stdout",
     "output_type": "stream",
     "text": [
      "Train Loss: 0.0002, Val Loss: 0.0001\n",
      "Epoch 217/300\n"
     ]
    },
    {
     "name": "stderr",
     "output_type": "stream",
     "text": [
      "Training: 100%|█████████████████████████████| 1508/1508 [16:46<00:00,  1.50it/s]\n",
      "Validation: 100%|█████████████████████████████| 377/377 [03:27<00:00,  1.81it/s]\n"
     ]
    },
    {
     "name": "stdout",
     "output_type": "stream",
     "text": [
      "Train Loss: 0.0002, Val Loss: 0.0001\n",
      "Epoch 218/300\n"
     ]
    },
    {
     "name": "stderr",
     "output_type": "stream",
     "text": [
      "Training: 100%|█████████████████████████████| 1508/1508 [16:49<00:00,  1.49it/s]\n",
      "Validation: 100%|█████████████████████████████| 377/377 [03:27<00:00,  1.82it/s]\n"
     ]
    },
    {
     "name": "stdout",
     "output_type": "stream",
     "text": [
      "Train Loss: 0.0002, Val Loss: 0.0001\n",
      "Epoch 219/300\n"
     ]
    },
    {
     "name": "stderr",
     "output_type": "stream",
     "text": [
      "Training: 100%|█████████████████████████████| 1508/1508 [17:06<00:00,  1.47it/s]\n",
      "Validation: 100%|█████████████████████████████| 377/377 [03:27<00:00,  1.81it/s]\n"
     ]
    },
    {
     "name": "stdout",
     "output_type": "stream",
     "text": [
      "Train Loss: 0.0002, Val Loss: 0.0001\n",
      "Epoch 220/300\n"
     ]
    },
    {
     "name": "stderr",
     "output_type": "stream",
     "text": [
      "Training: 100%|█████████████████████████████| 1508/1508 [17:16<00:00,  1.46it/s]\n",
      "Validation: 100%|█████████████████████████████| 377/377 [03:27<00:00,  1.82it/s]\n"
     ]
    },
    {
     "name": "stdout",
     "output_type": "stream",
     "text": [
      "Train Loss: 0.0002, Val Loss: 0.0001\n",
      "Epoch 221/300\n"
     ]
    },
    {
     "name": "stderr",
     "output_type": "stream",
     "text": [
      "Training: 100%|█████████████████████████████| 1508/1508 [17:13<00:00,  1.46it/s]\n",
      "Validation: 100%|█████████████████████████████| 377/377 [03:19<00:00,  1.89it/s]\n"
     ]
    },
    {
     "name": "stdout",
     "output_type": "stream",
     "text": [
      "Train Loss: 0.0002, Val Loss: 0.0001\n",
      "Epoch 222/300\n"
     ]
    },
    {
     "name": "stderr",
     "output_type": "stream",
     "text": [
      "Training: 100%|█████████████████████████████| 1508/1508 [16:49<00:00,  1.49it/s]\n",
      "Validation: 100%|█████████████████████████████| 377/377 [03:21<00:00,  1.87it/s]\n"
     ]
    },
    {
     "name": "stdout",
     "output_type": "stream",
     "text": [
      "Train Loss: 0.0002, Val Loss: 0.0001\n",
      "Epoch 223/300\n"
     ]
    },
    {
     "name": "stderr",
     "output_type": "stream",
     "text": [
      "Training: 100%|█████████████████████████████| 1508/1508 [17:08<00:00,  1.47it/s]\n",
      "Validation: 100%|█████████████████████████████| 377/377 [03:23<00:00,  1.85it/s]\n"
     ]
    },
    {
     "name": "stdout",
     "output_type": "stream",
     "text": [
      "Train Loss: 0.0002, Val Loss: 0.0001\n",
      "Epoch 224/300\n"
     ]
    },
    {
     "name": "stderr",
     "output_type": "stream",
     "text": [
      "Training: 100%|█████████████████████████████| 1508/1508 [17:02<00:00,  1.47it/s]\n",
      "Validation: 100%|█████████████████████████████| 377/377 [03:27<00:00,  1.81it/s]\n"
     ]
    },
    {
     "name": "stdout",
     "output_type": "stream",
     "text": [
      "Train Loss: 0.0002, Val Loss: 0.0001\n",
      "Epoch 225/300\n"
     ]
    },
    {
     "name": "stderr",
     "output_type": "stream",
     "text": [
      "Training: 100%|█████████████████████████████| 1508/1508 [17:14<00:00,  1.46it/s]\n",
      "Validation: 100%|█████████████████████████████| 377/377 [03:28<00:00,  1.81it/s]\n"
     ]
    },
    {
     "name": "stdout",
     "output_type": "stream",
     "text": [
      "Train Loss: 0.0002, Val Loss: 0.0001\n",
      "Epoch 226/300\n"
     ]
    },
    {
     "name": "stderr",
     "output_type": "stream",
     "text": [
      "Training: 100%|█████████████████████████████| 1508/1508 [17:14<00:00,  1.46it/s]\n",
      "Validation: 100%|█████████████████████████████| 377/377 [03:26<00:00,  1.83it/s]\n"
     ]
    },
    {
     "name": "stdout",
     "output_type": "stream",
     "text": [
      "Train Loss: 0.0002, Val Loss: 0.0001\n",
      "Epoch 227/300\n"
     ]
    },
    {
     "name": "stderr",
     "output_type": "stream",
     "text": [
      "Training: 100%|█████████████████████████████| 1508/1508 [17:00<00:00,  1.48it/s]\n",
      "Validation: 100%|█████████████████████████████| 377/377 [03:27<00:00,  1.82it/s]\n"
     ]
    },
    {
     "name": "stdout",
     "output_type": "stream",
     "text": [
      "Train Loss: 0.0002, Val Loss: 0.0001\n",
      "Epoch 228/300\n"
     ]
    },
    {
     "name": "stderr",
     "output_type": "stream",
     "text": [
      "Training: 100%|█████████████████████████████| 1508/1508 [17:09<00:00,  1.46it/s]\n",
      "Validation: 100%|█████████████████████████████| 377/377 [03:27<00:00,  1.82it/s]\n"
     ]
    },
    {
     "name": "stdout",
     "output_type": "stream",
     "text": [
      "Train Loss: 0.0002, Val Loss: 0.0001\n",
      "Epoch 229/300\n"
     ]
    },
    {
     "name": "stderr",
     "output_type": "stream",
     "text": [
      "Training: 100%|█████████████████████████████| 1508/1508 [17:10<00:00,  1.46it/s]\n",
      "Validation: 100%|█████████████████████████████| 377/377 [03:27<00:00,  1.81it/s]\n"
     ]
    },
    {
     "name": "stdout",
     "output_type": "stream",
     "text": [
      "Train Loss: 0.0002, Val Loss: 0.0001\n",
      "Epoch 230/300\n"
     ]
    },
    {
     "name": "stderr",
     "output_type": "stream",
     "text": [
      "Training: 100%|█████████████████████████████| 1508/1508 [17:11<00:00,  1.46it/s]\n",
      "Validation: 100%|█████████████████████████████| 377/377 [03:27<00:00,  1.82it/s]\n"
     ]
    },
    {
     "name": "stdout",
     "output_type": "stream",
     "text": [
      "Train Loss: 0.0002, Val Loss: 0.0001\n",
      "Epoch 231/300\n"
     ]
    },
    {
     "name": "stderr",
     "output_type": "stream",
     "text": [
      "Training: 100%|█████████████████████████████| 1508/1508 [17:04<00:00,  1.47it/s]\n",
      "Validation: 100%|█████████████████████████████| 377/377 [03:22<00:00,  1.86it/s]\n"
     ]
    },
    {
     "name": "stdout",
     "output_type": "stream",
     "text": [
      "Train Loss: 0.0002, Val Loss: 0.0001\n",
      "Epoch 232/300\n"
     ]
    },
    {
     "name": "stderr",
     "output_type": "stream",
     "text": [
      "Training: 100%|█████████████████████████████| 1508/1508 [17:13<00:00,  1.46it/s]\n",
      "Validation: 100%|█████████████████████████████| 377/377 [03:28<00:00,  1.81it/s]\n"
     ]
    },
    {
     "name": "stdout",
     "output_type": "stream",
     "text": [
      "Train Loss: 0.0002, Val Loss: 0.0001\n",
      "Epoch 233/300\n"
     ]
    },
    {
     "name": "stderr",
     "output_type": "stream",
     "text": [
      "Training: 100%|█████████████████████████████| 1508/1508 [17:13<00:00,  1.46it/s]\n",
      "Validation: 100%|█████████████████████████████| 377/377 [03:28<00:00,  1.81it/s]\n"
     ]
    },
    {
     "name": "stdout",
     "output_type": "stream",
     "text": [
      "Train Loss: 0.0002, Val Loss: 0.0001\n",
      "Epoch 234/300\n"
     ]
    },
    {
     "name": "stderr",
     "output_type": "stream",
     "text": [
      "Training: 100%|█████████████████████████████| 1508/1508 [17:07<00:00,  1.47it/s]\n",
      "Validation: 100%|█████████████████████████████| 377/377 [03:28<00:00,  1.81it/s]\n"
     ]
    },
    {
     "name": "stdout",
     "output_type": "stream",
     "text": [
      "Train Loss: 0.0002, Val Loss: 0.0001\n",
      "Epoch 235/300\n"
     ]
    },
    {
     "name": "stderr",
     "output_type": "stream",
     "text": [
      "Training: 100%|█████████████████████████████| 1508/1508 [16:48<00:00,  1.50it/s]\n",
      "Validation: 100%|█████████████████████████████| 377/377 [03:28<00:00,  1.81it/s]\n"
     ]
    },
    {
     "name": "stdout",
     "output_type": "stream",
     "text": [
      "Train Loss: 0.0002, Val Loss: 0.0002\n",
      "Epoch 236/300\n"
     ]
    },
    {
     "name": "stderr",
     "output_type": "stream",
     "text": [
      "Training: 100%|█████████████████████████████| 1508/1508 [17:11<00:00,  1.46it/s]\n",
      "Validation: 100%|█████████████████████████████| 377/377 [03:27<00:00,  1.82it/s]\n"
     ]
    },
    {
     "name": "stdout",
     "output_type": "stream",
     "text": [
      "Train Loss: 0.0002, Val Loss: 0.0001\n",
      "Epoch 237/300\n"
     ]
    },
    {
     "name": "stderr",
     "output_type": "stream",
     "text": [
      "Training: 100%|█████████████████████████████| 1508/1508 [17:09<00:00,  1.46it/s]\n",
      "Validation: 100%|█████████████████████████████| 377/377 [03:27<00:00,  1.82it/s]\n"
     ]
    },
    {
     "name": "stdout",
     "output_type": "stream",
     "text": [
      "Train Loss: 0.0002, Val Loss: 0.0001\n",
      "Epoch 238/300\n"
     ]
    },
    {
     "name": "stderr",
     "output_type": "stream",
     "text": [
      "Training: 100%|█████████████████████████████| 1508/1508 [17:07<00:00,  1.47it/s]\n",
      "Validation: 100%|█████████████████████████████| 377/377 [03:25<00:00,  1.84it/s]\n"
     ]
    },
    {
     "name": "stdout",
     "output_type": "stream",
     "text": [
      "Train Loss: 0.0002, Val Loss: 0.0001\n",
      "Epoch 239/300\n"
     ]
    },
    {
     "name": "stderr",
     "output_type": "stream",
     "text": [
      "Training: 100%|█████████████████████████████| 1508/1508 [17:12<00:00,  1.46it/s]\n",
      "Validation: 100%|█████████████████████████████| 377/377 [03:28<00:00,  1.81it/s]\n"
     ]
    },
    {
     "name": "stdout",
     "output_type": "stream",
     "text": [
      "Train Loss: 0.0002, Val Loss: 0.0001\n",
      "Epoch 240/300\n"
     ]
    },
    {
     "name": "stderr",
     "output_type": "stream",
     "text": [
      "Training: 100%|█████████████████████████████| 1508/1508 [16:42<00:00,  1.50it/s]\n",
      "Validation: 100%|█████████████████████████████| 377/377 [03:21<00:00,  1.88it/s]\n"
     ]
    },
    {
     "name": "stdout",
     "output_type": "stream",
     "text": [
      "Train Loss: 0.0002, Val Loss: 0.0001\n",
      "Epoch 241/300\n"
     ]
    },
    {
     "name": "stderr",
     "output_type": "stream",
     "text": [
      "Training: 100%|█████████████████████████████| 1508/1508 [17:08<00:00,  1.47it/s]\n",
      "Validation: 100%|█████████████████████████████| 377/377 [03:20<00:00,  1.88it/s]\n"
     ]
    },
    {
     "name": "stdout",
     "output_type": "stream",
     "text": [
      "Train Loss: 0.0002, Val Loss: 0.0001\n",
      "Epoch 242/300\n"
     ]
    },
    {
     "name": "stderr",
     "output_type": "stream",
     "text": [
      "Training: 100%|█████████████████████████████| 1508/1508 [17:06<00:00,  1.47it/s]\n",
      "Validation: 100%|█████████████████████████████| 377/377 [03:27<00:00,  1.82it/s]\n"
     ]
    },
    {
     "name": "stdout",
     "output_type": "stream",
     "text": [
      "Train Loss: 0.0002, Val Loss: 0.0001\n",
      "Epoch 243/300\n"
     ]
    },
    {
     "name": "stderr",
     "output_type": "stream",
     "text": [
      "Training: 100%|█████████████████████████████| 1508/1508 [17:10<00:00,  1.46it/s]\n",
      "Validation: 100%|█████████████████████████████| 377/377 [03:21<00:00,  1.87it/s]\n"
     ]
    },
    {
     "name": "stdout",
     "output_type": "stream",
     "text": [
      "Train Loss: 0.0002, Val Loss: 0.0002\n",
      "Epoch 244/300\n"
     ]
    },
    {
     "name": "stderr",
     "output_type": "stream",
     "text": [
      "Training: 100%|█████████████████████████████| 1508/1508 [17:10<00:00,  1.46it/s]\n",
      "Validation: 100%|█████████████████████████████| 377/377 [03:27<00:00,  1.82it/s]\n"
     ]
    },
    {
     "name": "stdout",
     "output_type": "stream",
     "text": [
      "Train Loss: 0.0002, Val Loss: 0.0001\n",
      "Epoch 245/300\n"
     ]
    },
    {
     "name": "stderr",
     "output_type": "stream",
     "text": [
      "Training: 100%|█████████████████████████████| 1508/1508 [17:04<00:00,  1.47it/s]\n",
      "Validation: 100%|█████████████████████████████| 377/377 [03:26<00:00,  1.83it/s]\n"
     ]
    },
    {
     "name": "stdout",
     "output_type": "stream",
     "text": [
      "Train Loss: 0.0002, Val Loss: 0.0001\n",
      "Epoch 246/300\n"
     ]
    },
    {
     "name": "stderr",
     "output_type": "stream",
     "text": [
      "Training: 100%|█████████████████████████████| 1508/1508 [17:14<00:00,  1.46it/s]\n",
      "Validation: 100%|█████████████████████████████| 377/377 [03:26<00:00,  1.82it/s]\n"
     ]
    },
    {
     "name": "stdout",
     "output_type": "stream",
     "text": [
      "Train Loss: 0.0002, Val Loss: 0.0001\n",
      "Epoch 247/300\n"
     ]
    },
    {
     "name": "stderr",
     "output_type": "stream",
     "text": [
      "Training: 100%|█████████████████████████████| 1508/1508 [16:56<00:00,  1.48it/s]\n",
      "Validation: 100%|█████████████████████████████| 377/377 [03:29<00:00,  1.80it/s]\n"
     ]
    },
    {
     "name": "stdout",
     "output_type": "stream",
     "text": [
      "Train Loss: 0.0002, Val Loss: 0.0001\n",
      "Epoch 248/300\n"
     ]
    },
    {
     "name": "stderr",
     "output_type": "stream",
     "text": [
      "Training: 100%|█████████████████████████████| 1508/1508 [17:12<00:00,  1.46it/s]\n",
      "Validation: 100%|█████████████████████████████| 377/377 [03:27<00:00,  1.81it/s]\n"
     ]
    },
    {
     "name": "stdout",
     "output_type": "stream",
     "text": [
      "Train Loss: 0.0002, Val Loss: 0.0001\n",
      "Epoch 249/300\n"
     ]
    },
    {
     "name": "stderr",
     "output_type": "stream",
     "text": [
      "Training: 100%|█████████████████████████████| 1508/1508 [17:11<00:00,  1.46it/s]\n",
      "Validation: 100%|█████████████████████████████| 377/377 [03:26<00:00,  1.82it/s]\n"
     ]
    },
    {
     "name": "stdout",
     "output_type": "stream",
     "text": [
      "Train Loss: 0.0002, Val Loss: 0.0001\n",
      "Epoch 250/300\n"
     ]
    },
    {
     "name": "stderr",
     "output_type": "stream",
     "text": [
      "Training: 100%|█████████████████████████████| 1508/1508 [16:46<00:00,  1.50it/s]\n",
      "Validation: 100%|█████████████████████████████| 377/377 [03:19<00:00,  1.89it/s]\n"
     ]
    },
    {
     "name": "stdout",
     "output_type": "stream",
     "text": [
      "Train Loss: 0.0002, Val Loss: 0.0001\n",
      "Epoch 251/300\n"
     ]
    },
    {
     "name": "stderr",
     "output_type": "stream",
     "text": [
      "Training: 100%|█████████████████████████████| 1508/1508 [17:07<00:00,  1.47it/s]\n",
      "Validation: 100%|█████████████████████████████| 377/377 [03:27<00:00,  1.82it/s]\n"
     ]
    },
    {
     "name": "stdout",
     "output_type": "stream",
     "text": [
      "Train Loss: 0.0002, Val Loss: 0.0001\n",
      "Epoch 252/300\n"
     ]
    },
    {
     "name": "stderr",
     "output_type": "stream",
     "text": [
      "Training: 100%|█████████████████████████████| 1508/1508 [17:07<00:00,  1.47it/s]\n",
      "Validation: 100%|█████████████████████████████| 377/377 [03:27<00:00,  1.82it/s]\n"
     ]
    },
    {
     "name": "stdout",
     "output_type": "stream",
     "text": [
      "Train Loss: 0.0002, Val Loss: 0.0001\n",
      "Epoch 253/300\n"
     ]
    },
    {
     "name": "stderr",
     "output_type": "stream",
     "text": [
      "Training: 100%|█████████████████████████████| 1508/1508 [17:11<00:00,  1.46it/s]\n",
      "Validation: 100%|█████████████████████████████| 377/377 [03:27<00:00,  1.82it/s]\n"
     ]
    },
    {
     "name": "stdout",
     "output_type": "stream",
     "text": [
      "Train Loss: 0.0002, Val Loss: 0.0001\n",
      "Epoch 254/300\n"
     ]
    },
    {
     "name": "stderr",
     "output_type": "stream",
     "text": [
      "Training: 100%|█████████████████████████████| 1508/1508 [17:11<00:00,  1.46it/s]\n",
      "Validation: 100%|█████████████████████████████| 377/377 [03:27<00:00,  1.82it/s]\n"
     ]
    },
    {
     "name": "stdout",
     "output_type": "stream",
     "text": [
      "Train Loss: 0.0002, Val Loss: 0.0001\n",
      "Epoch 255/300\n"
     ]
    },
    {
     "name": "stderr",
     "output_type": "stream",
     "text": [
      "Training: 100%|█████████████████████████████| 1508/1508 [17:12<00:00,  1.46it/s]\n",
      "Validation: 100%|█████████████████████████████| 377/377 [03:26<00:00,  1.83it/s]\n"
     ]
    },
    {
     "name": "stdout",
     "output_type": "stream",
     "text": [
      "Train Loss: 0.0002, Val Loss: 0.0001\n",
      "Epoch 256/300\n"
     ]
    },
    {
     "name": "stderr",
     "output_type": "stream",
     "text": [
      "Training: 100%|█████████████████████████████| 1508/1508 [16:59<00:00,  1.48it/s]\n",
      "Validation: 100%|█████████████████████████████| 377/377 [03:26<00:00,  1.83it/s]\n"
     ]
    },
    {
     "name": "stdout",
     "output_type": "stream",
     "text": [
      "Train Loss: 0.0002, Val Loss: 0.0001\n",
      "Epoch 257/300\n"
     ]
    },
    {
     "name": "stderr",
     "output_type": "stream",
     "text": [
      "Training: 100%|█████████████████████████████| 1508/1508 [17:12<00:00,  1.46it/s]\n",
      "Validation: 100%|█████████████████████████████| 377/377 [03:24<00:00,  1.85it/s]\n"
     ]
    },
    {
     "name": "stdout",
     "output_type": "stream",
     "text": [
      "Train Loss: 0.0002, Val Loss: 0.0001\n",
      "Epoch 258/300\n"
     ]
    },
    {
     "name": "stderr",
     "output_type": "stream",
     "text": [
      "Training: 100%|█████████████████████████████| 1508/1508 [17:10<00:00,  1.46it/s]\n",
      "Validation: 100%|█████████████████████████████| 377/377 [03:20<00:00,  1.88it/s]\n"
     ]
    },
    {
     "name": "stdout",
     "output_type": "stream",
     "text": [
      "Train Loss: 0.0002, Val Loss: 0.0001\n",
      "Epoch 259/300\n"
     ]
    },
    {
     "name": "stderr",
     "output_type": "stream",
     "text": [
      "Training: 100%|█████████████████████████████| 1508/1508 [17:01<00:00,  1.48it/s]\n",
      "Validation: 100%|█████████████████████████████| 377/377 [03:26<00:00,  1.83it/s]\n"
     ]
    },
    {
     "name": "stdout",
     "output_type": "stream",
     "text": [
      "Train Loss: 0.0002, Val Loss: 0.0001\n",
      "Epoch 260/300\n"
     ]
    },
    {
     "name": "stderr",
     "output_type": "stream",
     "text": [
      "Training: 100%|█████████████████████████████| 1508/1508 [17:15<00:00,  1.46it/s]\n",
      "Validation: 100%|█████████████████████████████| 377/377 [03:25<00:00,  1.83it/s]\n"
     ]
    },
    {
     "name": "stdout",
     "output_type": "stream",
     "text": [
      "Train Loss: 0.0002, Val Loss: 0.0001\n",
      "Epoch 261/300\n"
     ]
    },
    {
     "name": "stderr",
     "output_type": "stream",
     "text": [
      "Training: 100%|█████████████████████████████| 1508/1508 [16:42<00:00,  1.50it/s]\n",
      "Validation: 100%|█████████████████████████████| 377/377 [03:27<00:00,  1.82it/s]\n"
     ]
    },
    {
     "name": "stdout",
     "output_type": "stream",
     "text": [
      "Train Loss: 0.0002, Val Loss: 0.0001\n",
      "Epoch 262/300\n"
     ]
    },
    {
     "name": "stderr",
     "output_type": "stream",
     "text": [
      "Training: 100%|█████████████████████████████| 1508/1508 [17:13<00:00,  1.46it/s]\n",
      "Validation: 100%|█████████████████████████████| 377/377 [03:22<00:00,  1.87it/s]\n"
     ]
    },
    {
     "name": "stdout",
     "output_type": "stream",
     "text": [
      "Train Loss: 0.0002, Val Loss: 0.0001\n",
      "Epoch 263/300\n"
     ]
    },
    {
     "name": "stderr",
     "output_type": "stream",
     "text": [
      "Training: 100%|█████████████████████████████| 1508/1508 [17:05<00:00,  1.47it/s]\n",
      "Validation: 100%|█████████████████████████████| 377/377 [03:28<00:00,  1.81it/s]\n"
     ]
    },
    {
     "name": "stdout",
     "output_type": "stream",
     "text": [
      "Train Loss: 0.0002, Val Loss: 0.0001\n",
      "Epoch 264/300\n"
     ]
    },
    {
     "name": "stderr",
     "output_type": "stream",
     "text": [
      "Training: 100%|█████████████████████████████| 1508/1508 [16:50<00:00,  1.49it/s]\n",
      "Validation: 100%|█████████████████████████████| 377/377 [03:26<00:00,  1.83it/s]\n"
     ]
    },
    {
     "name": "stdout",
     "output_type": "stream",
     "text": [
      "Train Loss: 0.0002, Val Loss: 0.0001\n",
      "Epoch 265/300\n"
     ]
    },
    {
     "name": "stderr",
     "output_type": "stream",
     "text": [
      "Training: 100%|█████████████████████████████| 1508/1508 [17:13<00:00,  1.46it/s]\n",
      "Validation: 100%|█████████████████████████████| 377/377 [03:29<00:00,  1.80it/s]\n"
     ]
    },
    {
     "name": "stdout",
     "output_type": "stream",
     "text": [
      "Train Loss: 0.0002, Val Loss: 0.0001\n",
      "Epoch 266/300\n"
     ]
    },
    {
     "name": "stderr",
     "output_type": "stream",
     "text": [
      "Training: 100%|█████████████████████████████| 1508/1508 [16:58<00:00,  1.48it/s]\n",
      "Validation: 100%|█████████████████████████████| 377/377 [03:27<00:00,  1.82it/s]\n"
     ]
    },
    {
     "name": "stdout",
     "output_type": "stream",
     "text": [
      "Train Loss: 0.0002, Val Loss: 0.0001\n",
      "Epoch 267/300\n"
     ]
    },
    {
     "name": "stderr",
     "output_type": "stream",
     "text": [
      "Training: 100%|█████████████████████████████| 1508/1508 [16:48<00:00,  1.50it/s]\n",
      "Validation: 100%|█████████████████████████████| 377/377 [03:27<00:00,  1.82it/s]\n"
     ]
    },
    {
     "name": "stdout",
     "output_type": "stream",
     "text": [
      "Train Loss: 0.0002, Val Loss: 0.0001\n",
      "Epoch 268/300\n"
     ]
    },
    {
     "name": "stderr",
     "output_type": "stream",
     "text": [
      "Training: 100%|█████████████████████████████| 1508/1508 [17:06<00:00,  1.47it/s]\n",
      "Validation: 100%|█████████████████████████████| 377/377 [03:26<00:00,  1.83it/s]\n"
     ]
    },
    {
     "name": "stdout",
     "output_type": "stream",
     "text": [
      "Train Loss: 0.0002, Val Loss: 0.0001\n",
      "Epoch 269/300\n"
     ]
    },
    {
     "name": "stderr",
     "output_type": "stream",
     "text": [
      "Training: 100%|█████████████████████████████| 1508/1508 [16:50<00:00,  1.49it/s]\n",
      "Validation: 100%|█████████████████████████████| 377/377 [03:28<00:00,  1.80it/s]\n"
     ]
    },
    {
     "name": "stdout",
     "output_type": "stream",
     "text": [
      "Train Loss: 0.0002, Val Loss: 0.0001\n",
      "Epoch 270/300\n"
     ]
    },
    {
     "name": "stderr",
     "output_type": "stream",
     "text": [
      "Training: 100%|█████████████████████████████| 1508/1508 [17:09<00:00,  1.46it/s]\n",
      "Validation: 100%|█████████████████████████████| 377/377 [03:22<00:00,  1.86it/s]\n"
     ]
    },
    {
     "name": "stdout",
     "output_type": "stream",
     "text": [
      "Train Loss: 0.0002, Val Loss: 0.0001\n",
      "Epoch 271/300\n"
     ]
    },
    {
     "name": "stderr",
     "output_type": "stream",
     "text": [
      "Training: 100%|█████████████████████████████| 1508/1508 [17:07<00:00,  1.47it/s]\n",
      "Validation: 100%|█████████████████████████████| 377/377 [03:28<00:00,  1.81it/s]\n"
     ]
    },
    {
     "name": "stdout",
     "output_type": "stream",
     "text": [
      "Train Loss: 0.0002, Val Loss: 0.0001\n",
      "Epoch 272/300\n"
     ]
    },
    {
     "name": "stderr",
     "output_type": "stream",
     "text": [
      "Training: 100%|█████████████████████████████| 1508/1508 [16:56<00:00,  1.48it/s]\n",
      "Validation: 100%|█████████████████████████████| 377/377 [03:20<00:00,  1.88it/s]\n"
     ]
    },
    {
     "name": "stdout",
     "output_type": "stream",
     "text": [
      "Train Loss: 0.0002, Val Loss: 0.0001\n",
      "Epoch 273/300\n"
     ]
    },
    {
     "name": "stderr",
     "output_type": "stream",
     "text": [
      "Training: 100%|█████████████████████████████| 1508/1508 [17:06<00:00,  1.47it/s]\n",
      "Validation: 100%|█████████████████████████████| 377/377 [03:20<00:00,  1.88it/s]\n"
     ]
    },
    {
     "name": "stdout",
     "output_type": "stream",
     "text": [
      "Train Loss: 0.0002, Val Loss: 0.0001\n",
      "Epoch 274/300\n"
     ]
    },
    {
     "name": "stderr",
     "output_type": "stream",
     "text": [
      "Training: 100%|█████████████████████████████| 1508/1508 [17:14<00:00,  1.46it/s]\n",
      "Validation: 100%|█████████████████████████████| 377/377 [03:27<00:00,  1.81it/s]\n"
     ]
    },
    {
     "name": "stdout",
     "output_type": "stream",
     "text": [
      "Train Loss: 0.0002, Val Loss: 0.0001\n",
      "Epoch 275/300\n"
     ]
    },
    {
     "name": "stderr",
     "output_type": "stream",
     "text": [
      "Training: 100%|█████████████████████████████| 1508/1508 [17:10<00:00,  1.46it/s]\n",
      "Validation: 100%|█████████████████████████████| 377/377 [03:29<00:00,  1.80it/s]\n"
     ]
    },
    {
     "name": "stdout",
     "output_type": "stream",
     "text": [
      "Train Loss: 0.0002, Val Loss: 0.0001\n",
      "Epoch 276/300\n"
     ]
    },
    {
     "name": "stderr",
     "output_type": "stream",
     "text": [
      "Training: 100%|█████████████████████████████| 1508/1508 [16:52<00:00,  1.49it/s]\n",
      "Validation: 100%|█████████████████████████████| 377/377 [03:30<00:00,  1.79it/s]\n"
     ]
    },
    {
     "name": "stdout",
     "output_type": "stream",
     "text": [
      "Train Loss: 0.0002, Val Loss: 0.0001\n",
      "Epoch 277/300\n"
     ]
    },
    {
     "name": "stderr",
     "output_type": "stream",
     "text": [
      "Training: 100%|█████████████████████████████| 1508/1508 [17:11<00:00,  1.46it/s]\n",
      "Validation: 100%|█████████████████████████████| 377/377 [03:28<00:00,  1.81it/s]\n"
     ]
    },
    {
     "name": "stdout",
     "output_type": "stream",
     "text": [
      "Train Loss: 0.0002, Val Loss: 0.0001\n",
      "Epoch 278/300\n"
     ]
    },
    {
     "name": "stderr",
     "output_type": "stream",
     "text": [
      "Training: 100%|█████████████████████████████| 1508/1508 [17:15<00:00,  1.46it/s]\n",
      "Validation: 100%|█████████████████████████████| 377/377 [03:29<00:00,  1.80it/s]\n"
     ]
    },
    {
     "name": "stdout",
     "output_type": "stream",
     "text": [
      "Train Loss: 0.0002, Val Loss: 0.0001\n",
      "Epoch 279/300\n"
     ]
    },
    {
     "name": "stderr",
     "output_type": "stream",
     "text": [
      "Training: 100%|█████████████████████████████| 1508/1508 [17:19<00:00,  1.45it/s]\n",
      "Validation: 100%|█████████████████████████████| 377/377 [03:29<00:00,  1.80it/s]\n"
     ]
    },
    {
     "name": "stdout",
     "output_type": "stream",
     "text": [
      "Train Loss: 0.0002, Val Loss: 0.0001\n",
      "Epoch 280/300\n"
     ]
    },
    {
     "name": "stderr",
     "output_type": "stream",
     "text": [
      "Training: 100%|█████████████████████████████| 1508/1508 [17:11<00:00,  1.46it/s]\n",
      "Validation: 100%|█████████████████████████████| 377/377 [03:27<00:00,  1.81it/s]\n"
     ]
    },
    {
     "name": "stdout",
     "output_type": "stream",
     "text": [
      "Train Loss: 0.0002, Val Loss: 0.0001\n",
      "Epoch 281/300\n"
     ]
    },
    {
     "name": "stderr",
     "output_type": "stream",
     "text": [
      "Training: 100%|█████████████████████████████| 1508/1508 [17:07<00:00,  1.47it/s]\n",
      "Validation: 100%|█████████████████████████████| 377/377 [03:22<00:00,  1.87it/s]\n"
     ]
    },
    {
     "name": "stdout",
     "output_type": "stream",
     "text": [
      "Train Loss: 0.0002, Val Loss: 0.0001\n",
      "Epoch 282/300\n"
     ]
    },
    {
     "name": "stderr",
     "output_type": "stream",
     "text": [
      "Training: 100%|█████████████████████████████| 1508/1508 [17:08<00:00,  1.47it/s]\n",
      "Validation: 100%|█████████████████████████████| 377/377 [03:22<00:00,  1.86it/s]\n"
     ]
    },
    {
     "name": "stdout",
     "output_type": "stream",
     "text": [
      "Train Loss: 0.0002, Val Loss: 0.0001\n",
      "Epoch 283/300\n"
     ]
    },
    {
     "name": "stderr",
     "output_type": "stream",
     "text": [
      "Training: 100%|█████████████████████████████| 1508/1508 [16:55<00:00,  1.48it/s]\n",
      "Validation: 100%|█████████████████████████████| 377/377 [03:28<00:00,  1.81it/s]\n"
     ]
    },
    {
     "name": "stdout",
     "output_type": "stream",
     "text": [
      "Train Loss: 0.0002, Val Loss: 0.0001\n",
      "Epoch 284/300\n"
     ]
    },
    {
     "name": "stderr",
     "output_type": "stream",
     "text": [
      "Training: 100%|█████████████████████████████| 1508/1508 [17:08<00:00,  1.47it/s]\n",
      "Validation: 100%|█████████████████████████████| 377/377 [03:27<00:00,  1.81it/s]\n"
     ]
    },
    {
     "name": "stdout",
     "output_type": "stream",
     "text": [
      "Train Loss: 0.0002, Val Loss: 0.0001\n",
      "Epoch 285/300\n"
     ]
    },
    {
     "name": "stderr",
     "output_type": "stream",
     "text": [
      "Training: 100%|█████████████████████████████| 1508/1508 [16:48<00:00,  1.49it/s]\n",
      "Validation: 100%|█████████████████████████████| 377/377 [03:29<00:00,  1.80it/s]\n"
     ]
    },
    {
     "name": "stdout",
     "output_type": "stream",
     "text": [
      "Train Loss: 0.0002, Val Loss: 0.0001\n",
      "Epoch 286/300\n"
     ]
    },
    {
     "name": "stderr",
     "output_type": "stream",
     "text": [
      "Training: 100%|█████████████████████████████| 1508/1508 [17:15<00:00,  1.46it/s]\n",
      "Validation: 100%|█████████████████████████████| 377/377 [03:28<00:00,  1.81it/s]\n"
     ]
    },
    {
     "name": "stdout",
     "output_type": "stream",
     "text": [
      "Train Loss: 0.0002, Val Loss: 0.0001\n",
      "Epoch 287/300\n"
     ]
    },
    {
     "name": "stderr",
     "output_type": "stream",
     "text": [
      "Training: 100%|█████████████████████████████| 1508/1508 [16:48<00:00,  1.50it/s]\n",
      "Validation: 100%|█████████████████████████████| 377/377 [03:22<00:00,  1.86it/s]\n"
     ]
    },
    {
     "name": "stdout",
     "output_type": "stream",
     "text": [
      "Train Loss: 0.0002, Val Loss: 0.0001\n",
      "Epoch 288/300\n"
     ]
    },
    {
     "name": "stderr",
     "output_type": "stream",
     "text": [
      "Training: 100%|█████████████████████████████| 1508/1508 [17:15<00:00,  1.46it/s]\n",
      "Validation: 100%|█████████████████████████████| 377/377 [03:27<00:00,  1.82it/s]\n"
     ]
    },
    {
     "name": "stdout",
     "output_type": "stream",
     "text": [
      "Train Loss: 0.0002, Val Loss: 0.0001\n",
      "Epoch 289/300\n"
     ]
    },
    {
     "name": "stderr",
     "output_type": "stream",
     "text": [
      "Training: 100%|█████████████████████████████| 1508/1508 [16:46<00:00,  1.50it/s]\n",
      "Validation: 100%|█████████████████████████████| 377/377 [03:28<00:00,  1.81it/s]\n"
     ]
    },
    {
     "name": "stdout",
     "output_type": "stream",
     "text": [
      "Train Loss: 0.0002, Val Loss: 0.0001\n",
      "Epoch 290/300\n"
     ]
    },
    {
     "name": "stderr",
     "output_type": "stream",
     "text": [
      "Training: 100%|█████████████████████████████| 1508/1508 [17:08<00:00,  1.47it/s]\n",
      "Validation: 100%|█████████████████████████████| 377/377 [03:27<00:00,  1.82it/s]\n"
     ]
    },
    {
     "name": "stdout",
     "output_type": "stream",
     "text": [
      "Train Loss: 0.0002, Val Loss: 0.0001\n",
      "Epoch 291/300\n"
     ]
    },
    {
     "name": "stderr",
     "output_type": "stream",
     "text": [
      "Training: 100%|█████████████████████████████| 1508/1508 [17:07<00:00,  1.47it/s]\n",
      "Validation: 100%|█████████████████████████████| 377/377 [03:21<00:00,  1.88it/s]\n"
     ]
    },
    {
     "name": "stdout",
     "output_type": "stream",
     "text": [
      "Train Loss: 0.0002, Val Loss: 0.0001\n",
      "Epoch 292/300\n"
     ]
    },
    {
     "name": "stderr",
     "output_type": "stream",
     "text": [
      "Training: 100%|█████████████████████████████| 1508/1508 [17:09<00:00,  1.47it/s]\n",
      "Validation: 100%|█████████████████████████████| 377/377 [03:28<00:00,  1.81it/s]\n"
     ]
    },
    {
     "name": "stdout",
     "output_type": "stream",
     "text": [
      "Train Loss: 0.0002, Val Loss: 0.0001\n",
      "Epoch 293/300\n"
     ]
    },
    {
     "name": "stderr",
     "output_type": "stream",
     "text": [
      "Training: 100%|█████████████████████████████| 1508/1508 [17:15<00:00,  1.46it/s]\n",
      "Validation: 100%|█████████████████████████████| 377/377 [03:21<00:00,  1.87it/s]\n"
     ]
    },
    {
     "name": "stdout",
     "output_type": "stream",
     "text": [
      "Train Loss: 0.0002, Val Loss: 0.0001\n",
      "Epoch 294/300\n"
     ]
    },
    {
     "name": "stderr",
     "output_type": "stream",
     "text": [
      "Training: 100%|█████████████████████████████| 1508/1508 [17:15<00:00,  1.46it/s]\n",
      "Validation: 100%|█████████████████████████████| 377/377 [03:27<00:00,  1.82it/s]\n"
     ]
    },
    {
     "name": "stdout",
     "output_type": "stream",
     "text": [
      "Train Loss: 0.0002, Val Loss: 0.0001\n",
      "Epoch 295/300\n"
     ]
    },
    {
     "name": "stderr",
     "output_type": "stream",
     "text": [
      "Training: 100%|█████████████████████████████| 1508/1508 [17:12<00:00,  1.46it/s]\n",
      "Validation: 100%|█████████████████████████████| 377/377 [03:26<00:00,  1.83it/s]\n"
     ]
    },
    {
     "name": "stdout",
     "output_type": "stream",
     "text": [
      "Train Loss: 0.0002, Val Loss: 0.0001\n",
      "Epoch 296/300\n"
     ]
    },
    {
     "name": "stderr",
     "output_type": "stream",
     "text": [
      "Training: 100%|█████████████████████████████| 1508/1508 [17:04<00:00,  1.47it/s]\n",
      "Validation: 100%|█████████████████████████████| 377/377 [03:26<00:00,  1.83it/s]\n"
     ]
    },
    {
     "name": "stdout",
     "output_type": "stream",
     "text": [
      "Train Loss: 0.0002, Val Loss: 0.0001\n",
      "Epoch 297/300\n"
     ]
    },
    {
     "name": "stderr",
     "output_type": "stream",
     "text": [
      "Training: 100%|█████████████████████████████| 1508/1508 [17:05<00:00,  1.47it/s]\n",
      "Validation: 100%|█████████████████████████████| 377/377 [03:19<00:00,  1.89it/s]\n"
     ]
    },
    {
     "name": "stdout",
     "output_type": "stream",
     "text": [
      "Train Loss: 0.0002, Val Loss: 0.0001\n",
      "Epoch 298/300\n"
     ]
    },
    {
     "name": "stderr",
     "output_type": "stream",
     "text": [
      "Training: 100%|█████████████████████████████| 1508/1508 [17:14<00:00,  1.46it/s]\n",
      "Validation: 100%|█████████████████████████████| 377/377 [03:27<00:00,  1.81it/s]\n"
     ]
    },
    {
     "name": "stdout",
     "output_type": "stream",
     "text": [
      "Train Loss: 0.0002, Val Loss: 0.0001\n",
      "Epoch 299/300\n"
     ]
    },
    {
     "name": "stderr",
     "output_type": "stream",
     "text": [
      "Training: 100%|█████████████████████████████| 1508/1508 [17:08<00:00,  1.47it/s]\n",
      "Validation: 100%|█████████████████████████████| 377/377 [03:27<00:00,  1.82it/s]\n"
     ]
    },
    {
     "name": "stdout",
     "output_type": "stream",
     "text": [
      "Train Loss: 0.0002, Val Loss: 0.0001\n",
      "Epoch 300/300\n"
     ]
    },
    {
     "name": "stderr",
     "output_type": "stream",
     "text": [
      "Training: 100%|█████████████████████████████| 1508/1508 [17:12<00:00,  1.46it/s]\n",
      "Validation: 100%|█████████████████████████████| 377/377 [03:27<00:00,  1.82it/s]"
     ]
    },
    {
     "name": "stdout",
     "output_type": "stream",
     "text": [
      "Train Loss: 0.0002, Val Loss: 0.0001\n"
     ]
    },
    {
     "name": "stderr",
     "output_type": "stream",
     "text": [
      "\n"
     ]
    }
   ],
   "source": [
    "# 학습 루프\n",
    "scaler = GradScaler()\n",
    "writer = SummaryWriter('unet_runs/unet_pretraining')\n",
    "epochs = 300\n",
    "for epoch in range(epochs):\n",
    "    print(f\"Epoch {epoch + 1}/{epochs}\")\n",
    "    \n",
    "    train_loss = train_epoch(train_loader, unet_model, criterion, optimizer)\n",
    "    val_loss = validate_epoch(val_loader, unet_model, criterion, epoch + 1)\n",
    "\n",
    "    scheduler.step()\n",
    "\n",
    "    print(f\"Train Loss: {train_loss:.4f}, Val Loss: {val_loss:.4f}\")\n",
    "    \n",
    "    if (epoch + 1) % 10 == 0:\n",
    "        writer.add_scalar('Loss/Train', train_loss, epoch + 1)\n",
    "        writer.add_scalar('Loss/Validation', val_loss, epoch + 1)\n",
    "\n",
    "    torch.cuda.empty_cache()\n",
    "\n",
    "writer.close()"
   ]
  },
  {
   "cell_type": "code",
   "execution_count": 8,
   "id": "54f7b222-a33c-4a4c-bedd-7244aba81283",
   "metadata": {},
   "outputs": [
    {
     "name": "stdout",
     "output_type": "stream",
     "text": [
      "Pretrained model saved.\n"
     ]
    }
   ],
   "source": [
    "# Pretraining 완료 후 저장\n",
    "torch.save({\n",
    "    'model_state_dict': unet_model.state_dict(),\n",
    "    'optimizer_state_dict': optimizer.state_dict(),\n",
    "    'epoch': epoch\n",
    "}, \"pretrained_unet.pth\")\n",
    "\n",
    "print(\"Pretrained model saved.\")"
   ]
  },
  {
   "cell_type": "code",
   "execution_count": 10,
   "id": "da9b2f1a-2c4c-4956-905b-21fbfa614713",
   "metadata": {},
   "outputs": [
    {
     "name": "stdout",
     "output_type": "stream",
     "text": [
      "All training states saved.\n"
     ]
    }
   ],
   "source": [
    "torch.save({\n",
    "    'model_state_dict': unet_model.state_dict(),\n",
    "    'optimizer_state_dict': optimizer.state_dict(),\n",
    "    'scheduler_state_dict': scheduler.state_dict(),\n",
    "    'epoch': epoch\n",
    "}, \"trained_unet_full_checkpoint.pth\")\n",
    "\n",
    "print(\"All training states saved.\")\n"
   ]
  },
  {
   "cell_type": "code",
   "execution_count": 11,
   "id": "0b97e57d-e6e0-4d6a-ac3f-85ac54d35ede",
   "metadata": {},
   "outputs": [],
   "source": [
    "torch.save(unet_model.state_dict(), 'pre_unet.pth')"
   ]
  },
  {
   "cell_type": "code",
   "execution_count": 13,
   "id": "6f6424fa-6049-420a-8f88-b13fb74b47aa",
   "metadata": {},
   "outputs": [
    {
     "name": "stdout",
     "output_type": "stream",
     "text": [
      "RGB 이미지 로드 성공: ../data/images1024x1024/00000/00000.png\n",
      "Depth 이미지 로드 성공: ../data/depth_masking/00000/00000.png\n",
      "Label 이미지 로드 성공: ../data/weak_wrinkle_masks/00000/00000.png\n"
     ]
    }
   ],
   "source": [
    "from PIL import Image\n",
    "\n",
    "# 샘플 이미지 로드 테스트\n",
    "try:\n",
    "    img = Image.open(rgb_paths[0])\n",
    "    print(\"RGB 이미지 로드 성공:\", rgb_paths[0])\n",
    "except Exception as e:\n",
    "    print(\"RGB 이미지 로드 실패:\", rgb_paths[0], e)\n",
    "\n",
    "try:\n",
    "    img = Image.open(depth_paths[0])\n",
    "    print(\"Depth 이미지 로드 성공:\", depth_paths[0])\n",
    "except Exception as e:\n",
    "    print(\"Depth 이미지 로드 실패:\", depth_paths[0], e)\n",
    "\n",
    "try:\n",
    "    img = Image.open(label_paths[0])\n",
    "    print(\"Label 이미지 로드 성공:\", label_paths[0])\n",
    "except Exception as e:\n",
    "    print(\"Label 이미지 로드 실패:\", label_paths[0], e)\n"
   ]
  },
  {
   "cell_type": "code",
   "execution_count": 11,
   "id": "e35fa887-bbde-466a-b632-595e537115a7",
   "metadata": {
    "scrolled": true
   },
   "outputs": [
    {
     "name": "stdout",
     "output_type": "stream",
     "text": [
      "샘플 0:\n",
      "  RGB 파일: 00000.png\n",
      "  Depth 파일: 00000.png\n",
      "  Label 파일: 00000.png\n",
      "샘플 1:\n",
      "  RGB 파일: 00002.png\n",
      "  Depth 파일: 00002.png\n",
      "  Label 파일: 00002.png\n",
      "샘플 2:\n",
      "  RGB 파일: 00003.png\n",
      "  Depth 파일: 00003.png\n",
      "  Label 파일: 00003.png\n",
      "샘플 3:\n",
      "  RGB 파일: 00004.png\n",
      "  Depth 파일: 00004.png\n",
      "  Label 파일: 00004.png\n",
      "샘플 4:\n",
      "  RGB 파일: 00005.png\n",
      "  Depth 파일: 00005.png\n",
      "  Label 파일: 00005.png\n"
     ]
    }
   ],
   "source": [
    "for i in range(5):\n",
    "    rgb_file = os.path.basename(rgb_paths[i])\n",
    "    depth_file = os.path.basename(depth_paths[i])\n",
    "    label_file = os.path.basename(label_paths[i])\n",
    "    print(f\"샘플 {i}:\")\n",
    "    print(f\"  RGB 파일: {rgb_file}\")\n",
    "    print(f\"  Depth 파일: {depth_file}\")\n",
    "    print(f\"  Label 파일: {label_file}\")\n"
   ]
  },
  {
   "cell_type": "code",
   "execution_count": 16,
   "id": "69712cae-7c13-41bf-a740-a0aebd839bc4",
   "metadata": {},
   "outputs": [
    {
     "data": {
      "image/png": "[encoded data removed]",
      "text/plain": [
       "<Figure size 1500x500 with 3 Axes>"
      ]
     },
     "metadata": {},
     "output_type": "display_data"
    }
   ],
   "source": [
    "import matplotlib.pyplot as plt\n",
    "\n",
    "# 샘플 이미지 시각화\n",
    "def show_sample(idx):\n",
    "    rgb_image = np.array(Image.open(rgb_paths[idx]).convert(\"RGB\"))\n",
    "    depth_image = np.array(Image.open(depth_paths[idx]).convert(\"L\"))\n",
    "    label_image = np.array(Image.open(label_paths[idx]).convert(\"L\"))\n",
    "\n",
    "    fig, axs = plt.subplots(1, 3, figsize=(15, 5))\n",
    "    axs[0].imshow(rgb_image)\n",
    "    axs[0].set_title('RGB Image')\n",
    "    axs[0].axis('off')\n",
    "\n",
    "    axs[1].imshow(depth_image, cmap='gray')\n",
    "    axs[1].set_title('Depth Image')\n",
    "    axs[1].axis('off')\n",
    "\n",
    "    axs[2].imshow(label_image, cmap='gray')\n",
    "    axs[2].set_title('Label (Masked Texture Map)')\n",
    "    axs[2].axis('off')\n",
    "\n",
    "    plt.show()\n",
    "\n",
    "# 첫 번째 샘플 시각화\n",
    "show_sample(4)\n"
   ]
  },
  {
   "cell_type": "markdown",
   "id": "f708f33b-2110-4b83-9f20-4132604d7ec7",
   "metadata": {},
   "source": [
    "## Fine-tunning"
   ]
  },
  {
   "cell_type": "code",
   "execution_count": null,
   "id": "6c25c53b-39ec-47fe-ab2e-6d35d9800ef4",
   "metadata": {},
   "outputs": [],
   "source": [
    "# Fine-tuning을 위한 UNet 모델 생성\n",
    "unet_model = create_model(\n",
    "    model_type=\"unet\",\n",
    "    in_channels=5,   # 입력 채널 수: RGB(3) + Depth(1) + Weak Texture Map(1)\n",
    "    out_channels=2   # 출력 채널 수: Wrinkle(1) + Background(1)\n",
    ").cuda()\n"
   ]
  },
  {
   "cell_type": "code",
   "execution_count": null,
   "id": "727eb5b7-30d8-4ddf-a0ce-6421ea591c19",
   "metadata": {},
   "outputs": [],
   "source": [
    "# Pretrained 모델 로드\n",
    "checkpoint = torch.load('pretrained_unet.pth')\n",
    "unet_model.load_state_dict(checkpoint['model_state_dict'])\n"
   ]
  },
  {
   "cell_type": "code",
   "execution_count": null,
   "id": "1c5c7dd5-4581-488b-a999-c91c9c205355",
   "metadata": {},
   "outputs": [],
   "source": [
    "class WrinkleDatasetFineTune(Dataset):\n",
    "    def __init__(self, rgb_dir, depth_dir, weak_texture_dir, label_dir, file_names=None, transform=None):\n",
    "        self.rgb_dir = rgb_dir\n",
    "        self.depth_dir = depth_dir\n",
    "        self.weak_texture_dir = weak_texture_dir\n",
    "        self.label_dir = label_dir\n",
    "        if file_names is None:\n",
    "            self.file_names = sorted(os.listdir(rgb_dir))\n",
    "        else:\n",
    "            self.file_names = file_names\n",
    "        self.transform = transform\n",
    "\n",
    "    def __len__(self):\n",
    "        return len(self.file_names)\n",
    "\n",
    "    def __getitem__(self, idx):\n",
    "        file_name = self.file_names[idx]\n",
    "\n",
    "        # RGB 이미지 로드\n",
    "        rgb_image = np.array(Image.open(os.path.join(self.rgb_dir, file_name)).convert(\"RGB\"))\n",
    "\n",
    "        # Depth 이미지 로드\n",
    "        depth_image = np.array(Image.open(os.path.join(self.depth_dir, file_name)).convert(\"L\"))\n",
    "        depth_image = np.expand_dims(depth_image, axis=-1)  # (H, W, 1)\n",
    "\n",
    "        # Weak Texture Map 로드\n",
    "        weak_texture = np.array(Image.open(os.path.join(self.weak_texture_dir, file_name)).convert(\"L\"))\n",
    "        weak_texture = np.expand_dims(weak_texture, axis=-1)  # (H, W, 1)\n",
    "\n",
    "        # 5채널 입력 생성\n",
    "        input_image = np.concatenate((rgb_image, depth_image, weak_texture), axis=-1)  # (H, W, 5)\n",
    "\n",
    "        # Ground Truth 주름 마스크 로드\n",
    "        label = np.array(Image.open(os.path.join(self.label_dir, file_name)).convert(\"L\"))\n",
    "\n",
    "        # Transform 적용\n",
    "        if self.transform:\n",
    "            augmented = self.transform(image=input_image, mask=label)\n",
    "            input_image = augmented['image']\n",
    "            label = augmented['mask']\n",
    "        else:\n",
    "            # ToTensor 변환\n",
    "            input_image = ToTensorV2()(image=input_image)['image']\n",
    "            label = ToTensorV2()(image=label)['image']\n",
    "\n",
    "        return input_image, label\n"
   ]
  },
  {
   "cell_type": "code",
   "execution_count": null,
   "id": "d264522e-0cc8-4d29-b363-5be42e715880",
   "metadata": {},
   "outputs": [],
   "source": [
    "def get_augmentations():\n",
    "    return A.Compose([\n",
    "        A.HorizontalFlip(p=0.5),\n",
    "        A.ShiftScaleRotate(shift_limit=0.1, scale_limit=0.1, rotate_limit=15, p=0.5),\n",
    "        A.ElasticTransform(alpha=1, sigma=50, alpha_affine=50, p=0.2),\n",
    "        A.GridDistortion(num_steps=5, distort_limit=0.3, p=0.2),\n",
    "        A.OpticalDistortion(distort_limit=0.5, shift_limit=0.5, p=0.2),\n",
    "        A.Affine(scale=(0.8, 1.2), translate_percent=(0.1, 0.1), rotate=(-15, 15), shear=(-10, 10), p=0.5),\n",
    "        A.Normalize(mean=(0.485, 0.456, 0.406, 0.5, 0.5), std=(0.229, 0.224, 0.225, 0.25, 0.25)),  # 채널별로 설정\n",
    "        ToTensorV2()\n",
    "    ])\n"
   ]
  },
  {
   "cell_type": "code",
   "execution_count": null,
   "id": "22318074-f801-4e2d-84cd-cced3e24e3a0",
   "metadata": {},
   "outputs": [],
   "source": [
    "# 데이터 경로 설정\n",
    "rgb_dir = \"../data/images1024x1024\"\n",
    "depth_dir = \"../data/depth_masking\"\n",
    "weak_texture_dir = \"../data/weak_wrinkle_masks\"\n",
    "label_dir = \"../data/ground_truth_wrinkle_masks\"\n",
    "\n",
    "# 파일 이름 리스트 가져오기 (Pretraining과 동일하게)\n",
    "# ...\n",
    "\n",
    "# 변환 정의\n",
    "train_transform = get_augmentations_finetune()\n",
    "val_transform = A.Compose([\n",
    "    A.Normalize(mean=(0.485, 0.456, 0.406, 0.5, 0.5), std=(0.229, 0.224, 0.225, 0.25, 0.25)),\n",
    "    ToTensorV2()\n",
    "])\n",
    "\n",
    "# 데이터셋 생성\n",
    "train_dataset = WrinkleDatasetFineTune(rgb_dir, depth_dir, weak_texture_dir, label_dir, file_names=train_file_names, transform=train_transform)\n",
    "val_dataset = WrinkleDatasetFineTune(rgb_dir, depth_dir, weak_texture_dir, label_dir, file_names=val_file_names, transform=val_transform)\n",
    "\n",
    "# 데이터로더 생성\n",
    "train_loader = DataLoader(train_dataset, batch_size=14, shuffle=True, num_workers=4)\n",
    "val_loader = DataLoader(val_dataset, batch_size=14, shuffle=False, num_workers=4)\n"
   ]
  },
  {
   "cell_type": "code",
   "execution_count": null,
   "id": "e4170214-d37c-45ab-b762-fc29f1c4d02a",
   "metadata": {},
   "outputs": [],
   "source": [
    "# Soft Dice Loss 정의\n",
    "class SoftDiceLoss(nn.Module):\n",
    "    def forward(self, logits, targets):\n",
    "        smooth = 1e-5\n",
    "\n",
    "        # 로짓에 소프트맥스 적용\n",
    "        logits = torch.softmax(logits, dim=1)\n",
    "        # 타겟을 one-hot 인코딩\n",
    "        targets = nn.functional.one_hot(targets.long(), num_classes=2).permute(0, 3, 1, 2).float()\n",
    "\n",
    "        intersection = torch.sum(logits * targets)\n",
    "        union = torch.sum(logits) + torch.sum(targets)\n",
    "\n",
    "        dice_score = (2 * intersection + smooth) / (union + smooth)\n",
    "        loss = 1 - dice_score\n",
    "\n",
    "        return loss\n",
    "\n",
    "criterion = SoftDiceLoss()\n"
   ]
  },
  {
   "cell_type": "code",
   "execution_count": null,
   "id": "52e175e8-26b9-4f65-9094-e52dc5b977fc",
   "metadata": {},
   "outputs": [],
   "source": [
    "optimizer = optim.AdamW(\n",
    "    unet_model.parameters(),\n",
    "    lr=0.0001,\n",
    "    weight_decay=0.05,\n",
    "    betas=(0.9, 0.999)\n",
    ")"
   ]
  },
  {
   "cell_type": "code",
   "execution_count": null,
   "id": "79dc8b71-4b66-4752-891c-22d2ff23c90d",
   "metadata": {},
   "outputs": [],
   "source": [
    "# 학습 루프\n",
    "epochs = 150  # 또는 300, 논문에 따라 설정\n",
    "for epoch in range(epochs):\n",
    "    print(f\"Epoch {epoch + 1}/{epochs}\")\n",
    "    \n",
    "    train_loss = train_epoch(train_loader, unet_model, criterion, optimizer)\n",
    "    val_loss = validate_epoch(val_loader, unet_model, criterion)\n",
    "    \n",
    "    scheduler.step(epoch + 1)\n",
    "    \n",
    "    print(f\"Train Loss: {train_loss:.4f}, Val Loss: {val_loss:.4f}\")\n"
   ]
  },
  {
   "cell_type": "code",
   "execution_count": 12,
   "id": "e79ac82f-2cc2-499f-b16c-c4d1d77ace52",
   "metadata": {},
   "outputs": [
    {
     "name": "stdout",
     "output_type": "stream",
     "text": [
      "model.0.conv.unit0.conv.weight: torch.Size([16, 4, 3, 3])\n",
      "model.0.conv.unit0.conv.bias: torch.Size([16])\n",
      "model.0.conv.unit0.adn.A.weight: torch.Size([1])\n",
      "model.0.conv.unit1.conv.weight: torch.Size([16, 16, 3, 3])\n",
      "model.0.conv.unit1.conv.bias: torch.Size([16])\n",
      "model.0.conv.unit1.adn.A.weight: torch.Size([1])\n",
      "model.0.residual.weight: torch.Size([16, 4, 3, 3])\n",
      "model.0.residual.bias: torch.Size([16])\n",
      "model.1.submodule.0.conv.unit0.conv.weight: torch.Size([32, 16, 3, 3])\n",
      "model.1.submodule.0.conv.unit0.conv.bias: torch.Size([32])\n",
      "model.1.submodule.0.conv.unit0.adn.A.weight: torch.Size([1])\n",
      "model.1.submodule.0.conv.unit1.conv.weight: torch.Size([32, 32, 3, 3])\n",
      "model.1.submodule.0.conv.unit1.conv.bias: torch.Size([32])\n",
      "model.1.submodule.0.conv.unit1.adn.A.weight: torch.Size([1])\n",
      "model.1.submodule.0.residual.weight: torch.Size([32, 16, 3, 3])\n",
      "model.1.submodule.0.residual.bias: torch.Size([32])\n",
      "model.1.submodule.1.submodule.0.conv.unit0.conv.weight: torch.Size([64, 32, 3, 3])\n",
      "model.1.submodule.1.submodule.0.conv.unit0.conv.bias: torch.Size([64])\n",
      "model.1.submodule.1.submodule.0.conv.unit0.adn.A.weight: torch.Size([1])\n",
      "model.1.submodule.1.submodule.0.conv.unit1.conv.weight: torch.Size([64, 64, 3, 3])\n",
      "model.1.submodule.1.submodule.0.conv.unit1.conv.bias: torch.Size([64])\n",
      "model.1.submodule.1.submodule.0.conv.unit1.adn.A.weight: torch.Size([1])\n",
      "model.1.submodule.1.submodule.0.residual.weight: torch.Size([64, 32, 3, 3])\n",
      "model.1.submodule.1.submodule.0.residual.bias: torch.Size([64])\n",
      "model.1.submodule.1.submodule.1.submodule.0.conv.unit0.conv.weight: torch.Size([128, 64, 3, 3])\n",
      "model.1.submodule.1.submodule.1.submodule.0.conv.unit0.conv.bias: torch.Size([128])\n",
      "model.1.submodule.1.submodule.1.submodule.0.conv.unit0.adn.A.weight: torch.Size([1])\n",
      "model.1.submodule.1.submodule.1.submodule.0.conv.unit1.conv.weight: torch.Size([128, 128, 3, 3])\n",
      "model.1.submodule.1.submodule.1.submodule.0.conv.unit1.conv.bias: torch.Size([128])\n",
      "model.1.submodule.1.submodule.1.submodule.0.conv.unit1.adn.A.weight: torch.Size([1])\n",
      "model.1.submodule.1.submodule.1.submodule.0.residual.weight: torch.Size([128, 64, 3, 3])\n",
      "model.1.submodule.1.submodule.1.submodule.0.residual.bias: torch.Size([128])\n",
      "model.1.submodule.1.submodule.1.submodule.1.submodule.conv.unit0.conv.weight: torch.Size([256, 128, 3, 3])\n",
      "model.1.submodule.1.submodule.1.submodule.1.submodule.conv.unit0.conv.bias: torch.Size([256])\n",
      "model.1.submodule.1.submodule.1.submodule.1.submodule.conv.unit0.adn.A.weight: torch.Size([1])\n",
      "model.1.submodule.1.submodule.1.submodule.1.submodule.conv.unit1.conv.weight: torch.Size([256, 256, 3, 3])\n",
      "model.1.submodule.1.submodule.1.submodule.1.submodule.conv.unit1.conv.bias: torch.Size([256])\n",
      "model.1.submodule.1.submodule.1.submodule.1.submodule.conv.unit1.adn.A.weight: torch.Size([1])\n",
      "model.1.submodule.1.submodule.1.submodule.1.submodule.residual.weight: torch.Size([256, 128, 1, 1])\n",
      "model.1.submodule.1.submodule.1.submodule.1.submodule.residual.bias: torch.Size([256])\n",
      "model.1.submodule.1.submodule.1.submodule.2.0.conv.weight: torch.Size([384, 64, 3, 3])\n",
      "model.1.submodule.1.submodule.1.submodule.2.0.conv.bias: torch.Size([64])\n",
      "model.1.submodule.1.submodule.1.submodule.2.0.adn.A.weight: torch.Size([1])\n",
      "model.1.submodule.1.submodule.1.submodule.2.1.conv.unit0.conv.weight: torch.Size([64, 64, 3, 3])\n",
      "model.1.submodule.1.submodule.1.submodule.2.1.conv.unit0.conv.bias: torch.Size([64])\n",
      "model.1.submodule.1.submodule.1.submodule.2.1.conv.unit0.adn.A.weight: torch.Size([1])\n",
      "model.1.submodule.1.submodule.2.0.conv.weight: torch.Size([128, 32, 3, 3])\n",
      "model.1.submodule.1.submodule.2.0.conv.bias: torch.Size([32])\n",
      "model.1.submodule.1.submodule.2.0.adn.A.weight: torch.Size([1])\n",
      "model.1.submodule.1.submodule.2.1.conv.unit0.conv.weight: torch.Size([32, 32, 3, 3])\n",
      "model.1.submodule.1.submodule.2.1.conv.unit0.conv.bias: torch.Size([32])\n",
      "model.1.submodule.1.submodule.2.1.conv.unit0.adn.A.weight: torch.Size([1])\n",
      "model.1.submodule.2.0.conv.weight: torch.Size([64, 16, 3, 3])\n",
      "model.1.submodule.2.0.conv.bias: torch.Size([16])\n",
      "model.1.submodule.2.0.adn.A.weight: torch.Size([1])\n",
      "model.1.submodule.2.1.conv.unit0.conv.weight: torch.Size([16, 16, 3, 3])\n",
      "model.1.submodule.2.1.conv.unit0.conv.bias: torch.Size([16])\n",
      "model.1.submodule.2.1.conv.unit0.adn.A.weight: torch.Size([1])\n",
      "model.2.0.conv.weight: torch.Size([32, 1, 3, 3])\n",
      "model.2.0.conv.bias: torch.Size([1])\n",
      "model.2.0.adn.A.weight: torch.Size([1])\n",
      "model.2.1.conv.unit0.conv.weight: torch.Size([1, 1, 3, 3])\n",
      "model.2.1.conv.unit0.conv.bias: torch.Size([1])\n"
     ]
    }
   ],
   "source": [
    "# 모델의 모든 레이어 이름과 크기 출력 (디버깅 용도)\n",
    "for name, param in unet_model.named_parameters():\n",
    "    print(f\"{name}: {param.shape}\")"
   ]
  },
  {
   "cell_type": "code",
   "execution_count": null,
   "id": "882d7330-e144-482e-bdb2-4bbeff978419",
   "metadata": {},
   "outputs": [],
   "source": []
  }
 ],
 "metadata": {
  "kernelspec": {
   "display_name": "monai_env",
   "language": "python",
   "name": "monai_env"
  },
  "language_info": {
   "codemirror_mode": {
    "name": "ipython",
    "version": 3
   },
   "file_extension": ".py",
   "mimetype": "text/x-python",
   "name": "python",
   "nbconvert_exporter": "python",
   "pygments_lexer": "ipython3",
   "version": "3.9.20"
  }
 },
 "nbformat": 4,
 "nbformat_minor": 5
}
